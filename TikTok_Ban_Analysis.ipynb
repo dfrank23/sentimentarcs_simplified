{
  "cells": [
    {
      "cell_type": "markdown",
      "metadata": {
        "id": "view-in-github",
        "colab_type": "text"
      },
      "source": [
        "<a href=\"https://colab.research.google.com/github/dfrank23/sentimentarcs_simplified/blob/main/TikTok_Ban_Analysis.ipynb\" target=\"_parent\"><img src=\"https://colab.research.google.com/assets/colab-badge.svg\" alt=\"Open In Colab\"/></a>"
      ]
    },
    {
      "cell_type": "markdown",
      "metadata": {
        "id": "uSec38dY4n0y"
      },
      "source": [
        "Jon Chun\n",
        "24 Oct 2021\n",
        "\n",
        "Adapted for Cleveland Sports By Daniel Frank"
      ]
    },
    {
      "cell_type": "markdown",
      "metadata": {
        "id": "3Y24MEWZczqs"
      },
      "source": [
        "# **Requirements**\n",
        "\n",
        "* Must use **Chrome** browser (esp not Safari)\n",
        "* Use only **plain text** files (no *.rtf, *.doc, etc)"
      ]
    },
    {
      "cell_type": "code",
      "source": [],
      "metadata": {
        "id": "ufx_qS__k-r4"
      },
      "execution_count": null,
      "outputs": []
    },
    {
      "cell_type": "markdown",
      "metadata": {
        "id": "6vcCvDsM_gKY"
      },
      "source": [
        "# **Setup and Configuration**"
      ]
    },
    {
      "cell_type": "code",
      "execution_count": 5,
      "metadata": {
        "colab": {
          "base_uri": "https://localhost:8080/"
        },
        "id": "AkM_l-q2-Ore",
        "outputId": "3d79346c-af70-4278-a03b-c05c85db1774"
      },
      "outputs": [
        {
          "output_type": "stream",
          "name": "stdout",
          "text": [
            "Cloning into 'text-preprocessing-techniques'...\n",
            "remote: Enumerating objects: 35, done.\u001b[K\n",
            "remote: Total 35 (delta 0), reused 0 (delta 0), pack-reused 35\u001b[K\n",
            "Unpacking objects: 100% (35/35), done.\n",
            "/content/text-preprocessing-techniques\n",
            "total 6720\n",
            "drwxr-xr-x 1 root root    4096 Dec 16 17:52 ..\n",
            "-rw-r--r-- 1 root root    2157 Dec 16 17:52 README.md\n",
            "-rw-r--r-- 1 root root    8174 Dec 16 17:52 preprocess.py\n",
            "-rw-r--r-- 1 root root 6617121 Dec 16 17:52 corporaForSpellCorrection.txt\n",
            "-rw-r--r-- 1 root root    5181 Dec 16 17:52 slang.txt\n",
            "-rw-r--r-- 1 root root    8009 Dec 16 17:52 techniques.py\n",
            "-rw-r--r-- 1 root root  220883 Dec 16 17:52 ss-twitterfinal.txt\n",
            "drwxr-xr-x 8 root root    4096 Dec 16 17:52 .git\n",
            "drwxr-xr-x 3 root root    4096 Dec 16 17:52 .\n"
          ]
        }
      ],
      "source": [
        "!git clone https://github.com/Deffro/text-preprocessing-techniques.git\n",
        "%cd text-preprocessing-techniques\n",
        "!ls -altr"
      ]
    },
    {
      "cell_type": "code",
      "source": [
        "!pip install -U pandas"
      ],
      "metadata": {
        "colab": {
          "base_uri": "https://localhost:8080/"
        },
        "id": "nk1RJKrx6Drr",
        "outputId": "3e70da04-870b-4cda-b935-f22394b0820a"
      },
      "execution_count": 6,
      "outputs": [
        {
          "output_type": "stream",
          "name": "stdout",
          "text": [
            "Looking in indexes: https://pypi.org/simple, https://us-python.pkg.dev/colab-wheels/public/simple/\n",
            "Requirement already satisfied: pandas in /usr/local/lib/python3.8/dist-packages (1.3.5)\n",
            "Collecting pandas\n",
            "  Downloading pandas-1.5.2-cp38-cp38-manylinux_2_17_x86_64.manylinux2014_x86_64.whl (12.2 MB)\n",
            "\u001b[K     |████████████████████████████████| 12.2 MB 5.2 MB/s \n",
            "\u001b[?25hRequirement already satisfied: python-dateutil>=2.8.1 in /usr/local/lib/python3.8/dist-packages (from pandas) (2.8.2)\n",
            "Requirement already satisfied: pytz>=2020.1 in /usr/local/lib/python3.8/dist-packages (from pandas) (2022.6)\n",
            "Requirement already satisfied: numpy>=1.20.3 in /usr/local/lib/python3.8/dist-packages (from pandas) (1.21.6)\n",
            "Requirement already satisfied: six>=1.5 in /usr/local/lib/python3.8/dist-packages (from python-dateutil>=2.8.1->pandas) (1.15.0)\n",
            "Installing collected packages: pandas\n",
            "  Attempting uninstall: pandas\n",
            "    Found existing installation: pandas 1.3.5\n",
            "    Uninstalling pandas-1.3.5:\n",
            "      Successfully uninstalled pandas-1.3.5\n",
            "Successfully installed pandas-1.5.2\n"
          ]
        }
      ]
    },
    {
      "cell_type": "code",
      "execution_count": 7,
      "metadata": {
        "colab": {
          "base_uri": "https://localhost:8080/"
        },
        "id": "fzrydP-9gzjX",
        "outputId": "d0bf3ba0-24cb-48b5-fba0-4fe3d80303de"
      },
      "outputs": [
        {
          "output_type": "stream",
          "name": "stdout",
          "text": [
            "Looking in indexes: https://pypi.org/simple, https://us-python.pkg.dev/colab-wheels/public/simple/\n",
            "Collecting transformers\n",
            "  Downloading transformers-4.25.1-py3-none-any.whl (5.8 MB)\n",
            "\u001b[K     |████████████████████████████████| 5.8 MB 5.1 MB/s \n",
            "\u001b[?25hCollecting tokenizers!=0.11.3,<0.14,>=0.11.1\n",
            "  Downloading tokenizers-0.13.2-cp38-cp38-manylinux_2_17_x86_64.manylinux2014_x86_64.whl (7.6 MB)\n",
            "\u001b[K     |████████████████████████████████| 7.6 MB 64.6 MB/s \n",
            "\u001b[?25hRequirement already satisfied: requests in /usr/local/lib/python3.8/dist-packages (from transformers) (2.23.0)\n",
            "Requirement already satisfied: packaging>=20.0 in /usr/local/lib/python3.8/dist-packages (from transformers) (21.3)\n",
            "Requirement already satisfied: filelock in /usr/local/lib/python3.8/dist-packages (from transformers) (3.8.0)\n",
            "Requirement already satisfied: numpy>=1.17 in /usr/local/lib/python3.8/dist-packages (from transformers) (1.21.6)\n",
            "Requirement already satisfied: tqdm>=4.27 in /usr/local/lib/python3.8/dist-packages (from transformers) (4.64.1)\n",
            "Requirement already satisfied: regex!=2019.12.17 in /usr/local/lib/python3.8/dist-packages (from transformers) (2022.6.2)\n",
            "Collecting huggingface-hub<1.0,>=0.10.0\n",
            "  Downloading huggingface_hub-0.11.1-py3-none-any.whl (182 kB)\n",
            "\u001b[K     |████████████████████████████████| 182 kB 49.8 MB/s \n",
            "\u001b[?25hRequirement already satisfied: pyyaml>=5.1 in /usr/local/lib/python3.8/dist-packages (from transformers) (6.0)\n",
            "Requirement already satisfied: typing-extensions>=3.7.4.3 in /usr/local/lib/python3.8/dist-packages (from huggingface-hub<1.0,>=0.10.0->transformers) (4.4.0)\n",
            "Requirement already satisfied: pyparsing!=3.0.5,>=2.0.2 in /usr/local/lib/python3.8/dist-packages (from packaging>=20.0->transformers) (3.0.9)\n",
            "Requirement already satisfied: chardet<4,>=3.0.2 in /usr/local/lib/python3.8/dist-packages (from requests->transformers) (3.0.4)\n",
            "Requirement already satisfied: urllib3!=1.25.0,!=1.25.1,<1.26,>=1.21.1 in /usr/local/lib/python3.8/dist-packages (from requests->transformers) (1.24.3)\n",
            "Requirement already satisfied: idna<3,>=2.5 in /usr/local/lib/python3.8/dist-packages (from requests->transformers) (2.10)\n",
            "Requirement already satisfied: certifi>=2017.4.17 in /usr/local/lib/python3.8/dist-packages (from requests->transformers) (2022.9.24)\n",
            "Installing collected packages: tokenizers, huggingface-hub, transformers\n",
            "Successfully installed huggingface-hub-0.11.1 tokenizers-0.13.2 transformers-4.25.1\n"
          ]
        }
      ],
      "source": [
        "!pip install transformers"
      ]
    },
    {
      "cell_type": "code",
      "execution_count": 8,
      "metadata": {
        "colab": {
          "base_uri": "https://localhost:8080/"
        },
        "id": "-mWoG6U07jU3",
        "outputId": "e42c1917-1302-4242-d672-c9708e703717"
      },
      "outputs": [
        {
          "output_type": "stream",
          "name": "stdout",
          "text": [
            "Looking in indexes: https://pypi.org/simple, https://us-python.pkg.dev/colab-wheels/public/simple/\n",
            "Collecting clean-text\n",
            "  Downloading clean_text-0.6.0-py3-none-any.whl (11 kB)\n",
            "Collecting ftfy<7.0,>=6.0\n",
            "  Downloading ftfy-6.1.1-py3-none-any.whl (53 kB)\n",
            "\u001b[K     |████████████████████████████████| 53 kB 1.4 MB/s \n",
            "\u001b[?25hCollecting emoji<2.0.0,>=1.0.0\n",
            "  Downloading emoji-1.7.0.tar.gz (175 kB)\n",
            "\u001b[K     |████████████████████████████████| 175 kB 9.7 MB/s \n",
            "\u001b[?25hRequirement already satisfied: wcwidth>=0.2.5 in /usr/local/lib/python3.8/dist-packages (from ftfy<7.0,>=6.0->clean-text) (0.2.5)\n",
            "Building wheels for collected packages: emoji\n",
            "  Building wheel for emoji (setup.py) ... \u001b[?25l\u001b[?25hdone\n",
            "  Created wheel for emoji: filename=emoji-1.7.0-py3-none-any.whl size=171046 sha256=6b347c38ee02aedff8d0edda6f49e5ef30b032bf4f546c756a4812c5e115353c\n",
            "  Stored in directory: /root/.cache/pip/wheels/5e/8c/80/c3646df8201ba6f5070297fe3779a4b70265d0bfd961c15302\n",
            "Successfully built emoji\n",
            "Installing collected packages: ftfy, emoji, clean-text\n",
            "Successfully installed clean-text-0.6.0 emoji-1.7.0 ftfy-6.1.1\n"
          ]
        }
      ],
      "source": [
        "!pip install clean-text"
      ]
    },
    {
      "cell_type": "code",
      "execution_count": 9,
      "metadata": {
        "colab": {
          "base_uri": "https://localhost:8080/"
        },
        "id": "w8TQCzw6ZjTA",
        "outputId": "bfdcdc09-c5a5-42fa-a62c-d5da0ddcfca3"
      },
      "outputs": [
        {
          "output_type": "stream",
          "name": "stdout",
          "text": [
            "Looking in indexes: https://pypi.org/simple, https://us-python.pkg.dev/colab-wheels/public/simple/\n",
            "Collecting unidecode\n",
            "  Downloading Unidecode-1.3.6-py3-none-any.whl (235 kB)\n",
            "\u001b[K     |████████████████████████████████| 235 kB 5.2 MB/s \n",
            "\u001b[?25hInstalling collected packages: unidecode\n",
            "Successfully installed unidecode-1.3.6\n"
          ]
        }
      ],
      "source": [
        "# This library contains a function that takes a string object, possibly containing non-ASCII characters, and returns a string\n",
        "\n",
        "!pip install unidecode  # clean-text dependency\n",
        "\n",
        "# Dealing with encodings\n",
        "# import binascii\n",
        "\n",
        "# !pip install chardet\n",
        "# import chardet"
      ]
    },
    {
      "cell_type": "code",
      "execution_count": 10,
      "metadata": {
        "colab": {
          "base_uri": "https://localhost:8080/"
        },
        "id": "YvixNvNVvIbr",
        "outputId": "9b38aa1e-66ab-40c6-88b1-0f1db465e889"
      },
      "outputs": [
        {
          "output_type": "stream",
          "name": "stdout",
          "text": [
            "Looking in indexes: https://pypi.org/simple, https://us-python.pkg.dev/colab-wheels/public/simple/\n",
            "Collecting contractions\n",
            "  Downloading contractions-0.1.73-py2.py3-none-any.whl (8.7 kB)\n",
            "Collecting textsearch>=0.0.21\n",
            "  Downloading textsearch-0.0.24-py2.py3-none-any.whl (7.6 kB)\n",
            "Collecting pyahocorasick\n",
            "  Downloading pyahocorasick-1.4.4-cp38-cp38-manylinux_2_17_x86_64.manylinux2014_x86_64.whl (110 kB)\n",
            "\u001b[K     |████████████████████████████████| 110 kB 5.0 MB/s \n",
            "\u001b[?25hCollecting anyascii\n",
            "  Downloading anyascii-0.3.1-py3-none-any.whl (287 kB)\n",
            "\u001b[K     |████████████████████████████████| 287 kB 17.1 MB/s \n",
            "\u001b[?25hInstalling collected packages: pyahocorasick, anyascii, textsearch, contractions\n",
            "Successfully installed anyascii-0.3.1 contractions-0.1.73 pyahocorasick-1.4.4 textsearch-0.0.24\n"
          ]
        }
      ],
      "source": [
        "!pip install contractions"
      ]
    },
    {
      "cell_type": "code",
      "execution_count": 11,
      "metadata": {
        "colab": {
          "base_uri": "https://localhost:8080/"
        },
        "id": "PsNyPo1XaQO9",
        "outputId": "395e918c-bb2f-4e22-bb25-605309d5dd19"
      },
      "outputs": [
        {
          "output_type": "stream",
          "name": "stdout",
          "text": [
            "Looking in indexes: https://pypi.org/simple, https://us-python.pkg.dev/colab-wheels/public/simple/\n",
            "Requirement already satisfied: python-slugify in /usr/local/lib/python3.8/dist-packages (7.0.0)\n",
            "Requirement already satisfied: text-unidecode>=1.3 in /usr/local/lib/python3.8/dist-packages (from python-slugify) (1.3)\n"
          ]
        }
      ],
      "source": [
        "!pip install python-slugify"
      ]
    },
    {
      "cell_type": "code",
      "execution_count": 12,
      "metadata": {
        "colab": {
          "base_uri": "https://localhost:8080/"
        },
        "id": "0FYGJMf565-3",
        "outputId": "0d58627c-9e1b-4a01-eb8b-f3ec5103ef6f"
      },
      "outputs": [
        {
          "output_type": "stream",
          "name": "stdout",
          "text": [
            "Looking in indexes: https://pypi.org/simple, https://us-python.pkg.dev/colab-wheels/public/simple/\n",
            "Collecting arrow\n",
            "  Downloading arrow-1.2.3-py3-none-any.whl (66 kB)\n",
            "\u001b[K     |████████████████████████████████| 66 kB 2.7 MB/s \n",
            "\u001b[?25hRequirement already satisfied: python-dateutil>=2.7.0 in /usr/local/lib/python3.8/dist-packages (from arrow) (2.8.2)\n",
            "Requirement already satisfied: six>=1.5 in /usr/local/lib/python3.8/dist-packages (from python-dateutil>=2.7.0->arrow) (1.15.0)\n",
            "Installing collected packages: arrow\n",
            "Successfully installed arrow-1.2.3\n"
          ]
        }
      ],
      "source": [
        "!pip install arrow"
      ]
    },
    {
      "cell_type": "code",
      "execution_count": 13,
      "metadata": {
        "colab": {
          "base_uri": "https://localhost:8080/"
        },
        "id": "D779bVXnWWBE",
        "outputId": "94b3d7b2-b72f-4462-f0a0-a3f93ee74f22"
      },
      "outputs": [
        {
          "output_type": "stream",
          "name": "stdout",
          "text": [
            "Looking in indexes: https://pypi.org/simple, https://us-python.pkg.dev/colab-wheels/public/simple/\n",
            "Collecting snscrape\n",
            "  Downloading snscrape-0.4.3.20220106-py3-none-any.whl (59 kB)\n",
            "\u001b[K     |████████████████████████████████| 59 kB 3.0 MB/s \n",
            "\u001b[?25hRequirement already satisfied: pytz in /usr/local/lib/python3.8/dist-packages (from snscrape) (2022.6)\n",
            "Requirement already satisfied: filelock in /usr/local/lib/python3.8/dist-packages (from snscrape) (3.8.0)\n",
            "Requirement already satisfied: beautifulsoup4 in /usr/local/lib/python3.8/dist-packages (from snscrape) (4.6.3)\n",
            "Requirement already satisfied: lxml in /usr/local/lib/python3.8/dist-packages (from snscrape) (4.9.1)\n",
            "Requirement already satisfied: requests[socks] in /usr/local/lib/python3.8/dist-packages (from snscrape) (2.23.0)\n",
            "Requirement already satisfied: idna<3,>=2.5 in /usr/local/lib/python3.8/dist-packages (from requests[socks]->snscrape) (2.10)\n",
            "Requirement already satisfied: chardet<4,>=3.0.2 in /usr/local/lib/python3.8/dist-packages (from requests[socks]->snscrape) (3.0.4)\n",
            "Requirement already satisfied: certifi>=2017.4.17 in /usr/local/lib/python3.8/dist-packages (from requests[socks]->snscrape) (2022.9.24)\n",
            "Requirement already satisfied: urllib3!=1.25.0,!=1.25.1,<1.26,>=1.21.1 in /usr/local/lib/python3.8/dist-packages (from requests[socks]->snscrape) (1.24.3)\n",
            "Requirement already satisfied: PySocks!=1.5.7,>=1.5.6 in /usr/local/lib/python3.8/dist-packages (from requests[socks]->snscrape) (1.7.1)\n",
            "Installing collected packages: snscrape\n",
            "Successfully installed snscrape-0.4.3.20220106\n"
          ]
        }
      ],
      "source": [
        "!pip install snscrape"
      ]
    },
    {
      "cell_type": "code",
      "execution_count": 14,
      "metadata": {
        "colab": {
          "base_uri": "https://localhost:8080/"
        },
        "id": "O--7tFNBDiBI",
        "outputId": "158d5176-4254-4d35-8a37-783d92771a23"
      },
      "outputs": [
        {
          "output_type": "stream",
          "name": "stdout",
          "text": [
            "Looking in indexes: https://pypi.org/simple, https://us-python.pkg.dev/colab-wheels/public/simple/\n",
            "Collecting emoticon-fix\n",
            "  Downloading emoticon_fix-0.0.2.tar.gz (3.1 kB)\n",
            "Building wheels for collected packages: emoticon-fix\n",
            "  Building wheel for emoticon-fix (setup.py) ... \u001b[?25l\u001b[?25hdone\n",
            "  Created wheel for emoticon-fix: filename=emoticon_fix-0.0.2-py3-none-any.whl size=3448 sha256=d4d648228aed7c2b8fed71a0fea6a8ba63b9134bdc214e9c1dd16e56e37a8648\n",
            "  Stored in directory: /root/.cache/pip/wheels/a1/c9/0c/df1f040fdda294413121bf278d88dc3840a4b6f50579bb2681\n",
            "Successfully built emoticon-fix\n",
            "Installing collected packages: emoticon-fix\n",
            "Successfully installed emoticon-fix-0.0.2\n"
          ]
        }
      ],
      "source": [
        "# Install optional libraries\n",
        "\n",
        "# !pip install emoji\n",
        "!pip install emoticon-fix"
      ]
    },
    {
      "cell_type": "code",
      "execution_count": 15,
      "metadata": {
        "colab": {
          "base_uri": "https://localhost:8080/",
          "height": 36
        },
        "id": "j0EvWdm1NPVt",
        "outputId": "34ee3fee-d212-4708-bfa2-eb1652f77928"
      },
      "outputs": [
        {
          "output_type": "execute_result",
          "data": {
            "text/plain": [
              "'test Smile test Laugh test'"
            ],
            "application/vnd.google.colaboratory.intrinsic+json": {
              "type": "string"
            }
          },
          "metadata": {},
          "execution_count": 15
        }
      ],
      "source": [
        "# Test\n",
        "\n",
        "from emoticon_fix import emoticon_fix\n",
        "\n",
        "text = 'test :) test :D test'\n",
        "emoticon_fix.emoticon_fix(text)"
      ]
    },
    {
      "cell_type": "code",
      "execution_count": 16,
      "metadata": {
        "id": "l6KeRBJe_S_g"
      },
      "outputs": [],
      "source": [
        "# Python Libraries\n",
        "\n",
        "import numpy as np\n",
        "import pandas as pd\n",
        "import matplotlib.pyplot as plt\n",
        "import seaborn as sns\n",
        "\n",
        "# import chardet\n",
        "from pprint import pprint\n",
        "import datetime \n",
        "import string\n",
        "import re\n",
        "import os\n",
        "\n",
        "import arrow\n",
        "from tqdm import tqdm\n",
        "# from pprint import pprint\n",
        "# from logging import error\n",
        "\n",
        "from sklearn.preprocessing import StandardScaler\n",
        "from scipy.signal import find_peaks\n",
        "from scipy.special import softmax\n",
        "\n",
        "import csv\n",
        "import urllib.request\n",
        "\n",
        "from google.colab import files\n",
        "\n",
        "# Import functions to preprocess Tweets\n",
        "# https://github.com/Deffro/text-preprocessing-techniques/blob/master/techniques.py\n"
      ]
    },
    {
      "cell_type": "code",
      "source": [
        "from transformers import AutoTokenizer, AutoModelForSequenceClassification, Trainer\n",
        "from transformers import AutoModelForSequenceClassification, TFAutoModelForSequenceClassification, AutoTokenizer"
      ],
      "metadata": {
        "id": "gaqlw1eVB9V5"
      },
      "execution_count": 17,
      "outputs": []
    },
    {
      "cell_type": "code",
      "execution_count": 18,
      "metadata": {
        "id": "HlNFUxF7JdQB"
      },
      "outputs": [],
      "source": [
        "# Import Twitter specific preprocessing files\n",
        "\n",
        "from cleantext import clean\n",
        "\n",
        "import contractions\n",
        "\n",
        "from slugify import slugify\n",
        "\n",
        "import emoji\n",
        "\n",
        "from techniques import *"
      ]
    },
    {
      "cell_type": "code",
      "execution_count": 19,
      "metadata": {
        "id": "Ee4FgrcZ57cm"
      },
      "outputs": [],
      "source": [
        "# Setup matplotlib\n",
        "\n",
        "# %matplotlib inline\n",
        "\n",
        "plt.rcParams[\"figure.figsize\"] = (20,10)\n",
        "\n",
        "from IPython.core.interactiveshell import InteractiveShell\n",
        "InteractiveShell.ast_node_interactivity = \"all\""
      ]
    },
    {
      "cell_type": "markdown",
      "metadata": {
        "id": "2oygQf4PtN-5"
      },
      "source": [
        "# Globals"
      ]
    },
    {
      "cell_type": "code",
      "execution_count": 20,
      "metadata": {
        "id": "Mkm8LWSitbhy"
      },
      "outputs": [],
      "source": [
        "# Global Vars\n",
        "\n",
        "novel_filename_str = ''\n",
        "novel_title_str = ''\n",
        "novel_raw_str = ''\n",
        "novel_clean_str = ''\n",
        "\n",
        "novel_lines_ls = []\n",
        "novel_sentences_ls = []\n",
        "novel_paragraphs_ls = []\n",
        "\n",
        "# Main (Modin) DataFrame for Novel Sentiments\n",
        "data_df = pd.DataFrame\n",
        "\n",
        "TEXT_ENCODING = 'utf-8'"
      ]
    },
    {
      "cell_type": "code",
      "execution_count": 21,
      "metadata": {
        "id": "DmBgCGUCDYGA"
      },
      "outputs": [],
      "source": [
        "def verify_novel(anovel_raw_str, anovel_title_str, index_ends=500):\n",
        "  '''\n",
        "  INPUT: string in some stage of processing\n",
        "  OUTPUT: display summary index_ends chars of header/footer for verification\n",
        "  '''\n",
        "\n",
        "  print(f'Novel Title: {anovel_title_str}')\n",
        "  print(f'  Char Len: {len(anovel_raw_str)}')\n",
        "  print('====================================\\n')\n",
        "  print(f'Beginning:\\n\\n {anovel_raw_str[:index_ends]}\\n\\n')\n",
        "  print('\\n------------------------------------')\n",
        "  print(f'Ending:\\n\\n {anovel_raw_str[-index_ends:]}\\n\\n')"
      ]
    },
    {
      "cell_type": "code",
      "execution_count": 22,
      "metadata": {
        "id": "4284uzStHpyU"
      },
      "outputs": [],
      "source": [
        "def save_text2txt_and_download(text_obj, file_suffix='_save.txt'):\n",
        "  '''\n",
        "  INPUT: text object and suffix to add to output text filename\n",
        "  OUTPUT: Write text object to text file (both temp VM and download)\n",
        "  '''\n",
        "\n",
        "  if type(text_obj) == str:\n",
        "    print('STEP 1. Processing String Object\\n')\n",
        "    str_obj = text_obj\n",
        "  elif type(text_obj) == list:\n",
        "    if (len(text_obj) > 0):\n",
        "      if type(text_obj[0]) == str:\n",
        "        print('STEP 1. Processing List of Strings Object\\n')\n",
        "        str_obj = \"\\n\".join(text_obj)\n",
        "      else:\n",
        "        print('ERROR: Object is not an List of Strings [save_text2txt_and_download()]')\n",
        "        return -1\n",
        "    else:\n",
        "      print('ERROR: Object is an empty List [save_text2txt_and_download()]')\n",
        "      return -1\n",
        "  else:\n",
        "    print('ERROR: Object Type is neither String nor List [save_text2txt_and_download()]')\n",
        "    return -1\n",
        "\n",
        "  datetime_str = datetime.datetime.now().strftime('%Y%m%d-%H%M%S')\n",
        "  # out_filename = novel_name_str.split('.')[0] + '_' + datetime_str + file_suffix\n",
        "  out_filename = novel_name_str.split('.')[0] + file_suffix\n",
        "\n",
        "  # Write file to temporary VM filesystem\n",
        "  print(f'STEP 2. Saving textfile to temporary VM file: {out_filename}\\n')\n",
        "  with open(out_filename, \"w\") as fp:\n",
        "    fp.write(str_obj)\n",
        "\n",
        "  # Download permanent copy of file\n",
        "  print(f'STEP 3. Downloading permanent copy of textfile: {out_filename}\\n')\n",
        "  files.download(out_filename)"
      ]
    },
    {
      "cell_type": "code",
      "execution_count": 23,
      "metadata": {
        "id": "CeA0VLNT56TZ"
      },
      "outputs": [],
      "source": [
        "def save_df2csv_and_download(df_obj, file_suffix='_save.csv', nodate=True):\n",
        "  '''\n",
        "  INPUT: DataFrame object and suffix to add to output csv filename\n",
        "  OUTPUT: Write DataFrame object to csv file (both temp VM and download)\n",
        "  '''\n",
        "\n",
        "  if isinstance(df_obj, pd.DataFrame):\n",
        "    datetime_str = datetime.datetime.now().strftime('%Y%m%d-%H%M%S')\n",
        "    if nodate:\n",
        "      out_filename = novel_name_str.split('.')[0] + file_suffix\n",
        "    else:\n",
        "      out_filename = novel_name_str.split('.')[0] + '_' + datetime_str + file_suffix\n",
        "    # print(f'STEP 1. Saving DataFrame: {df_obj.__name__} to temporary VM file: {out_filename}\\n') # Also, isinstance(obj, pd.DataFrame)\n",
        "    print(f'STEP 1. Saving DataFrame to temporary VM file: {out_filename}\\n')\n",
        "    df_obj.to_csv(out_filename, index=False) \n",
        "  else:\n",
        "    print(f'ERROR: Object is not a DataFrame [save_df2csv_and_download()]')\n",
        "    return -1\n",
        "\n",
        "  # Download permanent copy of file\n",
        "  print(f'STEP 2. Downloading permanent copy of csvfile: {out_filename}\\n')\n",
        "  files.download(out_filename)\n",
        "\n",
        "\n",
        "# Test\n",
        "\n",
        "# save_df2csv_and_download(temp_df, '_bert-nlptown.txt')"
      ]
    },
    {
      "cell_type": "code",
      "execution_count": 24,
      "metadata": {
        "colab": {
          "base_uri": "https://localhost:8080/",
          "height": 0
        },
        "id": "jwby-TEly0i5",
        "outputId": "82486925-4810-42b4-d2d0-2e15863fa2d3"
      },
      "outputs": [
        {
          "output_type": "execute_result",
          "data": {
            "text/plain": [
              "'\\n# novel_clean_ls = [re.sub(r\\'[\\n]+\\', \\' \\', x).strip() for x in novel_ls]\\nnovel_clean_ls = [contractions.fix(x) for x in novel_ls]\\nnovel_clean_ls = [re.sub(r\\'[\\n]+\\', \\' \\', x).strip() for x in novel_clean_ls]\\nnovel_clean_ls = [x.strip() for x in novel_clean_ls if len(x.strip()) > 1]\\n# novel_clean_ls = [re.sub(r\"^[\"\\']\", \"\", x) for x in novel_clean_ls]  # re.sub(\"[\"\\']\", \"\", s)\\n# novel_clean_ls = [re.sub(r\"[\"\\']$\", \"\", x) for x in novel_clean_ls]\\nnovel_clean_ls = [x.encode(\\'ascii\\',errors=\\'ignore\\').decode() for x in novel_clean_ls]\\n# novel_bin = novel_clean_str.encode(\\'ascii\\',errors=\\'ignore\\')\\n# novel_clean_str = novel_bin.decode()\\n\\n[f\\'[{x}]\\' for x in novel_clean_ls]\\n'"
            ],
            "application/vnd.google.colaboratory.intrinsic+json": {
              "type": "string"
            }
          },
          "metadata": {},
          "execution_count": 24
        }
      ],
      "source": [
        "def expand_contractions(input_str):\n",
        "  '''\n",
        "  INPUT: long string\n",
        "  OUTPUT: long string with expanded contractions\n",
        "  '''\n",
        "\n",
        "  output_str = contractions.fix(input_str)\n",
        "\n",
        "  return output_str\n",
        "\n",
        "\"\"\"\n",
        "# novel_clean_ls = [re.sub(r'[\\n]+', ' ', x).strip() for x in novel_ls]\n",
        "novel_clean_ls = [contractions.fix(x) for x in novel_ls]\n",
        "novel_clean_ls = [re.sub(r'[\\n]+', ' ', x).strip() for x in novel_clean_ls]\n",
        "novel_clean_ls = [x.strip() for x in novel_clean_ls if len(x.strip()) > 1]\n",
        "# novel_clean_ls = [re.sub(r\"^[\\\"\\']\", \"\", x) for x in novel_clean_ls]  # re.sub(\"[\\\"\\']\", \"\", s)\n",
        "# novel_clean_ls = [re.sub(r\"[\\\"\\']$\", \"\", x) for x in novel_clean_ls]\n",
        "novel_clean_ls = [x.encode('ascii',errors='ignore').decode() for x in novel_clean_ls]\n",
        "# novel_bin = novel_clean_str.encode('ascii',errors='ignore')\n",
        "# novel_clean_str = novel_bin.decode()\n",
        "\n",
        "[f'[{x}]' for x in novel_clean_ls]\n",
        "\"\"\""
      ]
    },
    {
      "cell_type": "markdown",
      "metadata": {
        "id": "Etz3zVn3kTe-"
      },
      "source": [
        "# **Get Tweet Text - Pick ONE Option**"
      ]
    },
    {
      "cell_type": "markdown",
      "metadata": {
        "id": "p5OA7O6MWc-H"
      },
      "source": [
        "## OPTION (a): Scrape Twitter with snscrape"
      ]
    },
    {
      "cell_type": "code",
      "execution_count": 25,
      "metadata": {
        "id": "U5OfDm1jWoEy",
        "outputId": "09c4c2e4-390e-4bf2-8180-4a0238893cc6",
        "colab": {
          "base_uri": "https://localhost:8080/"
        }
      },
      "outputs": [
        {
          "output_type": "stream",
          "name": "stdout",
          "text": [
            "Looking in indexes: https://pypi.org/simple, https://us-python.pkg.dev/colab-wheels/public/simple/\n",
            "Requirement already satisfied: snscrape in /usr/local/lib/python3.8/dist-packages (0.4.3.20220106)\n",
            "Requirement already satisfied: pytz in /usr/local/lib/python3.8/dist-packages (from snscrape) (2022.6)\n",
            "Requirement already satisfied: requests[socks] in /usr/local/lib/python3.8/dist-packages (from snscrape) (2.23.0)\n",
            "Requirement already satisfied: filelock in /usr/local/lib/python3.8/dist-packages (from snscrape) (3.8.0)\n",
            "Requirement already satisfied: lxml in /usr/local/lib/python3.8/dist-packages (from snscrape) (4.9.1)\n",
            "Requirement already satisfied: beautifulsoup4 in /usr/local/lib/python3.8/dist-packages (from snscrape) (4.6.3)\n",
            "Requirement already satisfied: idna<3,>=2.5 in /usr/local/lib/python3.8/dist-packages (from requests[socks]->snscrape) (2.10)\n",
            "Requirement already satisfied: chardet<4,>=3.0.2 in /usr/local/lib/python3.8/dist-packages (from requests[socks]->snscrape) (3.0.4)\n",
            "Requirement already satisfied: certifi>=2017.4.17 in /usr/local/lib/python3.8/dist-packages (from requests[socks]->snscrape) (2022.9.24)\n",
            "Requirement already satisfied: urllib3!=1.25.0,!=1.25.1,<1.26,>=1.21.1 in /usr/local/lib/python3.8/dist-packages (from requests[socks]->snscrape) (1.24.3)\n",
            "Requirement already satisfied: PySocks!=1.5.7,>=1.5.6 in /usr/local/lib/python3.8/dist-packages (from requests[socks]->snscrape) (1.7.1)\n"
          ]
        }
      ],
      "source": [
        "!pip install snscrape\n",
        "import snscrape\n",
        "import snscrape.modules.twitter as sntwitter\n",
        "\n",
        "# end_date = arrow.utcnow().format('YYYY-MM-DD')\n",
        "# start_date = arrow.utcnow().shift(days=-7).format('YYYY-MM-DD')\n",
        "\n",
        "# end_target_date = end_date\n",
        "# start_target_date = start_date\n",
        "\n",
        "# print(f'start_date: {start_date}')\n",
        "# print(f'  end_date: {end_date}')\n",
        "\n",
        "# local.format('YYYY-MM-DD HH:mm:ss ZZ')\n",
        "\n",
        "# Set default search parameters\n",
        "# today = datetime.date.today()\n",
        "# end_date = today\n",
        "# start_date = end_date"
      ]
    },
    {
      "cell_type": "code",
      "execution_count": 26,
      "metadata": {
        "id": "n_YjbOOn6g5G"
      },
      "outputs": [],
      "source": [
        "# import arrow\n",
        "\n",
        "# end_date = arrow.utcnow().format('YYYY-MM-DD')\n",
        "# start_date = utc.shift(days=-7).format('YYYY-MM-DD')\n",
        "\n",
        "# print(f'start_date: {start_date}')\n",
        "# print(f'  end_date: {end_date}')\n",
        "\n",
        "# local.format('YYYY-MM-DD HH:mm:ss ZZ')"
      ]
    },
    {
      "cell_type": "markdown",
      "metadata": {
        "id": "fYXIsGQvM0mk"
      },
      "source": [
        "### INSTRUCTIONS\n",
        "\n",
        "Pick a current topic since you can only search for Tweets starting **from today backwards** in time.\n",
        "\n",
        "1. Search by username or Keyword/Hashtag\n",
        "2. Spaces between multiple keywords act as AND\n",
        "2. Tweets will be scraped from Now/Today backwards\n",
        "3. (max_results) Tweets from the Now/Today back will be retrived\n",
        "4. How far back in time (start_date) will be determined based upon:\n",
        "  * The frequency of matching Tweets \n",
        "  * The max_results number of Tweets requested"
      ]
    },
    {
      "cell_type": "code",
      "execution_count": 27,
      "metadata": {
        "id": "F9zDaNJb42l6"
      },
      "outputs": [],
      "source": [
        "#@title Twitter Search Type and Parameters\n",
        "\n",
        "search_type = \"keyword\" #@param [\"keyword\", \"username\", \"hashtag\"]\n",
        "\n",
        "search_term = \"Tiktok Ban\" #@param {type:\"string\"}\n",
        "\n",
        "# start_target_date = '2022-11-01' #@param {type:\"date\"}\n",
        "\n",
        "# end_target_date = '2022-11-14' #@param {type:\"date\"}\n",
        "\n",
        "max_results = 20000 #@param {type:\"slider\", min:100, max:100000, step:100}\n",
        "\n"
      ]
    },
    {
      "cell_type": "code",
      "execution_count": 73,
      "metadata": {
        "colab": {
          "base_uri": "https://localhost:8080/"
        },
        "id": "UWYtzZvU9GHX",
        "outputId": "a4973a6e-9657-44cc-9213-0610c6056e71"
      },
      "outputs": [
        {
          "output_type": "stream",
          "name": "stdout",
          "text": [
            "EXECUTING: keyword search: [Tiktok Ban]\n",
            "  20000 Tweets received\n",
            "Tweet Dataset Retrieved:\n",
            "\n",
            " Raw Tweet Count: 20000\n",
            "\n",
            "\n",
            "      First Date: TBD\n",
            "       Last Date: 20221216_194030 (vs end_target_date: 20221216_194030)\n",
            "\n",
            "\n",
            "   ReTweet Count: 0\n",
            "    Quoted Count: 1540\n",
            "\n",
            "\n",
            "     Reply %: 100.00%\n",
            "   ReTweet %: 100.00%\n",
            "      Like %: 100.00%\n",
            "     Quote %: 100.00%\n",
            "\n",
            "\n",
            "CPU times: user 12.8 s, sys: 576 ms, total: 13.3 s\n",
            "Wall time: 9min 57s\n"
          ]
        }
      ],
      "source": [
        "%%time\n",
        "\n",
        "# EXECUTE SEARCH/SCRAPE\n",
        "\n",
        "# NOTE: 2m15s on Sun 20221204 @ 14:26PM EST on Colab Pro T4 for 5k Tweets \n",
        "#       3m44s on Sun 20221204 @ 15:51PM EST on Colab Pro T4 for 5k Tweets \n",
        "#       3m22s on Tue 20221206 @ 02:26AM EST on Colab Pro T4 for 5k Tweets \n",
        "#       6m27s on Tue 20221206 @ 02:32AM EST on Colab Pro T4 for 10k Tweets \n",
        "#       5m34s on Tue 20221207 @ 16:12PM EST on Colab Pro T4 for 10k Tweets \n",
        "#      12m18s on Thu 20221208 @ 04:13AM EST on Colab Pro T4 for 30k Tweets\n",
        "#      17m43s on Sun 20221211 @ 14:00PM EST on Colab Pro T4 for 30k Tweets\n",
        "#       6m00s on Sun 20221211 @ 16:30PM EST on Colab Pro T4 for 10k Tweets\n",
        "#      21m47s on Sun 20221211 @ 16:30PM EST on Colab Pro T4 for 30k Tweets\n",
        "#      22m36s on Sun 20221211 @ 15:10PM EST on Colab Pro T4 for 30k Tweets\n",
        "#      18m30s on Mon 20221213 @ 14:49PM EST on Colab Pro T4 for 30k Tweets\n",
        "#      20m07s on Fri 20221216 @ 03:20PM EST on Colab Pro T4 for 30k Tweets\n",
        "#    1h00m00s on Fri 20221216 @ 04:17PM EST on Colab Pro T4 for 100k Tweets\n",
        "\n",
        "data_df = pd.DataFrame()\n",
        "\n",
        "# Creating list to append tweet data to\n",
        "tweet_ls = []\n",
        "\n",
        "if ((search_type == \"keyword\") | (search_type == \"hashtag\")):\n",
        "  print(f'EXECUTING: keyword search: [{search_term}]') #  from [{start_target_date}] to [{end_target_date}]\\n')\n",
        "  for i,tweet in enumerate(sntwitter.TwitterSearchScraper(f'{search_term}').get_items()):\n",
        "    if i >= max_results:\n",
        "      break\n",
        "    tweet_ls.append([tweet.date, tweet.id, tweet.content, tweet.user.username, tweet.replyCount, tweet.retweetCount, tweet.likeCount, tweet.quoteCount, tweet.retweetedTweet, tweet.quotedTweet])\n",
        "  print(f'  {len(tweet_ls)} Tweets received')\n",
        "  data_df = pd.DataFrame(tweet_ls, columns=['datetime','id','tweet','username','reply_ct','retweet_ct','like_ct','quote_ct','retweeted_id','quoted_id'])\n",
        "  data_df.sort_values('datetime',inplace=True)\n",
        "\n",
        "elif search_type == \"username\":\n",
        "  print(f'EXECUTING: username search: [{search_term}]') #  from [{start_target_date}] to [{end_target_date}]\\n')\n",
        "  # Using TwitterSearchScraper to scrape data and append tweets to list\n",
        "  for i,tweet in enumerate(sntwitter.TwitterSearchScraper(f'from:{search_term}').get_items()):\n",
        "    if i >= max_results:\n",
        "      break\n",
        "    tweet_ls.append([tweet.date, tweet.id, tweet.content, tweet.user.username, tweet.replyCount, tweet.retweetCount, tweet.likeCount, tweet.quoteCount, tweet.retweetedTweet, tweet.quotedTweet])\n",
        "  print(f'  {len(tweet_ls)} Tweets received')\n",
        "  data_df = pd.DataFrame(tweet_ls, columns=['datetime','id','tweet','username','reply_ct','retweet_ct','like_ct','quote_ct','retweeted_id','quoted_id'])\n",
        "  data_df.sort_values('datetime',inplace=True)\n",
        "\n",
        "# elif search_type == \"hashtag\":\n",
        "#   print(f'EXECUTING: hashtag search: [{search_term}] from [{start_date}] to [{end_date}]\\n')\n",
        "\n",
        "else:\n",
        "  print(f\"ERROR: Illegal search_type: {search_type}\")\n",
        "\n",
        "# Calculate Data Range\n",
        "print(f'Tweet Dataset Retrieved:\\n')\n",
        "\n",
        "start_retrieve_date = data_df.datetime.min().strftime('%Y-%m-%d-%H:%M:%S')\n",
        "end_retrieve_date = data_df.datetime.max().strftime('%Y-%m-%d-%H:%M:%S')\n",
        "# start_retrieve_date = data_df.datetime.min().strftime('%Y%m%d_%H%M%S')\n",
        "# end_retrieve_date = data_df.datetime.max().strftime('%Y%m%d_%H%M%S')\n",
        "end_date = arrow.now().strftime('%Y%m%d_%H%M%S')\n",
        "\n",
        "print(f' Raw Tweet Count: {data_df.shape[0]}')\n",
        "print('\\n')\n",
        "# print(f'      First Date: {start_retrieve_date} (vs start_target_date: {start_target_date})')\n",
        "print(f'      First Date: TBD')\n",
        "print(f'       Last Date: {end_date} (vs end_target_date: {end_date})')\n",
        "print('\\n')\n",
        "print(f'   ReTweet Count: {data_df.retweeted_id.count().sum()}')\n",
        "print(f'    Quoted Count: {data_df.quoted_id.count().sum()}')\n",
        "print('\\n')\n",
        "print(f'     Reply %: {100*data_df.reply_ct.count().sum()/data_df.shape[0]:.2f}%')\n",
        "print(f'   ReTweet %: {100*data_df.retweet_ct.count().sum()/data_df.shape[0]:.2f}%')\n",
        "print(f'      Like %: {100*data_df.like_ct.count().sum()/data_df.shape[0]:.2f}%')\n",
        "print(f'     Quote %: {100*data_df.quote_ct.count().sum()/data_df.shape[0]:.2f}%')\n",
        "\n",
        "print('\\n')"
      ]
    },
    {
      "cell_type": "code",
      "source": [
        "# Histogram of Tweet Counts over retrieved datetime range\n",
        "\n",
        "_ = fig, ax = plt.subplots()\n",
        "_ = data_df[\"datetime\"].astype(np.int64).plot.hist(ax=ax)\n",
        "_ = labels = ax.get_xticks().tolist()\n",
        "_ = labels = pd.to_datetime(labels)\n",
        "_ = ax.set_xticklabels(labels, rotation=90)\n",
        "_ = plt.grid()\n",
        "_ = plt.show();"
      ],
      "metadata": {
        "id": "ST8cYAF_Jjqr",
        "colab": {
          "base_uri": "https://localhost:8080/",
          "height": 648
        },
        "outputId": "ed59c88c-968a-44a9-b717-1315d2a57582"
      },
      "execution_count": 74,
      "outputs": [
        {
          "output_type": "display_data",
          "data": {
            "text/plain": [
              "<Figure size 1440x720 with 1 Axes>"
            ],
            "image/png": "[encoded data removed]"
          },
          "metadata": {
            "needs_background": "light"
          }
        }
      ]
    },
    {
      "cell_type": "code",
      "source": [
        "# Drop unused columns\n",
        "\"\"\"\n",
        "if 'reply_ct' in data_df.columns:\n",
        "  data_df.drop(columns=['reply_ct'], inplace=True)\n",
        "\n",
        "if 'retweet_ct' in data_df.columns:\n",
        "  data_df.drop(columns=['retweet_ct'], inplace=True)\n",
        "\n",
        "if 'like_ct' in data_df.columns:\n",
        "  data_df.drop(columns=['like_ct'], inplace=True)\n",
        "\n",
        "if 'quote_ct' in data_df.columns:\n",
        "  data_df.drop(columns=['quote_ct'], inplace=True)\n",
        "\n",
        "if 'retweeted_id' in data_df.columns:\n",
        "  data_df.drop(columns=['retweeted_id'], inplace=True)\n",
        "\n",
        "if 'quoted_id' in data_df.columns:\n",
        "  data_df.drop(columns=['quoted_id'], inplace=True)\n",
        "\n",
        "data_df.info()\n",
        "\"\"\";"
      ],
      "metadata": {
        "id": "RoKT87DpLp1W"
      },
      "execution_count": 75,
      "outputs": []
    },
    {
      "cell_type": "code",
      "source": [
        "# Get Start/End Date/Time\n",
        "\n",
        "end_datetime = data_df['datetime'].min()\n",
        "end_date_str = datetime.datetime.strftime(end_datetime, '%Y%m%d')\n",
        "# end_date_str\n",
        "\n",
        "print('\\n')\n",
        "end_time_str = datetime.datetime.strftime(end_datetime, '%H%M%S')\n",
        "# end_time_str\n",
        "\n",
        "end_date = end_date_str\n",
        "end_time = end_time_str\n",
        "\n",
        "end_date = end_date_str\n",
        "end_time = end_time_str\n",
        "\n",
        "start_datetime = data_df['datetime'].max()\n",
        "start_date_str = datetime.datetime.strftime(start_datetime, '%Y%m%d')\n",
        "# start_date_str\n",
        "\n",
        "print('\\n')\n",
        "start_time_str = datetime.datetime.strftime(start_datetime, '%H%M%S')\n",
        "# start_time_str\n",
        "\n",
        "start_date = start_date_str\n",
        "start_time = start_time_str\n",
        "\n",
        "print(f'Start: {start_date}_{start_time}')\n",
        "print(f'  End: {end_date}_{end_time}')"
      ],
      "metadata": {
        "id": "MC6ScZZIGLLJ",
        "colab": {
          "base_uri": "https://localhost:8080/"
        },
        "outputId": "32d6d5f5-7237-40fc-e346-1549aa2d14ac"
      },
      "execution_count": 76,
      "outputs": [
        {
          "output_type": "stream",
          "name": "stdout",
          "text": [
            "\n",
            "\n",
            "\n",
            "\n",
            "Start: 20221216_193010\n",
            "  End: 20221115_144646\n"
          ]
        }
      ]
    },
    {
      "cell_type": "code",
      "execution_count": 77,
      "metadata": {
        "id": "DSMM9EFY_OQ3",
        "colab": {
          "base_uri": "https://localhost:8080/",
          "height": 389
        },
        "outputId": "bfd38711-8d47-4573-e166-341c5c2ebb47"
      },
      "outputs": [
        {
          "output_type": "execute_result",
          "data": {
            "text/plain": [
              "                       datetime                   id  \\\n",
              "19999 2022-11-15 14:46:46+00:00  1592529547727339520   \n",
              "19998 2022-11-15 14:48:00+00:00  1592529858927923202   \n",
              "19997 2022-11-15 14:48:07+00:00  1592529886417424384   \n",
              "19996 2022-11-15 14:51:24+00:00  1592530714167504900   \n",
              "19995 2022-11-15 14:57:28+00:00  1592532238222389249   \n",
              "\n",
              "                                                   tweet        username  \\\n",
              "19999  Je viens de me faire ban de tiktok wtf j'ai ri...     lesvraissav   \n",
              "19998  @konbu_chan_zZ 復活(о´ﾟ∀)о＜おめでとぉぉぉ!!!\\nTikTokの運営...        Sn0wZi0n   \n",
              "19997  @prnvnirml @thatawkwardhoe_ Toh ab fir aage? M...  HellwithnoTime   \n",
              "19996  $bbig\\nIf Zash \"Global\" (lol) owns a majority ...    Necronautism   \n",
              "19995  video bạn mình nhảy được lên tiktok của thế an...       kcalie_07   \n",
              "\n",
              "       reply_ct  retweet_ct  like_ct  quote_ct retweeted_id quoted_id  \n",
              "19999         1           1        4         0         None      None  \n",
              "19998         0           0        0         0         None      None  \n",
              "19997         1           0        1         0         None      None  \n",
              "19996         0           0        0         0         None      None  \n",
              "19995         1           0        1         0         None      None  "
            ],
            "text/html": [
              "\n",
              "  <div id=\"df-f9d37b17-1ff5-4afd-bf4d-0076b733d776\">\n",
              "    <div class=\"colab-df-container\">\n",
              "      <div>\n",
              "<style scoped>\n",
              "    .dataframe tbody tr th:only-of-type {\n",
              "        vertical-align: middle;\n",
              "    }\n",
              "\n",
              "    .dataframe tbody tr th {\n",
              "        vertical-align: top;\n",
              "    }\n",
              "\n",
              "    .dataframe thead th {\n",
              "        text-align: right;\n",
              "    }\n",
              "</style>\n",
              "<table border=\"1\" class=\"dataframe\">\n",
              "  <thead>\n",
              "    <tr style=\"text-align: right;\">\n",
              "      <th></th>\n",
              "      <th>datetime</th>\n",
              "      <th>id</th>\n",
              "      <th>tweet</th>\n",
              "      <th>username</th>\n",
              "      <th>reply_ct</th>\n",
              "      <th>retweet_ct</th>\n",
              "      <th>like_ct</th>\n",
              "      <th>quote_ct</th>\n",
              "      <th>retweeted_id</th>\n",
              "      <th>quoted_id</th>\n",
              "    </tr>\n",
              "  </thead>\n",
              "  <tbody>\n",
              "    <tr>\n",
              "      <th>19999</th>\n",
              "      <td>2022-11-15 14:46:46+00:00</td>\n",
              "      <td>1592529547727339520</td>\n",
              "      <td>Je viens de me faire ban de tiktok wtf j'ai ri...</td>\n",
              "      <td>lesvraissav</td>\n",
              "      <td>1</td>\n",
              "      <td>1</td>\n",
              "      <td>4</td>\n",
              "      <td>0</td>\n",
              "      <td>None</td>\n",
              "      <td>None</td>\n",
              "    </tr>\n",
              "    <tr>\n",
              "      <th>19998</th>\n",
              "      <td>2022-11-15 14:48:00+00:00</td>\n",
              "      <td>1592529858927923202</td>\n",
              "      <td>@konbu_chan_zZ 復活(о´ﾟ∀)о＜おめでとぉぉぉ!!!\\nTikTokの運営...</td>\n",
              "      <td>Sn0wZi0n</td>\n",
              "      <td>0</td>\n",
              "      <td>0</td>\n",
              "      <td>0</td>\n",
              "      <td>0</td>\n",
              "      <td>None</td>\n",
              "      <td>None</td>\n",
              "    </tr>\n",
              "    <tr>\n",
              "      <th>19997</th>\n",
              "      <td>2022-11-15 14:48:07+00:00</td>\n",
              "      <td>1592529886417424384</td>\n",
              "      <td>@prnvnirml @thatawkwardhoe_ Toh ab fir aage? M...</td>\n",
              "      <td>HellwithnoTime</td>\n",
              "      <td>1</td>\n",
              "      <td>0</td>\n",
              "      <td>1</td>\n",
              "      <td>0</td>\n",
              "      <td>None</td>\n",
              "      <td>None</td>\n",
              "    </tr>\n",
              "    <tr>\n",
              "      <th>19996</th>\n",
              "      <td>2022-11-15 14:51:24+00:00</td>\n",
              "      <td>1592530714167504900</td>\n",
              "      <td>$bbig\\nIf Zash \"Global\" (lol) owns a majority ...</td>\n",
              "      <td>Necronautism</td>\n",
              "      <td>0</td>\n",
              "      <td>0</td>\n",
              "      <td>0</td>\n",
              "      <td>0</td>\n",
              "      <td>None</td>\n",
              "      <td>None</td>\n",
              "    </tr>\n",
              "    <tr>\n",
              "      <th>19995</th>\n",
              "      <td>2022-11-15 14:57:28+00:00</td>\n",
              "      <td>1592532238222389249</td>\n",
              "      <td>video bạn mình nhảy được lên tiktok của thế an...</td>\n",
              "      <td>kcalie_07</td>\n",
              "      <td>1</td>\n",
              "      <td>0</td>\n",
              "      <td>1</td>\n",
              "      <td>0</td>\n",
              "      <td>None</td>\n",
              "      <td>None</td>\n",
              "    </tr>\n",
              "  </tbody>\n",
              "</table>\n",
              "</div>\n",
              "      <button class=\"colab-df-convert\" onclick=\"convertToInteractive('df-f9d37b17-1ff5-4afd-bf4d-0076b733d776')\"\n",
              "              title=\"Convert this dataframe to an interactive table.\"\n",
              "              style=\"display:none;\">\n",
              "        \n",
              "  <svg xmlns=\"http://www.w3.org/2000/svg\" height=\"24px\"viewBox=\"0 0 24 24\"\n",
              "       width=\"24px\">\n",
              "    <path d=\"M0 0h24v24H0V0z\" fill=\"none\"/>\n",
              "    <path d=\"M18.56 5.44l.94 2.06.94-2.06 2.06-.94-2.06-.94-.94-2.06-.94 2.06-2.06.94zm-11 1L8.5 8.5l.94-2.06 2.06-.94-2.06-.94L8.5 2.5l-.94 2.06-2.06.94zm10 10l.94 2.06.94-2.06 2.06-.94-2.06-.94-.94-2.06-.94 2.06-2.06.94z\"/><path d=\"M17.41 7.96l-1.37-1.37c-.4-.4-.92-.59-1.43-.59-.52 0-1.04.2-1.43.59L10.3 9.45l-7.72 7.72c-.78.78-.78 2.05 0 2.83L4 21.41c.39.39.9.59 1.41.59.51 0 1.02-.2 1.41-.59l7.78-7.78 2.81-2.81c.8-.78.8-2.07 0-2.86zM5.41 20L4 18.59l7.72-7.72 1.47 1.35L5.41 20z\"/>\n",
              "  </svg>\n",
              "      </button>\n",
              "      \n",
              "  <style>\n",
              "    .colab-df-container {\n",
              "      display:flex;\n",
              "      flex-wrap:wrap;\n",
              "      gap: 12px;\n",
              "    }\n",
              "\n",
              "    .colab-df-convert {\n",
              "      background-color: #E8F0FE;\n",
              "      border: none;\n",
              "      border-radius: 50%;\n",
              "      cursor: pointer;\n",
              "      display: none;\n",
              "      fill: #1967D2;\n",
              "      height: 32px;\n",
              "      padding: 0 0 0 0;\n",
              "      width: 32px;\n",
              "    }\n",
              "\n",
              "    .colab-df-convert:hover {\n",
              "      background-color: #E2EBFA;\n",
              "      box-shadow: 0px 1px 2px rgba(60, 64, 67, 0.3), 0px 1px 3px 1px rgba(60, 64, 67, 0.15);\n",
              "      fill: #174EA6;\n",
              "    }\n",
              "\n",
              "    [theme=dark] .colab-df-convert {\n",
              "      background-color: #3B4455;\n",
              "      fill: #D2E3FC;\n",
              "    }\n",
              "\n",
              "    [theme=dark] .colab-df-convert:hover {\n",
              "      background-color: #434B5C;\n",
              "      box-shadow: 0px 1px 3px 1px rgba(0, 0, 0, 0.15);\n",
              "      filter: drop-shadow(0px 1px 2px rgba(0, 0, 0, 0.3));\n",
              "      fill: #FFFFFF;\n",
              "    }\n",
              "  </style>\n",
              "\n",
              "      <script>\n",
              "        const buttonEl =\n",
              "          document.querySelector('#df-f9d37b17-1ff5-4afd-bf4d-0076b733d776 button.colab-df-convert');\n",
              "        buttonEl.style.display =\n",
              "          google.colab.kernel.accessAllowed ? 'block' : 'none';\n",
              "\n",
              "        async function convertToInteractive(key) {\n",
              "          const element = document.querySelector('#df-f9d37b17-1ff5-4afd-bf4d-0076b733d776');\n",
              "          const dataTable =\n",
              "            await google.colab.kernel.invokeFunction('convertToInteractive',\n",
              "                                                     [key], {});\n",
              "          if (!dataTable) return;\n",
              "\n",
              "          const docLinkHtml = 'Like what you see? Visit the ' +\n",
              "            '<a target=\"_blank\" href=https://colab.research.google.com/notebooks/data_table.ipynb>data table notebook</a>'\n",
              "            + ' to learn more about interactive tables.';\n",
              "          element.innerHTML = '';\n",
              "          dataTable['output_type'] = 'display_data';\n",
              "          await google.colab.output.renderOutput(dataTable, element);\n",
              "          const docLink = document.createElement('div');\n",
              "          docLink.innerHTML = docLinkHtml;\n",
              "          element.appendChild(docLink);\n",
              "        }\n",
              "      </script>\n",
              "    </div>\n",
              "  </div>\n",
              "  "
            ]
          },
          "metadata": {},
          "execution_count": 77
        }
      ],
      "source": [
        "#       6m27s on Tue 20221206 @ 02:32AM EST on Colab Pro T4 getting 10k Tweets \n",
        "#       6m27s on Tue 20221206 @ 02:32AM EST on Colab Pro T4 getting 10k Tweets \n",
        "data_df.head()"
      ]
    },
    {
      "cell_type": "code",
      "execution_count": 33,
      "metadata": {
        "id": "n1zcPvSZ6Mpa",
        "colab": {
          "base_uri": "https://localhost:8080/",
          "height": 34
        },
        "outputId": "3965c3f3-36d3-45cf-fab7-7c1c3b579f0b"
      },
      "outputs": [
        {
          "output_type": "stream",
          "name": "stdout",
          "text": [
            "Saving to file: tweets_raw_tiktokban_20221216_181257_20221115_002828.csv\n"
          ]
        },
        {
          "output_type": "display_data",
          "data": {
            "text/plain": [
              "<IPython.core.display.Javascript object>"
            ],
            "application/javascript": [
              "\n",
              "    async function download(id, filename, size) {\n",
              "      if (!google.colab.kernel.accessAllowed) {\n",
              "        return;\n",
              "      }\n",
              "      const div = document.createElement('div');\n",
              "      const label = document.createElement('label');\n",
              "      label.textContent = `Downloading \"${filename}\": `;\n",
              "      div.appendChild(label);\n",
              "      const progress = document.createElement('progress');\n",
              "      progress.max = size;\n",
              "      div.appendChild(progress);\n",
              "      document.body.appendChild(div);\n",
              "\n",
              "      const buffers = [];\n",
              "      let downloaded = 0;\n",
              "\n",
              "      const channel = await google.colab.kernel.comms.open(id);\n",
              "      // Send a message to notify the kernel that we're ready.\n",
              "      channel.send({})\n",
              "\n",
              "      for await (const message of channel.messages) {\n",
              "        // Send a message to notify the kernel that we're ready.\n",
              "        channel.send({})\n",
              "        if (message.buffers) {\n",
              "          for (const buffer of message.buffers) {\n",
              "            buffers.push(buffer);\n",
              "            downloaded += buffer.byteLength;\n",
              "            progress.value = downloaded;\n",
              "          }\n",
              "        }\n",
              "      }\n",
              "      const blob = new Blob(buffers, {type: 'application/binary'});\n",
              "      const a = document.createElement('a');\n",
              "      a.href = window.URL.createObjectURL(blob);\n",
              "      a.download = filename;\n",
              "      div.appendChild(a);\n",
              "      a.click();\n",
              "      div.remove();\n",
              "    }\n",
              "  "
            ]
          },
          "metadata": {}
        },
        {
          "output_type": "display_data",
          "data": {
            "text/plain": [
              "<IPython.core.display.Javascript object>"
            ],
            "application/javascript": [
              "download(\"download_504e9e6d-4f73-4750-8f44-5c066a28530f\", \"tweets_raw_tiktokban_20221216_181257_20221115_002828.csv\", 4381364)"
            ]
          },
          "metadata": {}
        }
      ],
      "source": [
        "# Save raw tweets\n",
        "\n",
        "# end_date = end_date.split('.')[0]  # If cells executed out of order, this can grow a suffix .csv.csv...\n",
        "\n",
        "filename_tweets = f'tweets_raw_{slugify(search_term, separator=\"\")}_{start_date}_{start_time}_{end_date}_{end_time}.csv'\n",
        "print(f'Saving to file: {filename_tweets}')\n",
        "\n",
        "data_df.to_csv(filename_tweets, index=False, encoding='utf-8', errors='strict')\n",
        "\n",
        "files.download(filename_tweets)"
      ]
    },
    {
      "cell_type": "markdown",
      "metadata": {
        "id": "9DEmb5ofA2nZ"
      },
      "source": [
        "# **Clean Tweets** - Pick ONE Option\n",
        "\n",
        "Strategy:\n",
        "1. Convert Unicode emojis to standard english words\n",
        "2. Convert Emojicons (text/punctuation) to standard english words \n",
        "3. Convert Slang to standard english\n",
        "\n",
        "Goals:\n",
        "1. plain text of text_noemoji for Transformer models\n",
        "2. simplified text of text_clean for simplier models (e.g. lexicon, stat ML)"
      ]
    },
    {
      "cell_type": "markdown",
      "source": [
        "##Clean Tweets"
      ],
      "metadata": {
        "id": "KoUuRIwYzy52"
      }
    },
    {
      "cell_type": "code",
      "execution_count": 34,
      "metadata": {
        "colab": {
          "base_uri": "https://localhost:8080/",
          "height": 843
        },
        "id": "SmHPnCt3e_iJ",
        "outputId": "fcefa20f-333d-4258-f849-8a6fd41d22f7"
      },
      "outputs": [
        {
          "output_type": "execute_result",
          "data": {
            "text/plain": [
              "                       datetime                   id  \\\n",
              "19999 2022-11-15 00:28:28+00:00  1592313547870318594   \n",
              "19998 2022-11-15 00:30:17+00:00  1592314006366453760   \n",
              "19997 2022-11-15 00:30:36+00:00  1592314083847856130   \n",
              "19996 2022-11-15 00:31:34+00:00  1592314330619731970   \n",
              "19995 2022-11-15 00:35:46+00:00  1592315386120134656   \n",
              "\n",
              "                                                   tweet     username  \\\n",
              "19999  $SNAP 💰🔝🚀\\n\\n3 Reasons Snap Stock Could Snap B...  BezosCrypto   \n",
              "19998     @amybabygirl8 TikTok will ban you for anything    JanaNylon   \n",
              "19997  $SNAP 💰🔝🚀\\n\\n3 Reasons Snap Stock Could Snap B...  BezosCrypto   \n",
              "19996  #FCC asks for #Ban of #Chinese App #TikTok  ht...   MetroCoder   \n",
              "19995  Brendan Carr of the Federal Communications Com...  BezosCrypto   \n",
              "\n",
              "       reply_ct  retweet_ct  like_ct  quote_ct retweeted_id  \\\n",
              "19999         0           1        1         0         None   \n",
              "19998         0           0        0         0         None   \n",
              "19997         0           1        1         0         None   \n",
              "19996         0           0        0         0         None   \n",
              "19995         0           2        2         0         None   \n",
              "\n",
              "                                               quoted_id  \n",
              "19999  https://twitter.com/SnapForBusiness/status/159...  \n",
              "19998                                               None  \n",
              "19997  https://twitter.com/business/status/1590872197...  \n",
              "19996                                               None  \n",
              "19995  https://twitter.com/business/status/1590872197...  "
            ],
            "text/html": [
              "\n",
              "  <div id=\"df-d8ddf3a5-2954-4028-bbad-ba437aaeded7\">\n",
              "    <div class=\"colab-df-container\">\n",
              "      <div>\n",
              "<style scoped>\n",
              "    .dataframe tbody tr th:only-of-type {\n",
              "        vertical-align: middle;\n",
              "    }\n",
              "\n",
              "    .dataframe tbody tr th {\n",
              "        vertical-align: top;\n",
              "    }\n",
              "\n",
              "    .dataframe thead th {\n",
              "        text-align: right;\n",
              "    }\n",
              "</style>\n",
              "<table border=\"1\" class=\"dataframe\">\n",
              "  <thead>\n",
              "    <tr style=\"text-align: right;\">\n",
              "      <th></th>\n",
              "      <th>datetime</th>\n",
              "      <th>id</th>\n",
              "      <th>tweet</th>\n",
              "      <th>username</th>\n",
              "      <th>reply_ct</th>\n",
              "      <th>retweet_ct</th>\n",
              "      <th>like_ct</th>\n",
              "      <th>quote_ct</th>\n",
              "      <th>retweeted_id</th>\n",
              "      <th>quoted_id</th>\n",
              "    </tr>\n",
              "  </thead>\n",
              "  <tbody>\n",
              "    <tr>\n",
              "      <th>19999</th>\n",
              "      <td>2022-11-15 00:28:28+00:00</td>\n",
              "      <td>1592313547870318594</td>\n",
              "      <td>$SNAP 💰🔝🚀\\n\\n3 Reasons Snap Stock Could Snap B...</td>\n",
              "      <td>BezosCrypto</td>\n",
              "      <td>0</td>\n",
              "      <td>1</td>\n",
              "      <td>1</td>\n",
              "      <td>0</td>\n",
              "      <td>None</td>\n",
              "      <td>https://twitter.com/SnapForBusiness/status/159...</td>\n",
              "    </tr>\n",
              "    <tr>\n",
              "      <th>19998</th>\n",
              "      <td>2022-11-15 00:30:17+00:00</td>\n",
              "      <td>1592314006366453760</td>\n",
              "      <td>@amybabygirl8 TikTok will ban you for anything</td>\n",
              "      <td>JanaNylon</td>\n",
              "      <td>0</td>\n",
              "      <td>0</td>\n",
              "      <td>0</td>\n",
              "      <td>0</td>\n",
              "      <td>None</td>\n",
              "      <td>None</td>\n",
              "    </tr>\n",
              "    <tr>\n",
              "      <th>19997</th>\n",
              "      <td>2022-11-15 00:30:36+00:00</td>\n",
              "      <td>1592314083847856130</td>\n",
              "      <td>$SNAP 💰🔝🚀\\n\\n3 Reasons Snap Stock Could Snap B...</td>\n",
              "      <td>BezosCrypto</td>\n",
              "      <td>0</td>\n",
              "      <td>1</td>\n",
              "      <td>1</td>\n",
              "      <td>0</td>\n",
              "      <td>None</td>\n",
              "      <td>https://twitter.com/business/status/1590872197...</td>\n",
              "    </tr>\n",
              "    <tr>\n",
              "      <th>19996</th>\n",
              "      <td>2022-11-15 00:31:34+00:00</td>\n",
              "      <td>1592314330619731970</td>\n",
              "      <td>#FCC asks for #Ban of #Chinese App #TikTok  ht...</td>\n",
              "      <td>MetroCoder</td>\n",
              "      <td>0</td>\n",
              "      <td>0</td>\n",
              "      <td>0</td>\n",
              "      <td>0</td>\n",
              "      <td>None</td>\n",
              "      <td>None</td>\n",
              "    </tr>\n",
              "    <tr>\n",
              "      <th>19995</th>\n",
              "      <td>2022-11-15 00:35:46+00:00</td>\n",
              "      <td>1592315386120134656</td>\n",
              "      <td>Brendan Carr of the Federal Communications Com...</td>\n",
              "      <td>BezosCrypto</td>\n",
              "      <td>0</td>\n",
              "      <td>2</td>\n",
              "      <td>2</td>\n",
              "      <td>0</td>\n",
              "      <td>None</td>\n",
              "      <td>https://twitter.com/business/status/1590872197...</td>\n",
              "    </tr>\n",
              "  </tbody>\n",
              "</table>\n",
              "</div>\n",
              "      <button class=\"colab-df-convert\" onclick=\"convertToInteractive('df-d8ddf3a5-2954-4028-bbad-ba437aaeded7')\"\n",
              "              title=\"Convert this dataframe to an interactive table.\"\n",
              "              style=\"display:none;\">\n",
              "        \n",
              "  <svg xmlns=\"http://www.w3.org/2000/svg\" height=\"24px\"viewBox=\"0 0 24 24\"\n",
              "       width=\"24px\">\n",
              "    <path d=\"M0 0h24v24H0V0z\" fill=\"none\"/>\n",
              "    <path d=\"M18.56 5.44l.94 2.06.94-2.06 2.06-.94-2.06-.94-.94-2.06-.94 2.06-2.06.94zm-11 1L8.5 8.5l.94-2.06 2.06-.94-2.06-.94L8.5 2.5l-.94 2.06-2.06.94zm10 10l.94 2.06.94-2.06 2.06-.94-2.06-.94-.94-2.06-.94 2.06-2.06.94z\"/><path d=\"M17.41 7.96l-1.37-1.37c-.4-.4-.92-.59-1.43-.59-.52 0-1.04.2-1.43.59L10.3 9.45l-7.72 7.72c-.78.78-.78 2.05 0 2.83L4 21.41c.39.39.9.59 1.41.59.51 0 1.02-.2 1.41-.59l7.78-7.78 2.81-2.81c.8-.78.8-2.07 0-2.86zM5.41 20L4 18.59l7.72-7.72 1.47 1.35L5.41 20z\"/>\n",
              "  </svg>\n",
              "      </button>\n",
              "      \n",
              "  <style>\n",
              "    .colab-df-container {\n",
              "      display:flex;\n",
              "      flex-wrap:wrap;\n",
              "      gap: 12px;\n",
              "    }\n",
              "\n",
              "    .colab-df-convert {\n",
              "      background-color: #E8F0FE;\n",
              "      border: none;\n",
              "      border-radius: 50%;\n",
              "      cursor: pointer;\n",
              "      display: none;\n",
              "      fill: #1967D2;\n",
              "      height: 32px;\n",
              "      padding: 0 0 0 0;\n",
              "      width: 32px;\n",
              "    }\n",
              "\n",
              "    .colab-df-convert:hover {\n",
              "      background-color: #E2EBFA;\n",
              "      box-shadow: 0px 1px 2px rgba(60, 64, 67, 0.3), 0px 1px 3px 1px rgba(60, 64, 67, 0.15);\n",
              "      fill: #174EA6;\n",
              "    }\n",
              "\n",
              "    [theme=dark] .colab-df-convert {\n",
              "      background-color: #3B4455;\n",
              "      fill: #D2E3FC;\n",
              "    }\n",
              "\n",
              "    [theme=dark] .colab-df-convert:hover {\n",
              "      background-color: #434B5C;\n",
              "      box-shadow: 0px 1px 3px 1px rgba(0, 0, 0, 0.15);\n",
              "      filter: drop-shadow(0px 1px 2px rgba(0, 0, 0, 0.3));\n",
              "      fill: #FFFFFF;\n",
              "    }\n",
              "  </style>\n",
              "\n",
              "      <script>\n",
              "        const buttonEl =\n",
              "          document.querySelector('#df-d8ddf3a5-2954-4028-bbad-ba437aaeded7 button.colab-df-convert');\n",
              "        buttonEl.style.display =\n",
              "          google.colab.kernel.accessAllowed ? 'block' : 'none';\n",
              "\n",
              "        async function convertToInteractive(key) {\n",
              "          const element = document.querySelector('#df-d8ddf3a5-2954-4028-bbad-ba437aaeded7');\n",
              "          const dataTable =\n",
              "            await google.colab.kernel.invokeFunction('convertToInteractive',\n",
              "                                                     [key], {});\n",
              "          if (!dataTable) return;\n",
              "\n",
              "          const docLinkHtml = 'Like what you see? Visit the ' +\n",
              "            '<a target=\"_blank\" href=https://colab.research.google.com/notebooks/data_table.ipynb>data table notebook</a>'\n",
              "            + ' to learn more about interactive tables.';\n",
              "          element.innerHTML = '';\n",
              "          dataTable['output_type'] = 'display_data';\n",
              "          await google.colab.output.renderOutput(dataTable, element);\n",
              "          const docLink = document.createElement('div');\n",
              "          docLink.innerHTML = docLinkHtml;\n",
              "          element.appendChild(docLink);\n",
              "        }\n",
              "      </script>\n",
              "    </div>\n",
              "  </div>\n",
              "  "
            ]
          },
          "metadata": {},
          "execution_count": 34
        },
        {
          "output_type": "stream",
          "name": "stdout",
          "text": [
            "<class 'pandas.core.frame.DataFrame'>\n",
            "Int64Index: 20000 entries, 19999 to 0\n",
            "Data columns (total 10 columns):\n",
            " #   Column        Non-Null Count  Dtype              \n",
            "---  ------        --------------  -----              \n",
            " 0   datetime      20000 non-null  datetime64[ns, UTC]\n",
            " 1   id            20000 non-null  int64              \n",
            " 2   tweet         20000 non-null  object             \n",
            " 3   username      20000 non-null  object             \n",
            " 4   reply_ct      20000 non-null  int64              \n",
            " 5   retweet_ct    20000 non-null  int64              \n",
            " 6   like_ct       20000 non-null  int64              \n",
            " 7   quote_ct      20000 non-null  int64              \n",
            " 8   retweeted_id  0 non-null      object             \n",
            " 9   quoted_id     1540 non-null   object             \n",
            "dtypes: datetime64[ns, UTC](1), int64(5), object(4)\n",
            "memory usage: 1.7+ MB\n"
          ]
        }
      ],
      "source": [
        "data_df.head()\n",
        "data_df.info()"
      ]
    },
    {
      "cell_type": "code",
      "execution_count": 35,
      "metadata": {
        "id": "7IWi40fRuQNv"
      },
      "outputs": [],
      "source": [
        "tweet_test_ls = [\n",
        "    \"?RT @justinbiebcr: The bigger the better....if you know what I mean ;)\tnegative\",\n",
        "    \"Your busy schedule might not leave you a lot of room today for... More for Scorpio http://twittascope.com/twittascope/?sign=8\",\n",
        "    \"In ny wif @DJWALLAH and the Heavy Hitter crew... shout to @freddyphh for looking real gay in the camera...lol...\",\n",
        "    \"I finished my fourth can of Coke WTF.\",\n",
        "    \"I don't give a shit about Valentines, i'm pissed that i have no access to the new Uffie album!!\",\n",
        "    \"I got my pops whip right now and this nigga aint got NOOO heat. Smh\",\n",
        "    \"RT @SunshynAndPain My tummy hurts =[ {hope you feel better} :) ;)\",\n",
        "    \"I feel good, I knew that I would now ✋🏽😜🤚🏽\"\n",
        "]"
      ]
    },
    {
      "cell_type": "code",
      "execution_count": 36,
      "metadata": {
        "colab": {
          "base_uri": "https://localhost:8080/",
          "height": 36
        },
        "id": "TRTdmakW8tO_",
        "outputId": "022d2a91-3770-4a47-9097-72a6555a2de0"
      },
      "outputs": [
        {
          "output_type": "execute_result",
          "data": {
            "text/plain": [
              "'This is a very dirty DIRTY StrInG!!'"
            ],
            "application/vnd.google.colaboratory.intrinsic+json": {
              "type": "string"
            }
          },
          "metadata": {},
          "execution_count": 36
        },
        {
          "output_type": "execute_result",
          "data": {
            "text/plain": [
              "'up!'"
            ],
            "application/vnd.google.colaboratory.intrinsic+json": {
              "type": "string"
            }
          },
          "metadata": {},
          "execution_count": 36
        },
        {
          "output_type": "execute_result",
          "data": {
            "text/plain": [
              "'\"Watch out!\" he said.'"
            ],
            "application/vnd.google.colaboratory.intrinsic+json": {
              "type": "string"
            }
          },
          "metadata": {},
          "execution_count": 36
        }
      ],
      "source": [
        "def clean_basic_str(dirty_str):\n",
        "  '''\n",
        "  STEP 1: Basic tweet text preprocessing\n",
        "  '''\n",
        "\n",
        "  contraction_expanded_str = contractions.fix(dirty_str)\n",
        "\n",
        "  clean_str = clean(contraction_expanded_str,\n",
        "      fix_unicode=True,               # fix various unicode errors\n",
        "      to_ascii=True,                  # transliterate to closest ASCII representation\n",
        "      lower=False,                     # lowercase text\n",
        "      no_line_breaks=True,           # fully strip line breaks as opposed to only normalizing them\n",
        "      no_urls=True,                  # replace all URLs with a special token\n",
        "      no_emails=True,                # replace all email addresses with a special token\n",
        "      no_phone_numbers=True,         # replace all phone numbers with a special token\n",
        "      no_numbers=False,               # replace all numbers with a special token\n",
        "      no_digits=False,                # replace all digits with a special token\n",
        "      no_currency_symbols=False,      # replace all currency symbols with a special token\n",
        "      no_punct=False,                 # remove punctuations\n",
        "      # replace_with_punct=\"\",          # instead of removing punctuations you may replace them\n",
        "      # replace_with_url=\"<URL>\",\n",
        "      # replace_with_email=\"<EMAIL>\",\n",
        "      # replace_with_phone_number=\"<PHONE>\",\n",
        "      # replace_with_number=\"<NUMBER>\",\n",
        "      # replace_with_digit=\"0\",\n",
        "      # replace_with_currency_symbol=\"<CUR>\",\n",
        "      lang=\"en\"                       # set to 'de' for German special handling\n",
        "  )\n",
        "\n",
        "  # Replace all new lines/returns with single whitespace\n",
        "  clean_str = ' '.join(clean_str.split())\n",
        "  # clean_str = clean_str.replace('\\n\\r', ' ')\n",
        "  # clean_str = clean_str.replace('\\n', ' ')\n",
        "  # clean_str = clean_str.replace('\\r', ' ')\n",
        "  # clean_str = ' '.join(clean_str.split())\n",
        "\n",
        "  # Strip unpaired leading/trailing quotes\n",
        "  if (clean_str.count('\"') % 2 == 1):\n",
        "    clean_str = clean_str.strip('\"')\n",
        "  if (clean_str.count(\"'\") % 2 == 1):\n",
        "    clean_str = clean_str.strip(\"'\")\n",
        "\n",
        "  return clean_str \n",
        "\n",
        "# Test\n",
        "\n",
        "clean_basic_str(\"This \\n\\n\\n is a very dirty DIRTY StrInG!!\")\n",
        "clean_basic_str('\"up!')\n",
        "clean_basic_str('\"Watch out!\" he said.')"
      ]
    },
    {
      "cell_type": "code",
      "execution_count": 37,
      "metadata": {
        "colab": {
          "base_uri": "https://localhost:8080/",
          "height": 36
        },
        "id": "sZ6uXXsGzmv3",
        "outputId": "67bc0f87-d8eb-41c1-94ae-e191e6990e9e"
      },
      "outputs": [
        {
          "output_type": "execute_result",
          "data": {
            "text/plain": [
              "'I feel good , I knew that I would now raised hand medium skin tone winking face with tongue raised back of hand medium skin tone'"
            ],
            "application/vnd.google.colaboratory.intrinsic+json": {
              "type": "string"
            }
          },
          "metadata": {},
          "execution_count": 37
        }
      ],
      "source": [
        "def translate_emoji(raw_str):\n",
        "  '''\n",
        "  STEP 2: Convert emoji/emoticons to plain english words\n",
        "  '''\n",
        "\n",
        "  # Translate Unicode icon emoji to english words\n",
        "  emoji2txt_str = emoji.demojize(raw_str) # , delimiters='') # .replace('_',' '))\n",
        "\n",
        "  # Translate text/punctuation emojicons [e.g. ;) :smirk:] to english words\n",
        "  emoji2txt_str = emoticon_fix.emoticon_fix(emoji2txt_str)\n",
        "\n",
        "  # Perform basic text preprocessing\n",
        "  emoji2txt_str = clean_basic_str(emoji2txt_str)  # Execute STEP 1: basic preprocessing\n",
        "  emoji2txt_str = emoji2txt_str.replace('_', ' ')\n",
        "  emoji2txt_str = emoji2txt_str.replace(':',' ')\n",
        "  emoji2txt_str = \" \".join(emoji2txt_str.split())\n",
        "  \n",
        "  return emoji2txt_str\n",
        "\n",
        "# Test\n",
        "\n",
        "translate_emoji(\"I feel good, I knew that I would now ✋🏽😜🤚🏽\")"
      ]
    },
    {
      "cell_type": "code",
      "execution_count": 38,
      "metadata": {
        "colab": {
          "base_uri": "https://localhost:8080/",
          "height": 36
        },
        "id": "VNv_sEUGN4ly",
        "outputId": "942e1ca2-ed7e-4d4c-b927-c7c8f9709402"
      },
      "outputs": [
        {
          "output_type": "execute_result",
          "data": {
            "text/plain": [
              "'Hi : o Smile Smirk'"
            ],
            "application/vnd.google.colaboratory.intrinsic+json": {
              "type": "string"
            }
          },
          "metadata": {},
          "execution_count": 38
        }
      ],
      "source": [
        "# Test\n",
        "\n",
        "emoticon_fix.emoticon_fix('Hi :o :) ;)').replace('_',' ')"
      ]
    },
    {
      "cell_type": "code",
      "execution_count": 39,
      "metadata": {
        "colab": {
          "base_uri": "https://localhost:8080/"
        },
        "id": "pgp7lBZ5uOaZ",
        "outputId": "4f875053-2f48-4eb9-f53c-fddb95cd8ec1"
      },
      "outputs": [
        {
          "output_type": "stream",
          "name": "stdout",
          "text": [
            "ORIGINAL: ?RT @justinbiebcr: The bigger the better....if you know what I mean ;)\tnegative\n",
            "   CLEAN: ?RT @justinbiebcr: The bigger the better....if you know what I mean ;) negative\n",
            "\n",
            "\n",
            "ORIGINAL: Your busy schedule might not leave you a lot of room today for... More for Scorpio http://twittascope.com/twittascope/?sign=8\n",
            "   CLEAN: Your busy schedule might not leave you a lot of room today for... More for Scorpio <URL>\n",
            "\n",
            "\n",
            "ORIGINAL: In ny wif @DJWALLAH and the Heavy Hitter crew... shout to @freddyphh for looking real gay in the camera...lol...\n",
            "   CLEAN: In ny wif @DJWALLAH and the Heavy Hitter crew... shout to @freddyphh for looking real gay in the camera...lol...\n",
            "\n",
            "\n",
            "ORIGINAL: I finished my fourth can of Coke WTF.\n",
            "   CLEAN: I finished my fourth can of Coke WTF.\n",
            "\n",
            "\n",
            "ORIGINAL: I don't give a shit about Valentines, i'm pissed that i have no access to the new Uffie album!!\n",
            "   CLEAN: I do not give a shit about Valentines, i am pissed that i have no access to the new Uffie album!!\n",
            "\n",
            "\n",
            "ORIGINAL: I got my pops whip right now and this nigga aint got NOOO heat. Smh\n",
            "   CLEAN: I got my pops whip right now and this nigga are not got NOOO heat. Smh\n",
            "\n",
            "\n",
            "ORIGINAL: RT @SunshynAndPain My tummy hurts =[ {hope you feel better} :) ;)\n",
            "   CLEAN: RT @SunshynAndPain My tummy hurts =[ {hope you feel better} :) ;)\n",
            "\n",
            "\n",
            "ORIGINAL: I feel good, I knew that I would now ✋🏽😜🤚🏽\n",
            "   CLEAN: I feel good, I knew that I would now ✋🏽😜🤚🏽\n",
            "\n",
            "\n"
          ]
        }
      ],
      "source": [
        "# Test clean_basic_str()\n",
        "\n",
        "clean_basic_ls = []\n",
        "\n",
        "for i,atweet in enumerate(tweet_test_ls):\n",
        "  clean_tweet = clean_basic_str(atweet)\n",
        "  print(f\"ORIGINAL: {atweet}\\n   CLEAN: {clean_tweet}\\n\\n\")\n",
        "  # print(f\"    CODE: {chardet.detect(atweet)}\")\n",
        "  clean_basic_ls.append(clean_tweet)"
      ]
    },
    {
      "cell_type": "code",
      "execution_count": 40,
      "metadata": {
        "colab": {
          "base_uri": "https://localhost:8080/"
        },
        "id": "bPx6YFq8Fuid",
        "outputId": "2df9e3fd-c747-467c-ca68-cd1eabccd1a1"
      },
      "outputs": [
        {
          "output_type": "stream",
          "name": "stderr",
          "text": [
            "[nltk_data] Downloading package punkt to /root/nltk_data...\n",
            "[nltk_data]   Unzipping tokenizers/punkt.zip.\n"
          ]
        },
        {
          "output_type": "execute_result",
          "data": {
            "text/plain": [
              "True"
            ]
          },
          "metadata": {},
          "execution_count": 40
        }
      ],
      "source": [
        "# Required for STEP 3 (techniques.py): NLTK for tokenization\n",
        "\n",
        "import nltk\n",
        "nltk.download('punkt')"
      ]
    },
    {
      "cell_type": "code",
      "execution_count": 41,
      "metadata": {
        "colab": {
          "base_uri": "https://localhost:8080/"
        },
        "id": "MTEqRXUmate1",
        "outputId": "eecf2338-3b54-426b-db5f-60c1c65fe449"
      },
      "outputs": [
        {
          "output_type": "stream",
          "name": "stderr",
          "text": [
            "/usr/local/lib/python3.8/dist-packages/torch/cuda/__init__.py:497: UserWarning: Can't initialize NVML\n",
            "  warnings.warn(\"Can't initialize NVML\")\n"
          ]
        },
        {
          "output_type": "stream",
          "name": "stdout",
          "text": [
            "do display word\n"
          ]
        }
      ],
      "source": [
        "# Required for STEP 3: spaCy for lemmatization\n",
        "\n",
        "import spacy\n",
        "\n",
        "nlp = spacy.load('en_core_web_sm')\n",
        "\n",
        "# Test\n",
        "\n",
        "doc = nlp('did displaying words')\n",
        "print(\" \".join([token.lemma_ for token in doc]))"
      ]
    },
    {
      "cell_type": "code",
      "execution_count": 42,
      "metadata": {
        "id": "0zC1HVjbnuGa"
      },
      "outputs": [],
      "source": [
        "# Step 3: Advanced Tweet Preprocessing on text_intermed with techniques.py\n",
        "# https://github.com/Deffro/text-preprocessing-techniques/blob/master/preprocess.py\n",
        "# TODO: rip this out entirely and replace inline\n",
        "\n",
        "def clean_adv_str(text_str):\n",
        "  '''\n",
        "  STEP 3: Advanced Tweet text preprocessing\n",
        "  '''\n",
        "  \n",
        "  text_str = text_str.strip()\n",
        "\n",
        "  # Convert encoding to printable ASCII\n",
        "  # text_str = text_str.encode(\"ascii\", \"ignore\")  \n",
        "\n",
        "  # Remove URLs\n",
        "  text_str = re.sub('((www\\.[^\\s]+)|(https?://[^\\s]+))',' ',text_str)\n",
        "  text_str = re.sub(r'#([^\\s]+)', r'\\1', text_str)\n",
        "\n",
        "  # Remove @User\n",
        "  text_str = re.sub('@[^\\s]+',' ',text_str)\n",
        "\n",
        "  # Remove # infront of hash tag words\n",
        "  text_str = re.sub(r'#([^\\s]+)', r'\\1', text_str)\n",
        "\n",
        "  # totalSlangs = 0\n",
        "  # totalSlangsFound = []\n",
        "  temp_slangs, temp_slangsFound = countSlang(text_str)\n",
        "  # totalSlangs = temp_slangs # total slangs for all sentences\n",
        "  # for word in temp_slangsFound:\n",
        "  #     totalSlangsFound.append(word) # all the slangs found in all sentences\n",
        " \n",
        "  text_str = replaceSlang(text_str) # Technique 2: replaces slang words and abbreviations with their equivalents\n",
        "\n",
        "\n",
        "  text_str = replaceContraction(text_str) # Technique 3: replaces contractions to their equivalents\n",
        "\n",
        "\n",
        "  # Remove Numbers\n",
        "  text_str = removeNumbers(text_str) # Technique 4: remove integers from text\n",
        "\n",
        "  # Remove Punctuation\n",
        "  # text_str = removePunctuation(text_str) \n",
        "  # text_str = text_str.decode('ascii')\n",
        "\n",
        "  doc = nlp(text_str)\n",
        "  # Convert tokens to lemmas and filter out stopwords\n",
        "  text_str = (\" \".join([token.lemma_ for token in doc if not token.is_stop]))\n",
        "  # Convert to lowercase\n",
        "  text_str = text_str.lower()\n",
        "  # Filter out punctuation\n",
        "  text_str = text_str.translate(str.maketrans('', '', string.punctuation))\n",
        "  # Collapse multiple whitespaces\n",
        "  text_str = \" \".join(text_str.split())\n",
        "\n",
        "  return text_str"
      ]
    },
    {
      "cell_type": "code",
      "execution_count": 43,
      "metadata": {
        "id": "uDltshEK0k40",
        "colab": {
          "base_uri": "https://localhost:8080/"
        },
        "outputId": "5832d6d1-b4b9-4d46-ef0c-12f0020ea417"
      },
      "outputs": [
        {
          "output_type": "stream",
          "name": "stdout",
          "text": [
            "<class 'pandas.core.frame.DataFrame'>\n",
            "Int64Index: 20000 entries, 19999 to 0\n",
            "Data columns (total 13 columns):\n",
            " #   Column        Non-Null Count  Dtype              \n",
            "---  ------        --------------  -----              \n",
            " 0   datetime      20000 non-null  datetime64[ns, UTC]\n",
            " 1   id            20000 non-null  int64              \n",
            " 2   tweet         20000 non-null  object             \n",
            " 3   username      20000 non-null  object             \n",
            " 4   reply_ct      20000 non-null  int64              \n",
            " 5   retweet_ct    20000 non-null  int64              \n",
            " 6   like_ct       20000 non-null  int64              \n",
            " 7   quote_ct      20000 non-null  int64              \n",
            " 8   retweeted_id  0 non-null      object             \n",
            " 9   quoted_id     1540 non-null   object             \n",
            " 10  text_raw      20000 non-null  object             \n",
            " 11  text_noemoji  20000 non-null  object             \n",
            " 12  text_clean    20000 non-null  object             \n",
            "dtypes: datetime64[ns, UTC](1), int64(5), object(7)\n",
            "memory usage: 2.1+ MB\n",
            "CPU times: user 3min 47s, sys: 737 ms, total: 3min 48s\n",
            "Wall time: 3min 47s\n"
          ]
        }
      ],
      "source": [
        "%%time\n",
        "\n",
        "# NOTE:    42s on Sun 20221204 @ 15:44PM EST on Colab Pro T4 on 5k Tweets\n",
        "#        2m10s on Tue 20221204 @ 03:15AM EST on Colab Pro T4 on 10k Tweets\n",
        "#        6m30s on Fri 20221208 @ 04:28AM EST on Colab Pro T4 on 30k Tweets\n",
        "#        5m03s on Sun 20221211 @ 14:15PM EST on Colab Pro T4 on 30k Tweets\n",
        "#        6m14s on Sun 20221211 @ 14:15PM EST on Colab Pro T4 on 30k Tweets\n",
        "#        6m30s on Mon 20221214 @ 00:14AM EST on Colab Pro CPU on 30k Tweets\n",
        "#        4m40s on Fri 20221216 @ 03:52AM EST on Colab Pro CPU on 30k Tweets\n",
        "\n",
        "\n",
        "# Create data_df to hold text sentences and corresponding sentiment values\n",
        "\n",
        "# Step 1-2: Convert unicode emojis and text/punctuation of emojicons to plain english words for all models (save in text_noemoji)\n",
        "\n",
        "# data_df = pd.DataFrame({'text_raw': novel_sentences_ls})\n",
        "\n",
        "# STEP 1: Basic Twitter text preprocessing\n",
        "# currently embedded within translate_emoji() due to emoji2txt additions ':' and '_' removal\n",
        "data_df['text_raw'] = data_df['tweet'].apply(lambda x: str(x))\n",
        "\n",
        "# STEP 2: Translate Unicode icon emoji and text/punctuation emoticons to english words\n",
        "data_df['text_noemoji'] = data_df['text_raw'].apply(lambda x: translate_emoji(str(x))) \n",
        "# This 'text_noemoji' version of tweet is fed into advanced SOTA Transformer models that can exploit richer context\n",
        "\n",
        "# STEP 3: Advanced Twitter text preprocessing\n",
        "data_df['text_clean'] = data_df['text_noemoji'].apply(lambda x: clean_adv_str(x)) \n",
        "# This 'text_clean' version of tweet is fed into simplier sentiment models that depend more on normalized feature engineering (e.g. lexicons, stat ML)\n",
        "\n",
        "data_df.iloc[50:70]\n",
        "data_df.info()"
      ]
    },
    {
      "cell_type": "code",
      "source": [
        "data_df.isna().sum()"
      ],
      "metadata": {
        "colab": {
          "base_uri": "https://localhost:8080/"
        },
        "id": "A5qDtQjuxNA-",
        "outputId": "e013ddee-9b10-4709-c822-771d94ab46b5"
      },
      "execution_count": 44,
      "outputs": [
        {
          "output_type": "execute_result",
          "data": {
            "text/plain": [
              "datetime            0\n",
              "id                  0\n",
              "tweet               0\n",
              "username            0\n",
              "reply_ct            0\n",
              "retweet_ct          0\n",
              "like_ct             0\n",
              "quote_ct            0\n",
              "retweeted_id    20000\n",
              "quoted_id       18460\n",
              "text_raw            0\n",
              "text_noemoji        0\n",
              "text_clean          0\n",
              "dtype: int64"
            ]
          },
          "metadata": {},
          "execution_count": 44
        }
      ]
    },
    {
      "cell_type": "code",
      "source": [
        "# Drop unused columns\n",
        "\n",
        "if 'reply_ct' in data_df.columns:\n",
        "  data_df.drop(columns=['reply_ct'], inplace=True)\n",
        "\n",
        "if 'retweet_ct' in data_df.columns:\n",
        "  data_df.drop(columns=['retweet_ct'], inplace=True)\n",
        "\n",
        "if 'like_ct' in data_df.columns:\n",
        "  data_df.drop(columns=['like_ct'], inplace=True)\n",
        "\n",
        "if 'quote_ct' in data_df.columns:\n",
        "  data_df.drop(columns=['quote_ct'], inplace=True)\n",
        "\n",
        "if 'retweeted_id' in data_df.columns:\n",
        "  data_df.drop(columns=['retweeted_id'], inplace=True)\n",
        "\n",
        "if 'quoted_id' in data_df.columns:\n",
        "  data_df.drop(columns=['quoted_id'], inplace=True)\n",
        "\n",
        "data_df.info()"
      ],
      "metadata": {
        "colab": {
          "base_uri": "https://localhost:8080/"
        },
        "id": "wkBvxpWpLi7o",
        "outputId": "a50a2b44-343d-41ad-ff97-15958a01bab0"
      },
      "execution_count": 45,
      "outputs": [
        {
          "output_type": "stream",
          "name": "stdout",
          "text": [
            "<class 'pandas.core.frame.DataFrame'>\n",
            "Int64Index: 20000 entries, 19999 to 0\n",
            "Data columns (total 7 columns):\n",
            " #   Column        Non-Null Count  Dtype              \n",
            "---  ------        --------------  -----              \n",
            " 0   datetime      20000 non-null  datetime64[ns, UTC]\n",
            " 1   id            20000 non-null  int64              \n",
            " 2   tweet         20000 non-null  object             \n",
            " 3   username      20000 non-null  object             \n",
            " 4   text_raw      20000 non-null  object             \n",
            " 5   text_noemoji  20000 non-null  object             \n",
            " 6   text_clean    20000 non-null  object             \n",
            "dtypes: datetime64[ns, UTC](1), int64(1), object(5)\n",
            "memory usage: 1.2+ MB\n"
          ]
        }
      ]
    },
    {
      "cell_type": "code",
      "execution_count": 46,
      "metadata": {
        "colab": {
          "base_uri": "https://localhost:8080/",
          "height": 649
        },
        "id": "ud3X4FeMGcie",
        "outputId": "e2a6f40d-2955-46bf-e53c-dddb1497fd45"
      },
      "outputs": [
        {
          "output_type": "execute_result",
          "data": {
            "text/plain": [
              "                       datetime                   id  \\\n",
              "19999 2022-11-15 00:28:28+00:00  1592313547870318594   \n",
              "19998 2022-11-15 00:30:17+00:00  1592314006366453760   \n",
              "19997 2022-11-15 00:30:36+00:00  1592314083847856130   \n",
              "19996 2022-11-15 00:31:34+00:00  1592314330619731970   \n",
              "19995 2022-11-15 00:35:46+00:00  1592315386120134656   \n",
              "\n",
              "                                                   tweet     username  \\\n",
              "19999  $SNAP 💰🔝🚀\\n\\n3 Reasons Snap Stock Could Snap B...  BezosCrypto   \n",
              "19998     @amybabygirl8 TikTok will ban you for anything    JanaNylon   \n",
              "19997  $SNAP 💰🔝🚀\\n\\n3 Reasons Snap Stock Could Snap B...  BezosCrypto   \n",
              "19996  #FCC asks for #Ban of #Chinese App #TikTok  ht...   MetroCoder   \n",
              "19995  Brendan Carr of the Federal Communications Com...  BezosCrypto   \n",
              "\n",
              "                                                text_raw  \\\n",
              "19999  $SNAP 💰🔝🚀\\n\\n3 Reasons Snap Stock Could Snap B...   \n",
              "19998     @amybabygirl8 TikTok will ban you for anything   \n",
              "19997  $SNAP 💰🔝🚀\\n\\n3 Reasons Snap Stock Could Snap B...   \n",
              "19996  #FCC asks for #Ban of #Chinese App #TikTok  ht...   \n",
              "19995  Brendan Carr of the Federal Communications Com...   \n",
              "\n",
              "                                            text_noemoji  \\\n",
              "19999  $ SNAP money bag TOP arrow rocket 3 Reasons Sn...   \n",
              "19998     @amybabygirl8 TikTok will ban you for anything   \n",
              "19997  $ SNAP money bag TOP arrow rocket 3 Reasons Sn...   \n",
              "19996  #FCC asks for #Ban of #Chinese App #TikTok <UR...   \n",
              "19995  Brendan Carr of the Federal Communications Com...   \n",
              "\n",
              "                                              text_clean  \n",
              "19999  snap money bag arrow rocket reason snap stock ...  \n",
              "19998                                         tiktok ban  \n",
              "19997  snap money bag arrow rocket reason snap stock ...  \n",
              "19996                 fcc ask ban chinese app tiktok url  \n",
              "19995  brendan carr federal communications commission...  "
            ],
            "text/html": [
              "\n",
              "  <div id=\"df-005c8fb5-1931-4e7c-8849-c8e9685bb930\">\n",
              "    <div class=\"colab-df-container\">\n",
              "      <div>\n",
              "<style scoped>\n",
              "    .dataframe tbody tr th:only-of-type {\n",
              "        vertical-align: middle;\n",
              "    }\n",
              "\n",
              "    .dataframe tbody tr th {\n",
              "        vertical-align: top;\n",
              "    }\n",
              "\n",
              "    .dataframe thead th {\n",
              "        text-align: right;\n",
              "    }\n",
              "</style>\n",
              "<table border=\"1\" class=\"dataframe\">\n",
              "  <thead>\n",
              "    <tr style=\"text-align: right;\">\n",
              "      <th></th>\n",
              "      <th>datetime</th>\n",
              "      <th>id</th>\n",
              "      <th>tweet</th>\n",
              "      <th>username</th>\n",
              "      <th>text_raw</th>\n",
              "      <th>text_noemoji</th>\n",
              "      <th>text_clean</th>\n",
              "    </tr>\n",
              "  </thead>\n",
              "  <tbody>\n",
              "    <tr>\n",
              "      <th>19999</th>\n",
              "      <td>2022-11-15 00:28:28+00:00</td>\n",
              "      <td>1592313547870318594</td>\n",
              "      <td>$SNAP 💰🔝🚀\\n\\n3 Reasons Snap Stock Could Snap B...</td>\n",
              "      <td>BezosCrypto</td>\n",
              "      <td>$SNAP 💰🔝🚀\\n\\n3 Reasons Snap Stock Could Snap B...</td>\n",
              "      <td>$ SNAP money bag TOP arrow rocket 3 Reasons Sn...</td>\n",
              "      <td>snap money bag arrow rocket reason snap stock ...</td>\n",
              "    </tr>\n",
              "    <tr>\n",
              "      <th>19998</th>\n",
              "      <td>2022-11-15 00:30:17+00:00</td>\n",
              "      <td>1592314006366453760</td>\n",
              "      <td>@amybabygirl8 TikTok will ban you for anything</td>\n",
              "      <td>JanaNylon</td>\n",
              "      <td>@amybabygirl8 TikTok will ban you for anything</td>\n",
              "      <td>@amybabygirl8 TikTok will ban you for anything</td>\n",
              "      <td>tiktok ban</td>\n",
              "    </tr>\n",
              "    <tr>\n",
              "      <th>19997</th>\n",
              "      <td>2022-11-15 00:30:36+00:00</td>\n",
              "      <td>1592314083847856130</td>\n",
              "      <td>$SNAP 💰🔝🚀\\n\\n3 Reasons Snap Stock Could Snap B...</td>\n",
              "      <td>BezosCrypto</td>\n",
              "      <td>$SNAP 💰🔝🚀\\n\\n3 Reasons Snap Stock Could Snap B...</td>\n",
              "      <td>$ SNAP money bag TOP arrow rocket 3 Reasons Sn...</td>\n",
              "      <td>snap money bag arrow rocket reason snap stock ...</td>\n",
              "    </tr>\n",
              "    <tr>\n",
              "      <th>19996</th>\n",
              "      <td>2022-11-15 00:31:34+00:00</td>\n",
              "      <td>1592314330619731970</td>\n",
              "      <td>#FCC asks for #Ban of #Chinese App #TikTok  ht...</td>\n",
              "      <td>MetroCoder</td>\n",
              "      <td>#FCC asks for #Ban of #Chinese App #TikTok  ht...</td>\n",
              "      <td>#FCC asks for #Ban of #Chinese App #TikTok &lt;UR...</td>\n",
              "      <td>fcc ask ban chinese app tiktok url</td>\n",
              "    </tr>\n",
              "    <tr>\n",
              "      <th>19995</th>\n",
              "      <td>2022-11-15 00:35:46+00:00</td>\n",
              "      <td>1592315386120134656</td>\n",
              "      <td>Brendan Carr of the Federal Communications Com...</td>\n",
              "      <td>BezosCrypto</td>\n",
              "      <td>Brendan Carr of the Federal Communications Com...</td>\n",
              "      <td>Brendan Carr of the Federal Communications Com...</td>\n",
              "      <td>brendan carr federal communications commission...</td>\n",
              "    </tr>\n",
              "  </tbody>\n",
              "</table>\n",
              "</div>\n",
              "      <button class=\"colab-df-convert\" onclick=\"convertToInteractive('df-005c8fb5-1931-4e7c-8849-c8e9685bb930')\"\n",
              "              title=\"Convert this dataframe to an interactive table.\"\n",
              "              style=\"display:none;\">\n",
              "        \n",
              "  <svg xmlns=\"http://www.w3.org/2000/svg\" height=\"24px\"viewBox=\"0 0 24 24\"\n",
              "       width=\"24px\">\n",
              "    <path d=\"M0 0h24v24H0V0z\" fill=\"none\"/>\n",
              "    <path d=\"M18.56 5.44l.94 2.06.94-2.06 2.06-.94-2.06-.94-.94-2.06-.94 2.06-2.06.94zm-11 1L8.5 8.5l.94-2.06 2.06-.94-2.06-.94L8.5 2.5l-.94 2.06-2.06.94zm10 10l.94 2.06.94-2.06 2.06-.94-2.06-.94-.94-2.06-.94 2.06-2.06.94z\"/><path d=\"M17.41 7.96l-1.37-1.37c-.4-.4-.92-.59-1.43-.59-.52 0-1.04.2-1.43.59L10.3 9.45l-7.72 7.72c-.78.78-.78 2.05 0 2.83L4 21.41c.39.39.9.59 1.41.59.51 0 1.02-.2 1.41-.59l7.78-7.78 2.81-2.81c.8-.78.8-2.07 0-2.86zM5.41 20L4 18.59l7.72-7.72 1.47 1.35L5.41 20z\"/>\n",
              "  </svg>\n",
              "      </button>\n",
              "      \n",
              "  <style>\n",
              "    .colab-df-container {\n",
              "      display:flex;\n",
              "      flex-wrap:wrap;\n",
              "      gap: 12px;\n",
              "    }\n",
              "\n",
              "    .colab-df-convert {\n",
              "      background-color: #E8F0FE;\n",
              "      border: none;\n",
              "      border-radius: 50%;\n",
              "      cursor: pointer;\n",
              "      display: none;\n",
              "      fill: #1967D2;\n",
              "      height: 32px;\n",
              "      padding: 0 0 0 0;\n",
              "      width: 32px;\n",
              "    }\n",
              "\n",
              "    .colab-df-convert:hover {\n",
              "      background-color: #E2EBFA;\n",
              "      box-shadow: 0px 1px 2px rgba(60, 64, 67, 0.3), 0px 1px 3px 1px rgba(60, 64, 67, 0.15);\n",
              "      fill: #174EA6;\n",
              "    }\n",
              "\n",
              "    [theme=dark] .colab-df-convert {\n",
              "      background-color: #3B4455;\n",
              "      fill: #D2E3FC;\n",
              "    }\n",
              "\n",
              "    [theme=dark] .colab-df-convert:hover {\n",
              "      background-color: #434B5C;\n",
              "      box-shadow: 0px 1px 3px 1px rgba(0, 0, 0, 0.15);\n",
              "      filter: drop-shadow(0px 1px 2px rgba(0, 0, 0, 0.3));\n",
              "      fill: #FFFFFF;\n",
              "    }\n",
              "  </style>\n",
              "\n",
              "      <script>\n",
              "        const buttonEl =\n",
              "          document.querySelector('#df-005c8fb5-1931-4e7c-8849-c8e9685bb930 button.colab-df-convert');\n",
              "        buttonEl.style.display =\n",
              "          google.colab.kernel.accessAllowed ? 'block' : 'none';\n",
              "\n",
              "        async function convertToInteractive(key) {\n",
              "          const element = document.querySelector('#df-005c8fb5-1931-4e7c-8849-c8e9685bb930');\n",
              "          const dataTable =\n",
              "            await google.colab.kernel.invokeFunction('convertToInteractive',\n",
              "                                                     [key], {});\n",
              "          if (!dataTable) return;\n",
              "\n",
              "          const docLinkHtml = 'Like what you see? Visit the ' +\n",
              "            '<a target=\"_blank\" href=https://colab.research.google.com/notebooks/data_table.ipynb>data table notebook</a>'\n",
              "            + ' to learn more about interactive tables.';\n",
              "          element.innerHTML = '';\n",
              "          dataTable['output_type'] = 'display_data';\n",
              "          await google.colab.output.renderOutput(dataTable, element);\n",
              "          const docLink = document.createElement('div');\n",
              "          docLink.innerHTML = docLinkHtml;\n",
              "          element.appendChild(docLink);\n",
              "        }\n",
              "      </script>\n",
              "    </div>\n",
              "  </div>\n",
              "  "
            ]
          },
          "metadata": {},
          "execution_count": 46
        },
        {
          "output_type": "stream",
          "name": "stdout",
          "text": [
            "<class 'pandas.core.frame.DataFrame'>\n",
            "Int64Index: 20000 entries, 19999 to 0\n",
            "Data columns (total 7 columns):\n",
            " #   Column        Non-Null Count  Dtype              \n",
            "---  ------        --------------  -----              \n",
            " 0   datetime      20000 non-null  datetime64[ns, UTC]\n",
            " 1   id            20000 non-null  int64              \n",
            " 2   tweet         20000 non-null  object             \n",
            " 3   username      20000 non-null  object             \n",
            " 4   text_raw      20000 non-null  object             \n",
            " 5   text_noemoji  20000 non-null  object             \n",
            " 6   text_clean    20000 non-null  object             \n",
            "dtypes: datetime64[ns, UTC](1), int64(1), object(5)\n",
            "memory usage: 1.2+ MB\n"
          ]
        }
      ],
      "source": [
        "data_df.dropna(inplace=True)\n",
        "data_df.head()\n",
        "data_df.info()"
      ]
    },
    {
      "cell_type": "code",
      "source": [
        "\"\"\"\n",
        "type(start_retrieve_date)\n",
        "start_retrieve_date.year\n",
        "start_retrieve_date.month\n",
        "start_retrieve_date.day\n",
        "type(start_retrieve_date.strftime('%Y%m%d'))\n",
        "\"\"\";"
      ],
      "metadata": {
        "id": "9JqlWqOPx65T"
      },
      "execution_count": 71,
      "outputs": []
    },
    {
      "cell_type": "code",
      "execution_count": 48,
      "metadata": {
        "colab": {
          "base_uri": "https://localhost:8080/",
          "height": 34
        },
        "id": "m3XPKP70gGQU",
        "outputId": "107e3814-6950-4d3a-e797-9f5a04104e1a"
      },
      "outputs": [
        {
          "output_type": "stream",
          "name": "stdout",
          "text": [
            "Saving to file: tweets_clean_tiktokban_20221216_181257_20221115_002828.csv\n"
          ]
        },
        {
          "output_type": "display_data",
          "data": {
            "text/plain": [
              "<IPython.core.display.Javascript object>"
            ],
            "application/javascript": [
              "\n",
              "    async function download(id, filename, size) {\n",
              "      if (!google.colab.kernel.accessAllowed) {\n",
              "        return;\n",
              "      }\n",
              "      const div = document.createElement('div');\n",
              "      const label = document.createElement('label');\n",
              "      label.textContent = `Downloading \"${filename}\": `;\n",
              "      div.appendChild(label);\n",
              "      const progress = document.createElement('progress');\n",
              "      progress.max = size;\n",
              "      div.appendChild(progress);\n",
              "      document.body.appendChild(div);\n",
              "\n",
              "      const buffers = [];\n",
              "      let downloaded = 0;\n",
              "\n",
              "      const channel = await google.colab.kernel.comms.open(id);\n",
              "      // Send a message to notify the kernel that we're ready.\n",
              "      channel.send({})\n",
              "\n",
              "      for await (const message of channel.messages) {\n",
              "        // Send a message to notify the kernel that we're ready.\n",
              "        channel.send({})\n",
              "        if (message.buffers) {\n",
              "          for (const buffer of message.buffers) {\n",
              "            buffers.push(buffer);\n",
              "            downloaded += buffer.byteLength;\n",
              "            progress.value = downloaded;\n",
              "          }\n",
              "        }\n",
              "      }\n",
              "      const blob = new Blob(buffers, {type: 'application/binary'});\n",
              "      const a = document.createElement('a');\n",
              "      a.href = window.URL.createObjectURL(blob);\n",
              "      a.download = filename;\n",
              "      div.appendChild(a);\n",
              "      a.click();\n",
              "      div.remove();\n",
              "    }\n",
              "  "
            ]
          },
          "metadata": {}
        },
        {
          "output_type": "display_data",
          "data": {
            "text/plain": [
              "<IPython.core.display.Javascript object>"
            ],
            "application/javascript": [
              "download(\"download_e7e7f35f-ea70-43ff-a964-228c7549fd16\", \"tweets_clean_tiktokban_20221216_181257_20221115_002828.csv\", 11525767)"
            ]
          },
          "metadata": {}
        }
      ],
      "source": [
        "# Save \n",
        "\n",
        "# filename_clean_tweets = f\"tweets_clean_{slugify(search_term, separator='')}_{start_retrieve_date.strftime('%Y%m%d')}_{start_time}_{end_retrieve_date.strftime('%Y%m%d')}_{end_time}.csv\"\n",
        "filename_clean_tweets = f\"tweets_clean_{slugify(search_term, separator='')}_{start_date}_{start_time}_{end_date}_{end_time}.csv\"\n",
        "print(f'Saving to file: {filename_clean_tweets}')\n",
        "\n",
        "data_df.to_csv(filename_clean_tweets, index=False)\n",
        "\n",
        "files.download(filename_clean_tweets)"
      ]
    },
    {
      "cell_type": "markdown",
      "metadata": {
        "id": "RxpHO-qgnHAA"
      },
      "source": [
        "# **Trim Time Series**\n",
        "\n",
        "If you have multiple Sentiment Time Series from multiple queries they will probably have different starting datetimes. \n",
        "\n",
        "I you want to compare these ragged time series directly, you'll have to trim the longer time series to have the same length as the shortest.\n",
        "\n",
        "Do this outside this notebook in a simple text editor by \n",
        "1. Downloading the tweets_clean*.csv file\n",
        "2. Editing/triming the file locally\n",
        "3. Uploading the those tweets_clean_*.csv files that needed trimming"
      ]
    },
    {
      "cell_type": "markdown",
      "metadata": {
        "id": "hBwtuQFiDtxW"
      },
      "source": [
        "# **Sentiment Analysis**"
      ]
    },
    {
      "cell_type": "markdown",
      "source": [
        "#Compute Sentiment Values"
      ],
      "metadata": {
        "id": "b0YJ6V1kFNDM"
      }
    },
    {
      "cell_type": "markdown",
      "metadata": {
        "id": "mujSX6yGnMzV"
      },
      "source": [
        "### VADER"
      ]
    },
    {
      "cell_type": "code",
      "execution_count": 49,
      "metadata": {
        "colab": {
          "base_uri": "https://localhost:8080/"
        },
        "id": "JT_rpH80BDq2",
        "outputId": "afc24598-eb16-4673-d73a-4125cfdff160"
      },
      "outputs": [
        {
          "output_type": "stream",
          "name": "stdout",
          "text": [
            "Looking in indexes: https://pypi.org/simple, https://us-python.pkg.dev/colab-wheels/public/simple/\n",
            "Collecting vaderSentiment\n",
            "  Downloading vaderSentiment-3.3.2-py2.py3-none-any.whl (125 kB)\n",
            "\u001b[K     |████████████████████████████████| 125 kB 5.2 MB/s \n",
            "\u001b[?25hRequirement already satisfied: requests in /usr/local/lib/python3.8/dist-packages (from vaderSentiment) (2.23.0)\n",
            "Requirement already satisfied: certifi>=2017.4.17 in /usr/local/lib/python3.8/dist-packages (from requests->vaderSentiment) (2022.9.24)\n",
            "Requirement already satisfied: idna<3,>=2.5 in /usr/local/lib/python3.8/dist-packages (from requests->vaderSentiment) (2.10)\n",
            "Requirement already satisfied: urllib3!=1.25.0,!=1.25.1,<1.26,>=1.21.1 in /usr/local/lib/python3.8/dist-packages (from requests->vaderSentiment) (1.24.3)\n",
            "Requirement already satisfied: chardet<4,>=3.0.2 in /usr/local/lib/python3.8/dist-packages (from requests->vaderSentiment) (3.0.4)\n",
            "Installing collected packages: vaderSentiment\n",
            "Successfully installed vaderSentiment-3.3.2\n"
          ]
        }
      ],
      "source": [
        "!pip install vaderSentiment"
      ]
    },
    {
      "cell_type": "code",
      "execution_count": 50,
      "metadata": {
        "colab": {
          "base_uri": "https://localhost:8080/"
        },
        "id": "MBh2N-WkEGWR",
        "outputId": "438954be-b0f3-4335-89da-fea06d805b10"
      },
      "outputs": [
        {
          "output_type": "execute_result",
          "data": {
            "text/plain": [
              "0.6369"
            ]
          },
          "metadata": {},
          "execution_count": 50
        }
      ],
      "source": [
        "from vaderSentiment.vaderSentiment import SentimentIntensityAnalyzer\n",
        "\n",
        "vader_sa = SentimentIntensityAnalyzer()\n",
        "\n",
        "# Test\n",
        "\n",
        "vader_sa.polarity_scores('I love lint')['compound']"
      ]
    },
    {
      "cell_type": "code",
      "source": [
        "data_df.info()"
      ],
      "metadata": {
        "colab": {
          "base_uri": "https://localhost:8080/"
        },
        "id": "qki7jGrbs8ck",
        "outputId": "f1f371cc-9b60-4628-d09b-439fdea7de4b"
      },
      "execution_count": 51,
      "outputs": [
        {
          "output_type": "stream",
          "name": "stdout",
          "text": [
            "<class 'pandas.core.frame.DataFrame'>\n",
            "Int64Index: 20000 entries, 19999 to 0\n",
            "Data columns (total 7 columns):\n",
            " #   Column        Non-Null Count  Dtype              \n",
            "---  ------        --------------  -----              \n",
            " 0   datetime      20000 non-null  datetime64[ns, UTC]\n",
            " 1   id            20000 non-null  int64              \n",
            " 2   tweet         20000 non-null  object             \n",
            " 3   username      20000 non-null  object             \n",
            " 4   text_raw      20000 non-null  object             \n",
            " 5   text_noemoji  20000 non-null  object             \n",
            " 6   text_clean    20000 non-null  object             \n",
            "dtypes: datetime64[ns, UTC](1), int64(1), object(5)\n",
            "memory usage: 1.2+ MB\n"
          ]
        }
      ]
    },
    {
      "cell_type": "code",
      "execution_count": 52,
      "metadata": {
        "colab": {
          "base_uri": "https://localhost:8080/",
          "height": 441
        },
        "id": "ZDDsGnsuEBMO",
        "outputId": "f1add5b3-c90d-4228-8e33-440ff93359bb"
      },
      "outputs": [
        {
          "output_type": "execute_result",
          "data": {
            "text/plain": [
              "                       datetime                   id  \\\n",
              "19999 2022-11-15 00:28:28+00:00  1592313547870318594   \n",
              "19998 2022-11-15 00:30:17+00:00  1592314006366453760   \n",
              "19997 2022-11-15 00:30:36+00:00  1592314083847856130   \n",
              "19996 2022-11-15 00:31:34+00:00  1592314330619731970   \n",
              "19995 2022-11-15 00:35:46+00:00  1592315386120134656   \n",
              "\n",
              "                                                   tweet     username  \\\n",
              "19999  $SNAP 💰🔝🚀\\n\\n3 Reasons Snap Stock Could Snap B...  BezosCrypto   \n",
              "19998     @amybabygirl8 TikTok will ban you for anything    JanaNylon   \n",
              "19997  $SNAP 💰🔝🚀\\n\\n3 Reasons Snap Stock Could Snap B...  BezosCrypto   \n",
              "19996  #FCC asks for #Ban of #Chinese App #TikTok  ht...   MetroCoder   \n",
              "19995  Brendan Carr of the Federal Communications Com...  BezosCrypto   \n",
              "\n",
              "                                                text_raw  \\\n",
              "19999  $SNAP 💰🔝🚀\\n\\n3 Reasons Snap Stock Could Snap B...   \n",
              "19998     @amybabygirl8 TikTok will ban you for anything   \n",
              "19997  $SNAP 💰🔝🚀\\n\\n3 Reasons Snap Stock Could Snap B...   \n",
              "19996  #FCC asks for #Ban of #Chinese App #TikTok  ht...   \n",
              "19995  Brendan Carr of the Federal Communications Com...   \n",
              "\n",
              "                                            text_noemoji  \\\n",
              "19999  $ SNAP money bag TOP arrow rocket 3 Reasons Sn...   \n",
              "19998     @amybabygirl8 TikTok will ban you for anything   \n",
              "19997  $ SNAP money bag TOP arrow rocket 3 Reasons Sn...   \n",
              "19996  #FCC asks for #Ban of #Chinese App #TikTok <UR...   \n",
              "19995  Brendan Carr of the Federal Communications Com...   \n",
              "\n",
              "                                              text_clean   vader  \n",
              "19999  snap money bag arrow rocket reason snap stock ...  0.7506  \n",
              "19998                                         tiktok ban -0.5574  \n",
              "19997  snap money bag arrow rocket reason snap stock ...  0.7506  \n",
              "19996                 fcc ask ban chinese app tiktok url -0.5574  \n",
              "19995  brendan carr federal communications commission... -0.2263  "
            ],
            "text/html": [
              "\n",
              "  <div id=\"df-0bfa6b44-3641-42f0-bb8a-fcb00220079b\">\n",
              "    <div class=\"colab-df-container\">\n",
              "      <div>\n",
              "<style scoped>\n",
              "    .dataframe tbody tr th:only-of-type {\n",
              "        vertical-align: middle;\n",
              "    }\n",
              "\n",
              "    .dataframe tbody tr th {\n",
              "        vertical-align: top;\n",
              "    }\n",
              "\n",
              "    .dataframe thead th {\n",
              "        text-align: right;\n",
              "    }\n",
              "</style>\n",
              "<table border=\"1\" class=\"dataframe\">\n",
              "  <thead>\n",
              "    <tr style=\"text-align: right;\">\n",
              "      <th></th>\n",
              "      <th>datetime</th>\n",
              "      <th>id</th>\n",
              "      <th>tweet</th>\n",
              "      <th>username</th>\n",
              "      <th>text_raw</th>\n",
              "      <th>text_noemoji</th>\n",
              "      <th>text_clean</th>\n",
              "      <th>vader</th>\n",
              "    </tr>\n",
              "  </thead>\n",
              "  <tbody>\n",
              "    <tr>\n",
              "      <th>19999</th>\n",
              "      <td>2022-11-15 00:28:28+00:00</td>\n",
              "      <td>1592313547870318594</td>\n",
              "      <td>$SNAP 💰🔝🚀\\n\\n3 Reasons Snap Stock Could Snap B...</td>\n",
              "      <td>BezosCrypto</td>\n",
              "      <td>$SNAP 💰🔝🚀\\n\\n3 Reasons Snap Stock Could Snap B...</td>\n",
              "      <td>$ SNAP money bag TOP arrow rocket 3 Reasons Sn...</td>\n",
              "      <td>snap money bag arrow rocket reason snap stock ...</td>\n",
              "      <td>0.7506</td>\n",
              "    </tr>\n",
              "    <tr>\n",
              "      <th>19998</th>\n",
              "      <td>2022-11-15 00:30:17+00:00</td>\n",
              "      <td>1592314006366453760</td>\n",
              "      <td>@amybabygirl8 TikTok will ban you for anything</td>\n",
              "      <td>JanaNylon</td>\n",
              "      <td>@amybabygirl8 TikTok will ban you for anything</td>\n",
              "      <td>@amybabygirl8 TikTok will ban you for anything</td>\n",
              "      <td>tiktok ban</td>\n",
              "      <td>-0.5574</td>\n",
              "    </tr>\n",
              "    <tr>\n",
              "      <th>19997</th>\n",
              "      <td>2022-11-15 00:30:36+00:00</td>\n",
              "      <td>1592314083847856130</td>\n",
              "      <td>$SNAP 💰🔝🚀\\n\\n3 Reasons Snap Stock Could Snap B...</td>\n",
              "      <td>BezosCrypto</td>\n",
              "      <td>$SNAP 💰🔝🚀\\n\\n3 Reasons Snap Stock Could Snap B...</td>\n",
              "      <td>$ SNAP money bag TOP arrow rocket 3 Reasons Sn...</td>\n",
              "      <td>snap money bag arrow rocket reason snap stock ...</td>\n",
              "      <td>0.7506</td>\n",
              "    </tr>\n",
              "    <tr>\n",
              "      <th>19996</th>\n",
              "      <td>2022-11-15 00:31:34+00:00</td>\n",
              "      <td>1592314330619731970</td>\n",
              "      <td>#FCC asks for #Ban of #Chinese App #TikTok  ht...</td>\n",
              "      <td>MetroCoder</td>\n",
              "      <td>#FCC asks for #Ban of #Chinese App #TikTok  ht...</td>\n",
              "      <td>#FCC asks for #Ban of #Chinese App #TikTok &lt;UR...</td>\n",
              "      <td>fcc ask ban chinese app tiktok url</td>\n",
              "      <td>-0.5574</td>\n",
              "    </tr>\n",
              "    <tr>\n",
              "      <th>19995</th>\n",
              "      <td>2022-11-15 00:35:46+00:00</td>\n",
              "      <td>1592315386120134656</td>\n",
              "      <td>Brendan Carr of the Federal Communications Com...</td>\n",
              "      <td>BezosCrypto</td>\n",
              "      <td>Brendan Carr of the Federal Communications Com...</td>\n",
              "      <td>Brendan Carr of the Federal Communications Com...</td>\n",
              "      <td>brendan carr federal communications commission...</td>\n",
              "      <td>-0.2263</td>\n",
              "    </tr>\n",
              "  </tbody>\n",
              "</table>\n",
              "</div>\n",
              "      <button class=\"colab-df-convert\" onclick=\"convertToInteractive('df-0bfa6b44-3641-42f0-bb8a-fcb00220079b')\"\n",
              "              title=\"Convert this dataframe to an interactive table.\"\n",
              "              style=\"display:none;\">\n",
              "        \n",
              "  <svg xmlns=\"http://www.w3.org/2000/svg\" height=\"24px\"viewBox=\"0 0 24 24\"\n",
              "       width=\"24px\">\n",
              "    <path d=\"M0 0h24v24H0V0z\" fill=\"none\"/>\n",
              "    <path d=\"M18.56 5.44l.94 2.06.94-2.06 2.06-.94-2.06-.94-.94-2.06-.94 2.06-2.06.94zm-11 1L8.5 8.5l.94-2.06 2.06-.94-2.06-.94L8.5 2.5l-.94 2.06-2.06.94zm10 10l.94 2.06.94-2.06 2.06-.94-2.06-.94-.94-2.06-.94 2.06-2.06.94z\"/><path d=\"M17.41 7.96l-1.37-1.37c-.4-.4-.92-.59-1.43-.59-.52 0-1.04.2-1.43.59L10.3 9.45l-7.72 7.72c-.78.78-.78 2.05 0 2.83L4 21.41c.39.39.9.59 1.41.59.51 0 1.02-.2 1.41-.59l7.78-7.78 2.81-2.81c.8-.78.8-2.07 0-2.86zM5.41 20L4 18.59l7.72-7.72 1.47 1.35L5.41 20z\"/>\n",
              "  </svg>\n",
              "      </button>\n",
              "      \n",
              "  <style>\n",
              "    .colab-df-container {\n",
              "      display:flex;\n",
              "      flex-wrap:wrap;\n",
              "      gap: 12px;\n",
              "    }\n",
              "\n",
              "    .colab-df-convert {\n",
              "      background-color: #E8F0FE;\n",
              "      border: none;\n",
              "      border-radius: 50%;\n",
              "      cursor: pointer;\n",
              "      display: none;\n",
              "      fill: #1967D2;\n",
              "      height: 32px;\n",
              "      padding: 0 0 0 0;\n",
              "      width: 32px;\n",
              "    }\n",
              "\n",
              "    .colab-df-convert:hover {\n",
              "      background-color: #E2EBFA;\n",
              "      box-shadow: 0px 1px 2px rgba(60, 64, 67, 0.3), 0px 1px 3px 1px rgba(60, 64, 67, 0.15);\n",
              "      fill: #174EA6;\n",
              "    }\n",
              "\n",
              "    [theme=dark] .colab-df-convert {\n",
              "      background-color: #3B4455;\n",
              "      fill: #D2E3FC;\n",
              "    }\n",
              "\n",
              "    [theme=dark] .colab-df-convert:hover {\n",
              "      background-color: #434B5C;\n",
              "      box-shadow: 0px 1px 3px 1px rgba(0, 0, 0, 0.15);\n",
              "      filter: drop-shadow(0px 1px 2px rgba(0, 0, 0, 0.3));\n",
              "      fill: #FFFFFF;\n",
              "    }\n",
              "  </style>\n",
              "\n",
              "      <script>\n",
              "        const buttonEl =\n",
              "          document.querySelector('#df-0bfa6b44-3641-42f0-bb8a-fcb00220079b button.colab-df-convert');\n",
              "        buttonEl.style.display =\n",
              "          google.colab.kernel.accessAllowed ? 'block' : 'none';\n",
              "\n",
              "        async function convertToInteractive(key) {\n",
              "          const element = document.querySelector('#df-0bfa6b44-3641-42f0-bb8a-fcb00220079b');\n",
              "          const dataTable =\n",
              "            await google.colab.kernel.invokeFunction('convertToInteractive',\n",
              "                                                     [key], {});\n",
              "          if (!dataTable) return;\n",
              "\n",
              "          const docLinkHtml = 'Like what you see? Visit the ' +\n",
              "            '<a target=\"_blank\" href=https://colab.research.google.com/notebooks/data_table.ipynb>data table notebook</a>'\n",
              "            + ' to learn more about interactive tables.';\n",
              "          element.innerHTML = '';\n",
              "          dataTable['output_type'] = 'display_data';\n",
              "          await google.colab.output.renderOutput(dataTable, element);\n",
              "          const docLink = document.createElement('div');\n",
              "          docLink.innerHTML = docLinkHtml;\n",
              "          element.appendChild(docLink);\n",
              "        }\n",
              "      </script>\n",
              "    </div>\n",
              "  </div>\n",
              "  "
            ]
          },
          "metadata": {},
          "execution_count": 52
        }
      ],
      "source": [
        "data_df['vader'] = data_df['text_clean'].apply(lambda x : vader_sa.polarity_scores(x)['compound'])\n",
        "data_df.head(5)"
      ]
    },
    {
      "cell_type": "markdown",
      "metadata": {
        "id": "B_DEOrrfnQKT"
      },
      "source": [
        "### TextBlob"
      ]
    },
    {
      "cell_type": "code",
      "execution_count": 53,
      "metadata": {
        "id": "4tMg_wp7nQAW"
      },
      "outputs": [],
      "source": [
        "from textblob import TextBlob"
      ]
    },
    {
      "cell_type": "code",
      "execution_count": 54,
      "metadata": {
        "colab": {
          "base_uri": "https://localhost:8080/"
        },
        "id": "b8PStLF-nkug",
        "outputId": "f61848b9-1b49-4c22-9c61-73bfa838b3fb"
      },
      "outputs": [
        {
          "output_type": "stream",
          "name": "stdout",
          "text": [
            "0.39166666666666666\n"
          ]
        }
      ],
      "source": [
        "testimonial = TextBlob(\"Textblob is amazingly simple to use. What great fun!\")\n",
        "\n",
        "# Test\n",
        "print(testimonial.sentiment.polarity)"
      ]
    },
    {
      "cell_type": "code",
      "execution_count": 55,
      "metadata": {
        "colab": {
          "base_uri": "https://localhost:8080/",
          "height": 0
        },
        "id": "3b5YxuccnYTm",
        "outputId": "0a926859-6d20-40b7-9c7e-496c2e26a4a2"
      },
      "outputs": [
        {
          "output_type": "execute_result",
          "data": {
            "text/plain": [
              "                       datetime                   id  \\\n",
              "19999 2022-11-15 00:28:28+00:00  1592313547870318594   \n",
              "19998 2022-11-15 00:30:17+00:00  1592314006366453760   \n",
              "19997 2022-11-15 00:30:36+00:00  1592314083847856130   \n",
              "19996 2022-11-15 00:31:34+00:00  1592314330619731970   \n",
              "19995 2022-11-15 00:35:46+00:00  1592315386120134656   \n",
              "\n",
              "                                                   tweet     username  \\\n",
              "19999  $SNAP 💰🔝🚀\\n\\n3 Reasons Snap Stock Could Snap B...  BezosCrypto   \n",
              "19998     @amybabygirl8 TikTok will ban you for anything    JanaNylon   \n",
              "19997  $SNAP 💰🔝🚀\\n\\n3 Reasons Snap Stock Could Snap B...  BezosCrypto   \n",
              "19996  #FCC asks for #Ban of #Chinese App #TikTok  ht...   MetroCoder   \n",
              "19995  Brendan Carr of the Federal Communications Com...  BezosCrypto   \n",
              "\n",
              "                                                text_raw  \\\n",
              "19999  $SNAP 💰🔝🚀\\n\\n3 Reasons Snap Stock Could Snap B...   \n",
              "19998     @amybabygirl8 TikTok will ban you for anything   \n",
              "19997  $SNAP 💰🔝🚀\\n\\n3 Reasons Snap Stock Could Snap B...   \n",
              "19996  #FCC asks for #Ban of #Chinese App #TikTok  ht...   \n",
              "19995  Brendan Carr of the Federal Communications Com...   \n",
              "\n",
              "                                            text_noemoji  \\\n",
              "19999  $ SNAP money bag TOP arrow rocket 3 Reasons Sn...   \n",
              "19998     @amybabygirl8 TikTok will ban you for anything   \n",
              "19997  $ SNAP money bag TOP arrow rocket 3 Reasons Sn...   \n",
              "19996  #FCC asks for #Ban of #Chinese App #TikTok <UR...   \n",
              "19995  Brendan Carr of the Federal Communications Com...   \n",
              "\n",
              "                                              text_clean   vader  textblob  \n",
              "19999  snap money bag arrow rocket reason snap stock ...  0.7506  0.296667  \n",
              "19998                                         tiktok ban -0.5574  0.000000  \n",
              "19997  snap money bag arrow rocket reason snap stock ...  0.7506  0.296667  \n",
              "19996                 fcc ask ban chinese app tiktok url -0.5574  0.000000  \n",
              "19995  brendan carr federal communications commission... -0.2263  0.000000  "
            ],
            "text/html": [
              "\n",
              "  <div id=\"df-36831990-779e-4424-a516-7d4231baef72\">\n",
              "    <div class=\"colab-df-container\">\n",
              "      <div>\n",
              "<style scoped>\n",
              "    .dataframe tbody tr th:only-of-type {\n",
              "        vertical-align: middle;\n",
              "    }\n",
              "\n",
              "    .dataframe tbody tr th {\n",
              "        vertical-align: top;\n",
              "    }\n",
              "\n",
              "    .dataframe thead th {\n",
              "        text-align: right;\n",
              "    }\n",
              "</style>\n",
              "<table border=\"1\" class=\"dataframe\">\n",
              "  <thead>\n",
              "    <tr style=\"text-align: right;\">\n",
              "      <th></th>\n",
              "      <th>datetime</th>\n",
              "      <th>id</th>\n",
              "      <th>tweet</th>\n",
              "      <th>username</th>\n",
              "      <th>text_raw</th>\n",
              "      <th>text_noemoji</th>\n",
              "      <th>text_clean</th>\n",
              "      <th>vader</th>\n",
              "      <th>textblob</th>\n",
              "    </tr>\n",
              "  </thead>\n",
              "  <tbody>\n",
              "    <tr>\n",
              "      <th>19999</th>\n",
              "      <td>2022-11-15 00:28:28+00:00</td>\n",
              "      <td>1592313547870318594</td>\n",
              "      <td>$SNAP 💰🔝🚀\\n\\n3 Reasons Snap Stock Could Snap B...</td>\n",
              "      <td>BezosCrypto</td>\n",
              "      <td>$SNAP 💰🔝🚀\\n\\n3 Reasons Snap Stock Could Snap B...</td>\n",
              "      <td>$ SNAP money bag TOP arrow rocket 3 Reasons Sn...</td>\n",
              "      <td>snap money bag arrow rocket reason snap stock ...</td>\n",
              "      <td>0.7506</td>\n",
              "      <td>0.296667</td>\n",
              "    </tr>\n",
              "    <tr>\n",
              "      <th>19998</th>\n",
              "      <td>2022-11-15 00:30:17+00:00</td>\n",
              "      <td>1592314006366453760</td>\n",
              "      <td>@amybabygirl8 TikTok will ban you for anything</td>\n",
              "      <td>JanaNylon</td>\n",
              "      <td>@amybabygirl8 TikTok will ban you for anything</td>\n",
              "      <td>@amybabygirl8 TikTok will ban you for anything</td>\n",
              "      <td>tiktok ban</td>\n",
              "      <td>-0.5574</td>\n",
              "      <td>0.000000</td>\n",
              "    </tr>\n",
              "    <tr>\n",
              "      <th>19997</th>\n",
              "      <td>2022-11-15 00:30:36+00:00</td>\n",
              "      <td>1592314083847856130</td>\n",
              "      <td>$SNAP 💰🔝🚀\\n\\n3 Reasons Snap Stock Could Snap B...</td>\n",
              "      <td>BezosCrypto</td>\n",
              "      <td>$SNAP 💰🔝🚀\\n\\n3 Reasons Snap Stock Could Snap B...</td>\n",
              "      <td>$ SNAP money bag TOP arrow rocket 3 Reasons Sn...</td>\n",
              "      <td>snap money bag arrow rocket reason snap stock ...</td>\n",
              "      <td>0.7506</td>\n",
              "      <td>0.296667</td>\n",
              "    </tr>\n",
              "    <tr>\n",
              "      <th>19996</th>\n",
              "      <td>2022-11-15 00:31:34+00:00</td>\n",
              "      <td>1592314330619731970</td>\n",
              "      <td>#FCC asks for #Ban of #Chinese App #TikTok  ht...</td>\n",
              "      <td>MetroCoder</td>\n",
              "      <td>#FCC asks for #Ban of #Chinese App #TikTok  ht...</td>\n",
              "      <td>#FCC asks for #Ban of #Chinese App #TikTok &lt;UR...</td>\n",
              "      <td>fcc ask ban chinese app tiktok url</td>\n",
              "      <td>-0.5574</td>\n",
              "      <td>0.000000</td>\n",
              "    </tr>\n",
              "    <tr>\n",
              "      <th>19995</th>\n",
              "      <td>2022-11-15 00:35:46+00:00</td>\n",
              "      <td>1592315386120134656</td>\n",
              "      <td>Brendan Carr of the Federal Communications Com...</td>\n",
              "      <td>BezosCrypto</td>\n",
              "      <td>Brendan Carr of the Federal Communications Com...</td>\n",
              "      <td>Brendan Carr of the Federal Communications Com...</td>\n",
              "      <td>brendan carr federal communications commission...</td>\n",
              "      <td>-0.2263</td>\n",
              "      <td>0.000000</td>\n",
              "    </tr>\n",
              "  </tbody>\n",
              "</table>\n",
              "</div>\n",
              "      <button class=\"colab-df-convert\" onclick=\"convertToInteractive('df-36831990-779e-4424-a516-7d4231baef72')\"\n",
              "              title=\"Convert this dataframe to an interactive table.\"\n",
              "              style=\"display:none;\">\n",
              "        \n",
              "  <svg xmlns=\"http://www.w3.org/2000/svg\" height=\"24px\"viewBox=\"0 0 24 24\"\n",
              "       width=\"24px\">\n",
              "    <path d=\"M0 0h24v24H0V0z\" fill=\"none\"/>\n",
              "    <path d=\"M18.56 5.44l.94 2.06.94-2.06 2.06-.94-2.06-.94-.94-2.06-.94 2.06-2.06.94zm-11 1L8.5 8.5l.94-2.06 2.06-.94-2.06-.94L8.5 2.5l-.94 2.06-2.06.94zm10 10l.94 2.06.94-2.06 2.06-.94-2.06-.94-.94-2.06-.94 2.06-2.06.94z\"/><path d=\"M17.41 7.96l-1.37-1.37c-.4-.4-.92-.59-1.43-.59-.52 0-1.04.2-1.43.59L10.3 9.45l-7.72 7.72c-.78.78-.78 2.05 0 2.83L4 21.41c.39.39.9.59 1.41.59.51 0 1.02-.2 1.41-.59l7.78-7.78 2.81-2.81c.8-.78.8-2.07 0-2.86zM5.41 20L4 18.59l7.72-7.72 1.47 1.35L5.41 20z\"/>\n",
              "  </svg>\n",
              "      </button>\n",
              "      \n",
              "  <style>\n",
              "    .colab-df-container {\n",
              "      display:flex;\n",
              "      flex-wrap:wrap;\n",
              "      gap: 12px;\n",
              "    }\n",
              "\n",
              "    .colab-df-convert {\n",
              "      background-color: #E8F0FE;\n",
              "      border: none;\n",
              "      border-radius: 50%;\n",
              "      cursor: pointer;\n",
              "      display: none;\n",
              "      fill: #1967D2;\n",
              "      height: 32px;\n",
              "      padding: 0 0 0 0;\n",
              "      width: 32px;\n",
              "    }\n",
              "\n",
              "    .colab-df-convert:hover {\n",
              "      background-color: #E2EBFA;\n",
              "      box-shadow: 0px 1px 2px rgba(60, 64, 67, 0.3), 0px 1px 3px 1px rgba(60, 64, 67, 0.15);\n",
              "      fill: #174EA6;\n",
              "    }\n",
              "\n",
              "    [theme=dark] .colab-df-convert {\n",
              "      background-color: #3B4455;\n",
              "      fill: #D2E3FC;\n",
              "    }\n",
              "\n",
              "    [theme=dark] .colab-df-convert:hover {\n",
              "      background-color: #434B5C;\n",
              "      box-shadow: 0px 1px 3px 1px rgba(0, 0, 0, 0.15);\n",
              "      filter: drop-shadow(0px 1px 2px rgba(0, 0, 0, 0.3));\n",
              "      fill: #FFFFFF;\n",
              "    }\n",
              "  </style>\n",
              "\n",
              "      <script>\n",
              "        const buttonEl =\n",
              "          document.querySelector('#df-36831990-779e-4424-a516-7d4231baef72 button.colab-df-convert');\n",
              "        buttonEl.style.display =\n",
              "          google.colab.kernel.accessAllowed ? 'block' : 'none';\n",
              "\n",
              "        async function convertToInteractive(key) {\n",
              "          const element = document.querySelector('#df-36831990-779e-4424-a516-7d4231baef72');\n",
              "          const dataTable =\n",
              "            await google.colab.kernel.invokeFunction('convertToInteractive',\n",
              "                                                     [key], {});\n",
              "          if (!dataTable) return;\n",
              "\n",
              "          const docLinkHtml = 'Like what you see? Visit the ' +\n",
              "            '<a target=\"_blank\" href=https://colab.research.google.com/notebooks/data_table.ipynb>data table notebook</a>'\n",
              "            + ' to learn more about interactive tables.';\n",
              "          element.innerHTML = '';\n",
              "          dataTable['output_type'] = 'display_data';\n",
              "          await google.colab.output.renderOutput(dataTable, element);\n",
              "          const docLink = document.createElement('div');\n",
              "          docLink.innerHTML = docLinkHtml;\n",
              "          element.appendChild(docLink);\n",
              "        }\n",
              "      </script>\n",
              "    </div>\n",
              "  </div>\n",
              "  "
            ]
          },
          "metadata": {},
          "execution_count": 55
        }
      ],
      "source": [
        "data_df['textblob'] = data_df['text_clean'].apply(lambda x : TextBlob(x).sentiment.polarity)\n",
        "data_df.head()"
      ]
    },
    {
      "cell_type": "markdown",
      "metadata": {
        "id": "6PJ1Cv3QgjuS"
      },
      "source": [
        "### DistilBERT"
      ]
    },
    {
      "cell_type": "code",
      "execution_count": 95,
      "metadata": {
        "id": "ZH8zP_tlgmJv"
      },
      "outputs": [],
      "source": [
        "# from transformers import AutoTokenizer, AutoModelForSequenceClassification, Trainer"
      ]
    },
    {
      "cell_type": "code",
      "execution_count": 96,
      "metadata": {
        "colab": {
          "base_uri": "https://localhost:8080/"
        },
        "id": "7Oc2KgoygjU6",
        "outputId": "4e989d82-9fbe-4221-9aad-9662add90f4e"
      },
      "outputs": [
        {
          "output_type": "stream",
          "name": "stderr",
          "text": [
            "loading configuration file config.json from cache at /root/.cache/huggingface/hub/models--distilbert-base-uncased-finetuned-sst-2-english/snapshots/bfdd146ea2b6807255b73527f1327ca12b6ed5c4/config.json\n",
            "Model config DistilBertConfig {\n",
            "  \"_name_or_path\": \"distilbert-base-uncased-finetuned-sst-2-english\",\n",
            "  \"activation\": \"gelu\",\n",
            "  \"architectures\": [\n",
            "    \"DistilBertForSequenceClassification\"\n",
            "  ],\n",
            "  \"attention_dropout\": 0.1,\n",
            "  \"dim\": 768,\n",
            "  \"dropout\": 0.1,\n",
            "  \"finetuning_task\": \"sst-2\",\n",
            "  \"hidden_dim\": 3072,\n",
            "  \"id2label\": {\n",
            "    \"0\": \"NEGATIVE\",\n",
            "    \"1\": \"POSITIVE\"\n",
            "  },\n",
            "  \"initializer_range\": 0.02,\n",
            "  \"label2id\": {\n",
            "    \"NEGATIVE\": 0,\n",
            "    \"POSITIVE\": 1\n",
            "  },\n",
            "  \"max_position_embeddings\": 512,\n",
            "  \"model_type\": \"distilbert\",\n",
            "  \"n_heads\": 12,\n",
            "  \"n_layers\": 6,\n",
            "  \"output_past\": true,\n",
            "  \"pad_token_id\": 0,\n",
            "  \"qa_dropout\": 0.1,\n",
            "  \"seq_classif_dropout\": 0.2,\n",
            "  \"sinusoidal_pos_embds\": false,\n",
            "  \"tie_weights_\": true,\n",
            "  \"transformers_version\": \"4.25.1\",\n",
            "  \"vocab_size\": 30522\n",
            "}\n",
            "\n",
            "loading file vocab.txt from cache at /root/.cache/huggingface/hub/models--distilbert-base-uncased-finetuned-sst-2-english/snapshots/bfdd146ea2b6807255b73527f1327ca12b6ed5c4/vocab.txt\n",
            "loading file tokenizer.json from cache at None\n",
            "loading file added_tokens.json from cache at None\n",
            "loading file special_tokens_map.json from cache at None\n",
            "loading file tokenizer_config.json from cache at /root/.cache/huggingface/hub/models--distilbert-base-uncased-finetuned-sst-2-english/snapshots/bfdd146ea2b6807255b73527f1327ca12b6ed5c4/tokenizer_config.json\n",
            "loading configuration file config.json from cache at /root/.cache/huggingface/hub/models--distilbert-base-uncased-finetuned-sst-2-english/snapshots/bfdd146ea2b6807255b73527f1327ca12b6ed5c4/config.json\n",
            "Model config DistilBertConfig {\n",
            "  \"_name_or_path\": \"distilbert-base-uncased-finetuned-sst-2-english\",\n",
            "  \"activation\": \"gelu\",\n",
            "  \"architectures\": [\n",
            "    \"DistilBertForSequenceClassification\"\n",
            "  ],\n",
            "  \"attention_dropout\": 0.1,\n",
            "  \"dim\": 768,\n",
            "  \"dropout\": 0.1,\n",
            "  \"finetuning_task\": \"sst-2\",\n",
            "  \"hidden_dim\": 3072,\n",
            "  \"id2label\": {\n",
            "    \"0\": \"NEGATIVE\",\n",
            "    \"1\": \"POSITIVE\"\n",
            "  },\n",
            "  \"initializer_range\": 0.02,\n",
            "  \"label2id\": {\n",
            "    \"NEGATIVE\": 0,\n",
            "    \"POSITIVE\": 1\n",
            "  },\n",
            "  \"max_position_embeddings\": 512,\n",
            "  \"model_type\": \"distilbert\",\n",
            "  \"n_heads\": 12,\n",
            "  \"n_layers\": 6,\n",
            "  \"output_past\": true,\n",
            "  \"pad_token_id\": 0,\n",
            "  \"qa_dropout\": 0.1,\n",
            "  \"seq_classif_dropout\": 0.2,\n",
            "  \"sinusoidal_pos_embds\": false,\n",
            "  \"tie_weights_\": true,\n",
            "  \"transformers_version\": \"4.25.1\",\n",
            "  \"vocab_size\": 30522\n",
            "}\n",
            "\n",
            "loading configuration file config.json from cache at /root/.cache/huggingface/hub/models--distilbert-base-uncased-finetuned-sst-2-english/snapshots/bfdd146ea2b6807255b73527f1327ca12b6ed5c4/config.json\n",
            "Model config DistilBertConfig {\n",
            "  \"_name_or_path\": \"distilbert-base-uncased-finetuned-sst-2-english\",\n",
            "  \"activation\": \"gelu\",\n",
            "  \"architectures\": [\n",
            "    \"DistilBertForSequenceClassification\"\n",
            "  ],\n",
            "  \"attention_dropout\": 0.1,\n",
            "  \"dim\": 768,\n",
            "  \"dropout\": 0.1,\n",
            "  \"finetuning_task\": \"sst-2\",\n",
            "  \"hidden_dim\": 3072,\n",
            "  \"id2label\": {\n",
            "    \"0\": \"NEGATIVE\",\n",
            "    \"1\": \"POSITIVE\"\n",
            "  },\n",
            "  \"initializer_range\": 0.02,\n",
            "  \"label2id\": {\n",
            "    \"NEGATIVE\": 0,\n",
            "    \"POSITIVE\": 1\n",
            "  },\n",
            "  \"max_position_embeddings\": 512,\n",
            "  \"model_type\": \"distilbert\",\n",
            "  \"n_heads\": 12,\n",
            "  \"n_layers\": 6,\n",
            "  \"output_past\": true,\n",
            "  \"pad_token_id\": 0,\n",
            "  \"qa_dropout\": 0.1,\n",
            "  \"seq_classif_dropout\": 0.2,\n",
            "  \"sinusoidal_pos_embds\": false,\n",
            "  \"tie_weights_\": true,\n",
            "  \"transformers_version\": \"4.25.1\",\n",
            "  \"vocab_size\": 30522\n",
            "}\n",
            "\n",
            "loading configuration file config.json from cache at /root/.cache/huggingface/hub/models--distilbert-base-uncased-finetuned-sst-2-english/snapshots/bfdd146ea2b6807255b73527f1327ca12b6ed5c4/config.json\n",
            "Model config DistilBertConfig {\n",
            "  \"_name_or_path\": \"distilbert-base-uncased-finetuned-sst-2-english\",\n",
            "  \"activation\": \"gelu\",\n",
            "  \"architectures\": [\n",
            "    \"DistilBertForSequenceClassification\"\n",
            "  ],\n",
            "  \"attention_dropout\": 0.1,\n",
            "  \"dim\": 768,\n",
            "  \"dropout\": 0.1,\n",
            "  \"finetuning_task\": \"sst-2\",\n",
            "  \"hidden_dim\": 3072,\n",
            "  \"id2label\": {\n",
            "    \"0\": \"NEGATIVE\",\n",
            "    \"1\": \"POSITIVE\"\n",
            "  },\n",
            "  \"initializer_range\": 0.02,\n",
            "  \"label2id\": {\n",
            "    \"NEGATIVE\": 0,\n",
            "    \"POSITIVE\": 1\n",
            "  },\n",
            "  \"max_position_embeddings\": 512,\n",
            "  \"model_type\": \"distilbert\",\n",
            "  \"n_heads\": 12,\n",
            "  \"n_layers\": 6,\n",
            "  \"output_past\": true,\n",
            "  \"pad_token_id\": 0,\n",
            "  \"qa_dropout\": 0.1,\n",
            "  \"seq_classif_dropout\": 0.2,\n",
            "  \"sinusoidal_pos_embds\": false,\n",
            "  \"tie_weights_\": true,\n",
            "  \"transformers_version\": \"4.25.1\",\n",
            "  \"vocab_size\": 30522\n",
            "}\n",
            "\n",
            "loading weights file pytorch_model.bin from cache at /root/.cache/huggingface/hub/models--distilbert-base-uncased-finetuned-sst-2-english/snapshots/bfdd146ea2b6807255b73527f1327ca12b6ed5c4/pytorch_model.bin\n",
            "All model checkpoint weights were used when initializing DistilBertForSequenceClassification.\n",
            "\n",
            "All the weights of DistilBertForSequenceClassification were initialized from the model checkpoint at distilbert-base-uncased-finetuned-sst-2-english.\n",
            "If your task is similar to the task the model of the checkpoint was trained on, you can already use DistilBertForSequenceClassification for predictions without further training.\n",
            "No `TrainingArguments` passed, using `output_dir=tmp_trainer`.\n",
            "PyTorch: setting up devices\n",
            "The default value for the training argument `--report_to` will change in v5 (from all installed integrations to none). In v5, you will need to use `--report_to all` to get the same behavior as now. You should start updating your code and make this info disappear :-).\n"
          ]
        }
      ],
      "source": [
        "# Load tokenizer and model, create trainer\n",
        "\n",
        "model_name = \"distilbert-base-uncased-finetuned-sst-2-english\"\n",
        "tokenizer = AutoTokenizer.from_pretrained(model_name)\n",
        "model = AutoModelForSequenceClassification.from_pretrained(model_name)\n",
        "trainer = Trainer(model=model)"
      ]
    },
    {
      "cell_type": "code",
      "execution_count": 97,
      "metadata": {
        "id": "fDeh52wahP21"
      },
      "outputs": [],
      "source": [
        "# Create class for data preparation\n",
        "\n",
        "class SimpleDataset:\n",
        "    def __init__(self, tokenized_texts):\n",
        "        self.tokenized_texts = tokenized_texts\n",
        "    \n",
        "    def __len__(self):\n",
        "        return len(self.tokenized_texts[\"input_ids\"])\n",
        "    \n",
        "    def __getitem__(self, idx):\n",
        "        return {k: v[idx] for k, v in self.tokenized_texts.items()}"
      ]
    },
    {
      "cell_type": "code",
      "execution_count": 98,
      "metadata": {
        "colab": {
          "base_uri": "https://localhost:8080/"
        },
        "id": "aiBSLYMfglsF",
        "outputId": "ad96f909-6aa9-4292-9c92-a21c2e55574d"
      },
      "outputs": [
        {
          "output_type": "stream",
          "name": "stdout",
          "text": [
            "CPU times: user 4 µs, sys: 0 ns, total: 4 µs\n",
            "Wall time: 7.63 µs\n"
          ]
        }
      ],
      "source": [
        "%%time\n",
        "\n",
        "# Test: text_sentiment_dt['cdickins_achristmascarol']['text_clean']\n",
        "\n",
        "# NOTE:  1m38s 14:00EST on 01 Nov 2022 Colab Pro (The Great Gatsby)\n",
        "#        1m39s 17:05EST on 01 Nov 2022 Colab Pro (The Great Gatsby)\n",
        "\n",
        "# Compute sentiment time series\n",
        "\n",
        "def get_distilbert_sentiment(text_clean_ls, sample_size=10):\n",
        "  # text_clean_ls = text_sentiment_dt['cdickins_achristmascarol']['text_clean'].to_list()\n",
        "  # text_clean_ls = text_sentiment_dt['cdickins_achristmascarol']['text_clean'].to_list()\n",
        "\n",
        "  # Tokenize texts and create prediction data set\n",
        "  tokenized_texts = tokenizer(text_clean_ls,truncation=True,padding=True)\n",
        "  pred_dataset = SimpleDataset(tokenized_texts)\n",
        "\n",
        "  # Run predictions\n",
        "  predictions = trainer.predict(pred_dataset)\n",
        "\n",
        "  # Transform predictions to labels\n",
        "  sentiment_ls = predictions.predictions.argmax(-1)\n",
        "  label_ls = pd.Series(sentiment_ls).map(model.config.id2label)\n",
        "  score_ls = (np.exp(predictions[0])/np.exp(predictions[0]).sum(-1,keepdims=True)).max(1)\n",
        "\n",
        "  # Create DataFrame with texts, predictions, labels, and scores\n",
        "  # line_no_ls = list(range(len(sentiment_ls)))\n",
        "  # distilbert_df = pd.DataFrame(list(zip(line_no_ls, text_clean_ls,sentiment_ls,label_ls,score_ls)), columns=['line_no','line','sentiment','label','score'])\n",
        "  # distilbert_df.head()\n",
        "\n",
        "  # Adjust for POS/NEG sign\n",
        "  label_score_ls = list(zip(label_ls,score_ls))\n",
        "  sentiment_signed_ls = [ascore if alabel.lower().strip()=='positive' else (-1.0*ascore) for alabel, ascore in label_score_ls] \n",
        "\n",
        "  # print(f'label_ls:\\n  {label_ls[:sample_size]}')\n",
        "  # print(f'score_ls:\\n {score_ls[:sample_size]}')\n",
        "\n",
        "  return sentiment_signed_ls, label_ls"
      ]
    },
    {
      "cell_type": "code",
      "execution_count": 99,
      "metadata": {
        "colab": {
          "base_uri": "https://localhost:8080/",
          "height": 208
        },
        "id": "YdDJWtaehFyu",
        "outputId": "63434290-8c02-49e3-8570-a508678edcc8"
      },
      "outputs": [
        {
          "output_type": "stream",
          "name": "stderr",
          "text": [
            "***** Running Prediction *****\n",
            "  Num examples = 4\n",
            "  Batch size = 8\n"
          ]
        },
        {
          "output_type": "display_data",
          "data": {
            "text/plain": [
              "<IPython.core.display.HTML object>"
            ],
            "text/html": []
          },
          "metadata": {}
        },
        {
          "output_type": "stream",
          "name": "stdout",
          "text": [
            "sentiment_signed_ls:\n",
            "  [0.9998562, -0.9997524619102478, 0.9998695, 0.9502345]\n",
            "label_ls:\n",
            "  0    POSITIVE\n",
            "1    NEGATIVE\n",
            "2    POSITIVE\n",
            "3    POSITIVE\n",
            "dtype: object\n"
          ]
        }
      ],
      "source": [
        "# Test\n",
        "\n",
        "line_ls = ['I like that','That is annoying','This is great!','Wouldn´t recommend it.']\n",
        "sentiment_signed_ls, label_ls = get_distilbert_sentiment(line_ls)\n",
        "\n",
        "print(f'sentiment_signed_ls:\\n  {sentiment_signed_ls}')\n",
        "print(f'label_ls:\\n  {label_ls}')"
      ]
    },
    {
      "cell_type": "code",
      "source": [
        "data_df.info()"
      ],
      "metadata": {
        "colab": {
          "base_uri": "https://localhost:8080/"
        },
        "id": "fbA9HICTLPC6",
        "outputId": "34690ca4-e361-4384-cb16-8d200939ed30"
      },
      "execution_count": 100,
      "outputs": [
        {
          "output_type": "stream",
          "name": "stdout",
          "text": [
            "<class 'pandas.core.frame.DataFrame'>\n",
            "Int64Index: 20000 entries, 19999 to 0\n",
            "Data columns (total 11 columns):\n",
            " #   Column                   Non-Null Count  Dtype              \n",
            "---  ------                   --------------  -----              \n",
            " 0   datetime                 20000 non-null  datetime64[ns, UTC]\n",
            " 1   id                       20000 non-null  int64              \n",
            " 2   tweet                    20000 non-null  object             \n",
            " 3   username                 20000 non-null  object             \n",
            " 4   reply_ct                 20000 non-null  int64              \n",
            " 5   retweet_ct               20000 non-null  int64              \n",
            " 6   like_ct                  20000 non-null  int64              \n",
            " 7   quote_ct                 20000 non-null  int64              \n",
            " 8   retweeted_id             0 non-null      object             \n",
            " 9   quoted_id                1540 non-null   object             \n",
            " 10  roberta_twitter_noemoji  20000 non-null  int64              \n",
            "dtypes: datetime64[ns, UTC](1), int64(6), object(4)\n",
            "memory usage: 1.8+ MB\n"
          ]
        }
      ]
    },
    {
      "cell_type": "code",
      "execution_count": 106,
      "metadata": {
        "colab": {
          "base_uri": "https://localhost:8080/",
          "height": 453
        },
        "id": "kWmSsxPuhFs6",
        "outputId": "2a03e54c-a8fc-4490-9dda-a8fab0113408"
      },
      "outputs": [
        {
          "metadata": {
            "tags": null
          },
          "name": "stderr",
          "output_type": "stream",
          "text": [
            "***** Running Prediction *****\n",
            "  Num examples = 20000\n",
            "  Batch size = 8\n"
          ]
        },
        {
          "data": {
            "text/html": [
              "\n",
              "    <div>\n",
              "      \n",
              "      <progress value='827' max='2500' style='width:300px; height:20px; vertical-align: middle;'></progress>\n",
              "      [ 827/2500 14:32 < 29:27, 0.95 it/s]\n",
              "    </div>\n",
              "    "
            ],
            "text/plain": [
              "<IPython.core.display.HTML object>"
            ]
          },
          "metadata": {},
          "output_type": "display_data"
        },
        {
          "output_type": "display_data",
          "data": {
            "text/plain": [
              "<IPython.core.display.HTML object>"
            ],
            "text/html": []
          },
          "metadata": {}
        },
        {
          "output_type": "stream",
          "name": "stdout",
          "text": [
            "<class 'pandas.core.frame.DataFrame'>\n",
            "Int64Index: 20000 entries, 19999 to 0\n",
            "Data columns (total 12 columns):\n",
            " #   Column                   Non-Null Count  Dtype              \n",
            "---  ------                   --------------  -----              \n",
            " 0   datetime                 20000 non-null  datetime64[ns, UTC]\n",
            " 1   id                       20000 non-null  int64              \n",
            " 2   tweet                    20000 non-null  object             \n",
            " 3   username                 20000 non-null  object             \n",
            " 4   reply_ct                 20000 non-null  int64              \n",
            " 5   retweet_ct               20000 non-null  int64              \n",
            " 6   like_ct                  20000 non-null  int64              \n",
            " 7   quote_ct                 20000 non-null  int64              \n",
            " 8   retweeted_id             0 non-null      object             \n",
            " 9   quoted_id                1540 non-null   object             \n",
            " 10  roberta_twitter_noemoji  20000 non-null  int64              \n",
            " 11  distilbert               20000 non-null  float64            \n",
            "dtypes: datetime64[ns, UTC](1), float64(1), int64(6), object(4)\n",
            "memory usage: 2.0+ MB\n",
            "CPU times: user 1h 22min 21s, sys: 59.6 s, total: 1h 23min 21s\n",
            "Wall time: 41min 39s\n"
          ]
        }
      ],
      "source": [
        "%%time\n",
        "\n",
        "# NOTE:    13s on Sun 20221204 @ 17:00AM EST Colab Pro T4 on 5k Tweets\n",
        "#          48s on Tue 20221206 @ 03:20AM EST Colab Pro T4 on 10k Tweets\n",
        "#        1m00s on Sun 20221211 @ 14:17PM EST Colab Pro T4 on 30k Tweets\n",
        "#        4m04s on Sun 20221211 @ 17:42PM EST Colab Pro T4 on 30k Tweets\n",
        "\n",
        "#text_clean_ls = data_df.to_list()\n",
        "sentiment_ls, label_ls = get_distilbert_sentiment(text_clean_ls)\n",
        "\n",
        "data_df['distilbert'] = sentiment_ls\n",
        "data_df.head()\n",
        "data_df.info()"
      ]
    },
    {
      "cell_type": "code",
      "execution_count": 107,
      "metadata": {
        "colab": {
          "base_uri": "https://localhost:8080/",
          "height": 496
        },
        "id": "K0ydJq7_fMmO",
        "outputId": "a62d9d9b-475a-415d-fb58-a6926ddfdbc4"
      },
      "outputs": [
        {
          "output_type": "execute_result",
          "data": {
            "text/plain": [
              "                       datetime                   id  \\\n",
              "19999 2022-11-15 14:46:46+00:00  1592529547727339520   \n",
              "19998 2022-11-15 14:48:00+00:00  1592529858927923202   \n",
              "19997 2022-11-15 14:48:07+00:00  1592529886417424384   \n",
              "19996 2022-11-15 14:51:24+00:00  1592530714167504900   \n",
              "19995 2022-11-15 14:57:28+00:00  1592532238222389249   \n",
              "\n",
              "                                                   tweet        username  \\\n",
              "19999  Je viens de me faire ban de tiktok wtf j'ai ri...     lesvraissav   \n",
              "19998  @konbu_chan_zZ 復活(о´ﾟ∀)о＜おめでとぉぉぉ!!!\\nTikTokの運営...        Sn0wZi0n   \n",
              "19997  @prnvnirml @thatawkwardhoe_ Toh ab fir aage? M...  HellwithnoTime   \n",
              "19996  $bbig\\nIf Zash \"Global\" (lol) owns a majority ...    Necronautism   \n",
              "19995  video bạn mình nhảy được lên tiktok của thế an...       kcalie_07   \n",
              "\n",
              "       reply_ct  retweet_ct  like_ct  quote_ct retweeted_id quoted_id  \\\n",
              "19999         1           1        4         0         None      None   \n",
              "19998         0           0        0         0         None      None   \n",
              "19997         1           0        1         0         None      None   \n",
              "19996         0           0        0         0         None      None   \n",
              "19995         1           0        1         0         None      None   \n",
              "\n",
              "       roberta_twitter_noemoji  distilbert  \n",
              "19999                        0   -0.997106  \n",
              "19998                        0   -0.989598  \n",
              "19997                        0   -0.997106  \n",
              "19996                        0   -0.997554  \n",
              "19995                        0   -0.993985  "
            ],
            "text/html": [
              "\n",
              "  <div id=\"df-fffe52d1-0c18-4a14-902a-1e589b51ce10\">\n",
              "    <div class=\"colab-df-container\">\n",
              "      <div>\n",
              "<style scoped>\n",
              "    .dataframe tbody tr th:only-of-type {\n",
              "        vertical-align: middle;\n",
              "    }\n",
              "\n",
              "    .dataframe tbody tr th {\n",
              "        vertical-align: top;\n",
              "    }\n",
              "\n",
              "    .dataframe thead th {\n",
              "        text-align: right;\n",
              "    }\n",
              "</style>\n",
              "<table border=\"1\" class=\"dataframe\">\n",
              "  <thead>\n",
              "    <tr style=\"text-align: right;\">\n",
              "      <th></th>\n",
              "      <th>datetime</th>\n",
              "      <th>id</th>\n",
              "      <th>tweet</th>\n",
              "      <th>username</th>\n",
              "      <th>reply_ct</th>\n",
              "      <th>retweet_ct</th>\n",
              "      <th>like_ct</th>\n",
              "      <th>quote_ct</th>\n",
              "      <th>retweeted_id</th>\n",
              "      <th>quoted_id</th>\n",
              "      <th>roberta_twitter_noemoji</th>\n",
              "      <th>distilbert</th>\n",
              "    </tr>\n",
              "  </thead>\n",
              "  <tbody>\n",
              "    <tr>\n",
              "      <th>19999</th>\n",
              "      <td>2022-11-15 14:46:46+00:00</td>\n",
              "      <td>1592529547727339520</td>\n",
              "      <td>Je viens de me faire ban de tiktok wtf j'ai ri...</td>\n",
              "      <td>lesvraissav</td>\n",
              "      <td>1</td>\n",
              "      <td>1</td>\n",
              "      <td>4</td>\n",
              "      <td>0</td>\n",
              "      <td>None</td>\n",
              "      <td>None</td>\n",
              "      <td>0</td>\n",
              "      <td>-0.997106</td>\n",
              "    </tr>\n",
              "    <tr>\n",
              "      <th>19998</th>\n",
              "      <td>2022-11-15 14:48:00+00:00</td>\n",
              "      <td>1592529858927923202</td>\n",
              "      <td>@konbu_chan_zZ 復活(о´ﾟ∀)о＜おめでとぉぉぉ!!!\\nTikTokの運営...</td>\n",
              "      <td>Sn0wZi0n</td>\n",
              "      <td>0</td>\n",
              "      <td>0</td>\n",
              "      <td>0</td>\n",
              "      <td>0</td>\n",
              "      <td>None</td>\n",
              "      <td>None</td>\n",
              "      <td>0</td>\n",
              "      <td>-0.989598</td>\n",
              "    </tr>\n",
              "    <tr>\n",
              "      <th>19997</th>\n",
              "      <td>2022-11-15 14:48:07+00:00</td>\n",
              "      <td>1592529886417424384</td>\n",
              "      <td>@prnvnirml @thatawkwardhoe_ Toh ab fir aage? M...</td>\n",
              "      <td>HellwithnoTime</td>\n",
              "      <td>1</td>\n",
              "      <td>0</td>\n",
              "      <td>1</td>\n",
              "      <td>0</td>\n",
              "      <td>None</td>\n",
              "      <td>None</td>\n",
              "      <td>0</td>\n",
              "      <td>-0.997106</td>\n",
              "    </tr>\n",
              "    <tr>\n",
              "      <th>19996</th>\n",
              "      <td>2022-11-15 14:51:24+00:00</td>\n",
              "      <td>1592530714167504900</td>\n",
              "      <td>$bbig\\nIf Zash \"Global\" (lol) owns a majority ...</td>\n",
              "      <td>Necronautism</td>\n",
              "      <td>0</td>\n",
              "      <td>0</td>\n",
              "      <td>0</td>\n",
              "      <td>0</td>\n",
              "      <td>None</td>\n",
              "      <td>None</td>\n",
              "      <td>0</td>\n",
              "      <td>-0.997554</td>\n",
              "    </tr>\n",
              "    <tr>\n",
              "      <th>19995</th>\n",
              "      <td>2022-11-15 14:57:28+00:00</td>\n",
              "      <td>1592532238222389249</td>\n",
              "      <td>video bạn mình nhảy được lên tiktok của thế an...</td>\n",
              "      <td>kcalie_07</td>\n",
              "      <td>1</td>\n",
              "      <td>0</td>\n",
              "      <td>1</td>\n",
              "      <td>0</td>\n",
              "      <td>None</td>\n",
              "      <td>None</td>\n",
              "      <td>0</td>\n",
              "      <td>-0.993985</td>\n",
              "    </tr>\n",
              "  </tbody>\n",
              "</table>\n",
              "</div>\n",
              "      <button class=\"colab-df-convert\" onclick=\"convertToInteractive('df-fffe52d1-0c18-4a14-902a-1e589b51ce10')\"\n",
              "              title=\"Convert this dataframe to an interactive table.\"\n",
              "              style=\"display:none;\">\n",
              "        \n",
              "  <svg xmlns=\"http://www.w3.org/2000/svg\" height=\"24px\"viewBox=\"0 0 24 24\"\n",
              "       width=\"24px\">\n",
              "    <path d=\"M0 0h24v24H0V0z\" fill=\"none\"/>\n",
              "    <path d=\"M18.56 5.44l.94 2.06.94-2.06 2.06-.94-2.06-.94-.94-2.06-.94 2.06-2.06.94zm-11 1L8.5 8.5l.94-2.06 2.06-.94-2.06-.94L8.5 2.5l-.94 2.06-2.06.94zm10 10l.94 2.06.94-2.06 2.06-.94-2.06-.94-.94-2.06-.94 2.06-2.06.94z\"/><path d=\"M17.41 7.96l-1.37-1.37c-.4-.4-.92-.59-1.43-.59-.52 0-1.04.2-1.43.59L10.3 9.45l-7.72 7.72c-.78.78-.78 2.05 0 2.83L4 21.41c.39.39.9.59 1.41.59.51 0 1.02-.2 1.41-.59l7.78-7.78 2.81-2.81c.8-.78.8-2.07 0-2.86zM5.41 20L4 18.59l7.72-7.72 1.47 1.35L5.41 20z\"/>\n",
              "  </svg>\n",
              "      </button>\n",
              "      \n",
              "  <style>\n",
              "    .colab-df-container {\n",
              "      display:flex;\n",
              "      flex-wrap:wrap;\n",
              "      gap: 12px;\n",
              "    }\n",
              "\n",
              "    .colab-df-convert {\n",
              "      background-color: #E8F0FE;\n",
              "      border: none;\n",
              "      border-radius: 50%;\n",
              "      cursor: pointer;\n",
              "      display: none;\n",
              "      fill: #1967D2;\n",
              "      height: 32px;\n",
              "      padding: 0 0 0 0;\n",
              "      width: 32px;\n",
              "    }\n",
              "\n",
              "    .colab-df-convert:hover {\n",
              "      background-color: #E2EBFA;\n",
              "      box-shadow: 0px 1px 2px rgba(60, 64, 67, 0.3), 0px 1px 3px 1px rgba(60, 64, 67, 0.15);\n",
              "      fill: #174EA6;\n",
              "    }\n",
              "\n",
              "    [theme=dark] .colab-df-convert {\n",
              "      background-color: #3B4455;\n",
              "      fill: #D2E3FC;\n",
              "    }\n",
              "\n",
              "    [theme=dark] .colab-df-convert:hover {\n",
              "      background-color: #434B5C;\n",
              "      box-shadow: 0px 1px 3px 1px rgba(0, 0, 0, 0.15);\n",
              "      filter: drop-shadow(0px 1px 2px rgba(0, 0, 0, 0.3));\n",
              "      fill: #FFFFFF;\n",
              "    }\n",
              "  </style>\n",
              "\n",
              "      <script>\n",
              "        const buttonEl =\n",
              "          document.querySelector('#df-fffe52d1-0c18-4a14-902a-1e589b51ce10 button.colab-df-convert');\n",
              "        buttonEl.style.display =\n",
              "          google.colab.kernel.accessAllowed ? 'block' : 'none';\n",
              "\n",
              "        async function convertToInteractive(key) {\n",
              "          const element = document.querySelector('#df-fffe52d1-0c18-4a14-902a-1e589b51ce10');\n",
              "          const dataTable =\n",
              "            await google.colab.kernel.invokeFunction('convertToInteractive',\n",
              "                                                     [key], {});\n",
              "          if (!dataTable) return;\n",
              "\n",
              "          const docLinkHtml = 'Like what you see? Visit the ' +\n",
              "            '<a target=\"_blank\" href=https://colab.research.google.com/notebooks/data_table.ipynb>data table notebook</a>'\n",
              "            + ' to learn more about interactive tables.';\n",
              "          element.innerHTML = '';\n",
              "          dataTable['output_type'] = 'display_data';\n",
              "          await google.colab.output.renderOutput(dataTable, element);\n",
              "          const docLink = document.createElement('div');\n",
              "          docLink.innerHTML = docLinkHtml;\n",
              "          element.appendChild(docLink);\n",
              "        }\n",
              "      </script>\n",
              "    </div>\n",
              "  </div>\n",
              "  "
            ]
          },
          "metadata": {},
          "execution_count": 107
        }
      ],
      "source": [
        "data_df.head()"
      ]
    },
    {
      "cell_type": "code",
      "source": [
        "# Save \n",
        "\n",
        "filename_sentiment_tweets = f\"tweets_sentiment_{slugify('search_str', separator='')}_{start_retrieve_date.strftime('%Y%m%d')}_{start_time}_{end_retrieve_date.strftime('%Y%m%d')}_{end_time}.csv\"\n",
        "print(f'Saving to file: {filename_sentiment_tweets}')\n",
        "\n",
        "data_df.to_csv(filename_sentiment_tweets, index=False)\n",
        "\n",
        "files.download(filename_sentiment_tweets)"
      ],
      "metadata": {
        "colab": {
          "base_uri": "https://localhost:8080/",
          "height": 252
        },
        "id": "7oeth_YX15HU",
        "outputId": "a9080e2e-6122-4c4a-8cbf-59660ca15a48"
      },
      "execution_count": 108,
      "outputs": [
        {
          "output_type": "error",
          "ename": "AttributeError",
          "evalue": "ignored",
          "traceback": [
            "\u001b[0;31m---------------------------------------------------------------------------\u001b[0m",
            "\u001b[0;31mAttributeError\u001b[0m                            Traceback (most recent call last)",
            "\u001b[0;32m<ipython-input-108-f7d1a6d60114>\u001b[0m in \u001b[0;36m<module>\u001b[0;34m\u001b[0m\n\u001b[1;32m      1\u001b[0m \u001b[0;31m# Save\u001b[0m\u001b[0;34m\u001b[0m\u001b[0;34m\u001b[0m\u001b[0;34m\u001b[0m\u001b[0m\n\u001b[1;32m      2\u001b[0m \u001b[0;34m\u001b[0m\u001b[0m\n\u001b[0;32m----> 3\u001b[0;31m \u001b[0mfilename_sentiment_tweets\u001b[0m \u001b[0;34m=\u001b[0m \u001b[0;34mf\"tweets_sentiment_{slugify('search_str', separator='')}_{start_retrieve_date.strftime('%Y%m%d')}_{start_time}_{end_retrieve_date.strftime('%Y%m%d')}_{end_time}.csv\"\u001b[0m\u001b[0;34m\u001b[0m\u001b[0;34m\u001b[0m\u001b[0m\n\u001b[0m\u001b[1;32m      4\u001b[0m \u001b[0mprint\u001b[0m\u001b[0;34m(\u001b[0m\u001b[0;34mf'Saving to file: {filename_sentiment_tweets}'\u001b[0m\u001b[0;34m)\u001b[0m\u001b[0;34m\u001b[0m\u001b[0;34m\u001b[0m\u001b[0m\n\u001b[1;32m      5\u001b[0m \u001b[0;34m\u001b[0m\u001b[0m\n",
            "\u001b[0;31mAttributeError\u001b[0m: 'str' object has no attribute 'strftime'"
          ]
        }
      ]
    },
    {
      "cell_type": "markdown",
      "source": [
        "### RoBERTa - Pick ONE Option"
      ],
      "metadata": {
        "id": "Z34544DMLClY"
      }
    },
    {
      "cell_type": "markdown",
      "source": [
        "#### Fill Zero (Skip)"
      ],
      "metadata": {
        "id": "6jYQW1Ftalba"
      }
    },
    {
      "cell_type": "code",
      "source": [
        "# OPTIONAL Skip RoBERTa by filling with 0s\n",
        "\n",
        "data_df['roberta_twitter_noemoji'] = [0]*data_df.shape[0]\n",
        "data_df.head()                                                   "
      ],
      "metadata": {
        "id": "mt-FOGr9akvE",
        "outputId": "91a91cfd-4827-4be8-c9ff-62911ffee79a",
        "colab": {
          "base_uri": "https://localhost:8080/",
          "height": 496
        }
      },
      "execution_count": 92,
      "outputs": [
        {
          "output_type": "execute_result",
          "data": {
            "text/plain": [
              "                       datetime                   id  \\\n",
              "19999 2022-11-15 14:46:46+00:00  1592529547727339520   \n",
              "19998 2022-11-15 14:48:00+00:00  1592529858927923202   \n",
              "19997 2022-11-15 14:48:07+00:00  1592529886417424384   \n",
              "19996 2022-11-15 14:51:24+00:00  1592530714167504900   \n",
              "19995 2022-11-15 14:57:28+00:00  1592532238222389249   \n",
              "\n",
              "                                                   tweet        username  \\\n",
              "19999  Je viens de me faire ban de tiktok wtf j'ai ri...     lesvraissav   \n",
              "19998  @konbu_chan_zZ 復活(о´ﾟ∀)о＜おめでとぉぉぉ!!!\\nTikTokの運営...        Sn0wZi0n   \n",
              "19997  @prnvnirml @thatawkwardhoe_ Toh ab fir aage? M...  HellwithnoTime   \n",
              "19996  $bbig\\nIf Zash \"Global\" (lol) owns a majority ...    Necronautism   \n",
              "19995  video bạn mình nhảy được lên tiktok của thế an...       kcalie_07   \n",
              "\n",
              "       reply_ct  retweet_ct  like_ct  quote_ct retweeted_id quoted_id  \\\n",
              "19999         1           1        4         0         None      None   \n",
              "19998         0           0        0         0         None      None   \n",
              "19997         1           0        1         0         None      None   \n",
              "19996         0           0        0         0         None      None   \n",
              "19995         1           0        1         0         None      None   \n",
              "\n",
              "       roberta_twitter_noemoji  \n",
              "19999                        0  \n",
              "19998                        0  \n",
              "19997                        0  \n",
              "19996                        0  \n",
              "19995                        0  "
            ],
            "text/html": [
              "\n",
              "  <div id=\"df-048f5871-57af-4139-8c9c-fb1d718e4dff\">\n",
              "    <div class=\"colab-df-container\">\n",
              "      <div>\n",
              "<style scoped>\n",
              "    .dataframe tbody tr th:only-of-type {\n",
              "        vertical-align: middle;\n",
              "    }\n",
              "\n",
              "    .dataframe tbody tr th {\n",
              "        vertical-align: top;\n",
              "    }\n",
              "\n",
              "    .dataframe thead th {\n",
              "        text-align: right;\n",
              "    }\n",
              "</style>\n",
              "<table border=\"1\" class=\"dataframe\">\n",
              "  <thead>\n",
              "    <tr style=\"text-align: right;\">\n",
              "      <th></th>\n",
              "      <th>datetime</th>\n",
              "      <th>id</th>\n",
              "      <th>tweet</th>\n",
              "      <th>username</th>\n",
              "      <th>reply_ct</th>\n",
              "      <th>retweet_ct</th>\n",
              "      <th>like_ct</th>\n",
              "      <th>quote_ct</th>\n",
              "      <th>retweeted_id</th>\n",
              "      <th>quoted_id</th>\n",
              "      <th>roberta_twitter_noemoji</th>\n",
              "    </tr>\n",
              "  </thead>\n",
              "  <tbody>\n",
              "    <tr>\n",
              "      <th>19999</th>\n",
              "      <td>2022-11-15 14:46:46+00:00</td>\n",
              "      <td>1592529547727339520</td>\n",
              "      <td>Je viens de me faire ban de tiktok wtf j'ai ri...</td>\n",
              "      <td>lesvraissav</td>\n",
              "      <td>1</td>\n",
              "      <td>1</td>\n",
              "      <td>4</td>\n",
              "      <td>0</td>\n",
              "      <td>None</td>\n",
              "      <td>None</td>\n",
              "      <td>0</td>\n",
              "    </tr>\n",
              "    <tr>\n",
              "      <th>19998</th>\n",
              "      <td>2022-11-15 14:48:00+00:00</td>\n",
              "      <td>1592529858927923202</td>\n",
              "      <td>@konbu_chan_zZ 復活(о´ﾟ∀)о＜おめでとぉぉぉ!!!\\nTikTokの運営...</td>\n",
              "      <td>Sn0wZi0n</td>\n",
              "      <td>0</td>\n",
              "      <td>0</td>\n",
              "      <td>0</td>\n",
              "      <td>0</td>\n",
              "      <td>None</td>\n",
              "      <td>None</td>\n",
              "      <td>0</td>\n",
              "    </tr>\n",
              "    <tr>\n",
              "      <th>19997</th>\n",
              "      <td>2022-11-15 14:48:07+00:00</td>\n",
              "      <td>1592529886417424384</td>\n",
              "      <td>@prnvnirml @thatawkwardhoe_ Toh ab fir aage? M...</td>\n",
              "      <td>HellwithnoTime</td>\n",
              "      <td>1</td>\n",
              "      <td>0</td>\n",
              "      <td>1</td>\n",
              "      <td>0</td>\n",
              "      <td>None</td>\n",
              "      <td>None</td>\n",
              "      <td>0</td>\n",
              "    </tr>\n",
              "    <tr>\n",
              "      <th>19996</th>\n",
              "      <td>2022-11-15 14:51:24+00:00</td>\n",
              "      <td>1592530714167504900</td>\n",
              "      <td>$bbig\\nIf Zash \"Global\" (lol) owns a majority ...</td>\n",
              "      <td>Necronautism</td>\n",
              "      <td>0</td>\n",
              "      <td>0</td>\n",
              "      <td>0</td>\n",
              "      <td>0</td>\n",
              "      <td>None</td>\n",
              "      <td>None</td>\n",
              "      <td>0</td>\n",
              "    </tr>\n",
              "    <tr>\n",
              "      <th>19995</th>\n",
              "      <td>2022-11-15 14:57:28+00:00</td>\n",
              "      <td>1592532238222389249</td>\n",
              "      <td>video bạn mình nhảy được lên tiktok của thế an...</td>\n",
              "      <td>kcalie_07</td>\n",
              "      <td>1</td>\n",
              "      <td>0</td>\n",
              "      <td>1</td>\n",
              "      <td>0</td>\n",
              "      <td>None</td>\n",
              "      <td>None</td>\n",
              "      <td>0</td>\n",
              "    </tr>\n",
              "  </tbody>\n",
              "</table>\n",
              "</div>\n",
              "      <button class=\"colab-df-convert\" onclick=\"convertToInteractive('df-048f5871-57af-4139-8c9c-fb1d718e4dff')\"\n",
              "              title=\"Convert this dataframe to an interactive table.\"\n",
              "              style=\"display:none;\">\n",
              "        \n",
              "  <svg xmlns=\"http://www.w3.org/2000/svg\" height=\"24px\"viewBox=\"0 0 24 24\"\n",
              "       width=\"24px\">\n",
              "    <path d=\"M0 0h24v24H0V0z\" fill=\"none\"/>\n",
              "    <path d=\"M18.56 5.44l.94 2.06.94-2.06 2.06-.94-2.06-.94-.94-2.06-.94 2.06-2.06.94zm-11 1L8.5 8.5l.94-2.06 2.06-.94-2.06-.94L8.5 2.5l-.94 2.06-2.06.94zm10 10l.94 2.06.94-2.06 2.06-.94-2.06-.94-.94-2.06-.94 2.06-2.06.94z\"/><path d=\"M17.41 7.96l-1.37-1.37c-.4-.4-.92-.59-1.43-.59-.52 0-1.04.2-1.43.59L10.3 9.45l-7.72 7.72c-.78.78-.78 2.05 0 2.83L4 21.41c.39.39.9.59 1.41.59.51 0 1.02-.2 1.41-.59l7.78-7.78 2.81-2.81c.8-.78.8-2.07 0-2.86zM5.41 20L4 18.59l7.72-7.72 1.47 1.35L5.41 20z\"/>\n",
              "  </svg>\n",
              "      </button>\n",
              "      \n",
              "  <style>\n",
              "    .colab-df-container {\n",
              "      display:flex;\n",
              "      flex-wrap:wrap;\n",
              "      gap: 12px;\n",
              "    }\n",
              "\n",
              "    .colab-df-convert {\n",
              "      background-color: #E8F0FE;\n",
              "      border: none;\n",
              "      border-radius: 50%;\n",
              "      cursor: pointer;\n",
              "      display: none;\n",
              "      fill: #1967D2;\n",
              "      height: 32px;\n",
              "      padding: 0 0 0 0;\n",
              "      width: 32px;\n",
              "    }\n",
              "\n",
              "    .colab-df-convert:hover {\n",
              "      background-color: #E2EBFA;\n",
              "      box-shadow: 0px 1px 2px rgba(60, 64, 67, 0.3), 0px 1px 3px 1px rgba(60, 64, 67, 0.15);\n",
              "      fill: #174EA6;\n",
              "    }\n",
              "\n",
              "    [theme=dark] .colab-df-convert {\n",
              "      background-color: #3B4455;\n",
              "      fill: #D2E3FC;\n",
              "    }\n",
              "\n",
              "    [theme=dark] .colab-df-convert:hover {\n",
              "      background-color: #434B5C;\n",
              "      box-shadow: 0px 1px 3px 1px rgba(0, 0, 0, 0.15);\n",
              "      filter: drop-shadow(0px 1px 2px rgba(0, 0, 0, 0.3));\n",
              "      fill: #FFFFFF;\n",
              "    }\n",
              "  </style>\n",
              "\n",
              "      <script>\n",
              "        const buttonEl =\n",
              "          document.querySelector('#df-048f5871-57af-4139-8c9c-fb1d718e4dff button.colab-df-convert');\n",
              "        buttonEl.style.display =\n",
              "          google.colab.kernel.accessAllowed ? 'block' : 'none';\n",
              "\n",
              "        async function convertToInteractive(key) {\n",
              "          const element = document.querySelector('#df-048f5871-57af-4139-8c9c-fb1d718e4dff');\n",
              "          const dataTable =\n",
              "            await google.colab.kernel.invokeFunction('convertToInteractive',\n",
              "                                                     [key], {});\n",
              "          if (!dataTable) return;\n",
              "\n",
              "          const docLinkHtml = 'Like what you see? Visit the ' +\n",
              "            '<a target=\"_blank\" href=https://colab.research.google.com/notebooks/data_table.ipynb>data table notebook</a>'\n",
              "            + ' to learn more about interactive tables.';\n",
              "          element.innerHTML = '';\n",
              "          dataTable['output_type'] = 'display_data';\n",
              "          await google.colab.output.renderOutput(dataTable, element);\n",
              "          const docLink = document.createElement('div');\n",
              "          docLink.innerHTML = docLinkHtml;\n",
              "          element.appendChild(docLink);\n",
              "        }\n",
              "      </script>\n",
              "    </div>\n",
              "  </div>\n",
              "  "
            ]
          },
          "metadata": {},
          "execution_count": 92
        }
      ]
    },
    {
      "cell_type": "code",
      "source": [
        "# Save \n",
        "\n",
        "filename_sentiment_tweets = f\"tweets_sentiment_{slugify(search_str, separator='')}_{start_date}_{start_time}_{end_date}_{end_time}.csv\"\n",
        "print(f'Saving to file: {filename_sentiment_tweets}')\n",
        "\n",
        "data_df.to_csv(filename_sentiment_tweets, index=False)\n",
        "\n",
        "files.download(filename_sentiment_tweets)"
      ],
      "metadata": {
        "colab": {
          "base_uri": "https://localhost:8080/",
          "height": 235
        },
        "outputId": "587a682f-eaf2-4e0b-ff79-8a59433d7f28",
        "id": "QEYfMs2eayeX"
      },
      "execution_count": 93,
      "outputs": [
        {
          "output_type": "error",
          "ename": "NameError",
          "evalue": "ignored",
          "traceback": [
            "\u001b[0;31m---------------------------------------------------------------------------\u001b[0m",
            "\u001b[0;31mNameError\u001b[0m                                 Traceback (most recent call last)",
            "\u001b[0;32m<ipython-input-93-0f0a205c5e4f>\u001b[0m in \u001b[0;36m<module>\u001b[0;34m\u001b[0m\n\u001b[1;32m      1\u001b[0m \u001b[0;31m# Save\u001b[0m\u001b[0;34m\u001b[0m\u001b[0;34m\u001b[0m\u001b[0;34m\u001b[0m\u001b[0m\n\u001b[1;32m      2\u001b[0m \u001b[0;34m\u001b[0m\u001b[0m\n\u001b[0;32m----> 3\u001b[0;31m \u001b[0mfilename_sentiment_tweets\u001b[0m \u001b[0;34m=\u001b[0m \u001b[0;34mf\"tweets_sentiment_{slugify(search_str, separator='')}_{start_date}_{start_time}_{end_date}_{end_time}.csv\"\u001b[0m\u001b[0;34m\u001b[0m\u001b[0;34m\u001b[0m\u001b[0m\n\u001b[0m\u001b[1;32m      4\u001b[0m \u001b[0mprint\u001b[0m\u001b[0;34m(\u001b[0m\u001b[0;34mf'Saving to file: {filename_sentiment_tweets}'\u001b[0m\u001b[0;34m)\u001b[0m\u001b[0;34m\u001b[0m\u001b[0;34m\u001b[0m\u001b[0m\n\u001b[1;32m      5\u001b[0m \u001b[0;34m\u001b[0m\u001b[0m\n",
            "\u001b[0;31mNameError\u001b[0m: name 'search_str' is not defined"
          ]
        }
      ]
    },
    {
      "cell_type": "code",
      "execution_count": null,
      "metadata": {
        "id": "VAHMWfROe8s6"
      },
      "outputs": [],
      "source": [
        "# from transformers import AutoModelForSequenceClassification, TFAutoModelForSequenceClassification, AutoTokenizer"
      ]
    },
    {
      "cell_type": "code",
      "execution_count": null,
      "metadata": {
        "id": "0-Om9Ba4e8mk"
      },
      "outputs": [],
      "source": [
        "# Preprocess text (username and link placeholders)\n",
        "def preprocess(text):\n",
        "    new_text = []\n",
        "    for t in text.split(\" \"):\n",
        "        t = '@user' if t.startswith('@') and len(t) > 1 else t\n",
        "        t = 'http' if t.startswith('http') else t\n",
        "        new_text.append(t)\n",
        "    return \" \".join(new_text)"
      ]
    },
    {
      "cell_type": "code",
      "execution_count": null,
      "metadata": {
        "id": "Kksc-dO7fcKG"
      },
      "outputs": [],
      "source": [
        "# Tasks:\n",
        "#   emoji, emotion, hate, irony, offensive, sentiment\n",
        "#   stance/abortion, stance/atheism, stance/climate, stance/feminist, stance/hillary\n",
        "\n",
        "task='sentiment'\n",
        "model_name = f\"cardiffnlp/twitter-roberta-base-{task}\"\n",
        "tokenizer = AutoTokenizer.from_pretrained(model_name)\n",
        "model = AutoModelForSequenceClassification.from_pretrained(model_name)\n",
        "# model.save_pretrained(model_name)\n",
        "\n",
        "# download label mapping\n",
        "mapping_link = f\"https://raw.githubusercontent.com/cardiffnlp/tweeteval/main/datasets/{task}/mapping.txt\"\n",
        "with urllib.request.urlopen(mapping_link) as f:\n",
        "    html = f.read().decode('utf-8').split(\"\\n\")\n",
        "    csvreader = csv.reader(html, delimiter='\\t')\n",
        "labels = [row[1] for row in csvreader if len(row) > 1]"
      ]
    },
    {
      "cell_type": "code",
      "execution_count": null,
      "metadata": {
        "id": "4oj610zZ8sa_"
      },
      "outputs": [],
      "source": [
        "# Test\n",
        "\n",
        "text = \"Celebrating my promotion 😎\"\n",
        "text = preprocess(text)\n",
        "encoded_input = tokenizer(text, return_tensors='pt')\n",
        "output = model(**encoded_input)\n",
        "scores = output[0][0].detach().numpy()\n",
        "scores = softmax(scores)\n",
        "\n",
        "# # TF\n",
        "# model = TFAutoModelForSequenceClassification.from_pretrained(MODEL)\n",
        "# model.save_pretrained(MODEL)\n",
        "\n",
        "# text = \"Celebrating my promotion 😎\"\n",
        "# encoded_input = tokenizer(text, return_tensors='tf')\n",
        "# output = model(encoded_input)\n",
        "# scores = output[0][0].numpy()\n",
        "# scores = softmax(scores)\n",
        "\n",
        "ranking = np.argsort(scores)\n",
        "ranking = ranking[::-1]\n",
        "for i in range(scores.shape[0]):\n",
        "    l = labels[ranking[i]]\n",
        "    s = scores[ranking[i]]\n",
        "    print(f\"{i+1}) {l} {np.round(float(s), 4)}\")"
      ]
    },
    {
      "cell_type": "code",
      "execution_count": null,
      "metadata": {
        "id": "ia_F3kGWhen_"
      },
      "outputs": [],
      "source": [
        "# Get sentiment for a no_emoji tweet\n",
        "\n",
        "def get_roberta_tweets(line_ls):\n",
        "\n",
        "  sentiment_ls = []\n",
        "\n",
        "  for text in tqdm(line_ls):\n",
        "    # text = \"Celebrating my promotion 😎\"\n",
        "    text_preproc = preprocess(text)\n",
        "    encoded_input = tokenizer(text_preproc, return_tensors='pt')\n",
        "    output = model(**encoded_input)\n",
        "    scores = output[0][0].detach().numpy()\n",
        "    scores = softmax(scores)\n",
        "\n",
        "    # # TF\n",
        "    # model = TFAutoModelForSequenceClassification.from_pretrained(MODEL)\n",
        "    # model.save_pretrained(MODEL)\n",
        "\n",
        "    # text = \"Celebrating my promotion 😎\"\n",
        "    # encoded_input = tokenizer(text, return_tensors='tf')\n",
        "    # output = model(encoded_input)\n",
        "    # scores = output[0][0].numpy()\n",
        "    # scores = softmax(scores)\n",
        "\n",
        "    ranking = np.argsort(scores)\n",
        "    ranking = ranking[::-1]\n",
        "    label_str = labels[ranking[0]]\n",
        "    if label_str == 'positive':\n",
        "      sentiment_ls.append(1)\n",
        "    elif label_str == 'negative':\n",
        "      sentiment_ls.append(-1)\n",
        "    else:\n",
        "      sentiment_ls.append(0)\n",
        "\n",
        "  return sentiment_ls\n"
      ]
    },
    {
      "cell_type": "code",
      "execution_count": null,
      "metadata": {
        "id": "GPWBZSlSRrc5"
      },
      "outputs": [],
      "source": [
        "data_df.iloc[153:156]['text_raw']"
      ]
    },
    {
      "cell_type": "code",
      "execution_count": null,
      "metadata": {
        "id": "-WwX41eyhTgd"
      },
      "outputs": [],
      "source": [
        "%%time\n",
        "\n",
        "# NOTE:   32m00s on Sun 20221204 @ 17:02PM EST on Colab Pro T4 with 5k Tweets (2x processing)\n",
        "#       1h30m00s on Tue 20221206 @ 03:28AM EST on Colab Pro T4 with 10k Tweets (2x processing)\n",
        "#       1h30m00s on Tue 20221206 @ 17:47AM EST on Colab Pro T4 with 10k Tweets (2x processing)\n",
        "#         18m32s on Thu 20221215 @ 03:20AM EST on Colab Pro T4 with 6k Tweets\n",
        "\n",
        "\n",
        "text_raw_ls = data_df['text_raw'].to_list()\n",
        "text_noemoji_ls = data_df['text_noemoji'].to_list()\n",
        "text_clean_ls = data_df['text_clean'].to_list()\n",
        "\n",
        "# Get sentiment for raw uncleaned twitter Twitter text\n",
        "# sentiment_raw_ls = get_roberta_tweets(text_raw_ls)\n",
        "\n",
        "# Get sentiment for noemoji basic cleaned Twitter text\n",
        "sentiment_noemoji_ls = get_roberta_tweets(text_noemoji_ls)\n",
        "\n",
        "# Get sentiment for clean twitter Twitter text\n",
        "# sentiment_clean_ls = get_roberta_tweets(text_clean_ls)\n",
        "\n",
        "\n",
        "# data_df['roberta_twitter_raw'] = sentiment_raw_ls\n",
        "data_df['roberta_twitter_noemoji'] = sentiment_noemoji_ls\n",
        "# data_df['roberta_twitter_clean'] = sentiment_clean_ls\n",
        "\n",
        "data_df.head()\n",
        "data_df.info()"
      ]
    },
    {
      "cell_type": "code",
      "source": [
        "# Save \n",
        "\n",
        "filename_sentiment_tweets = f\"tweets_sentiment_{slugify(search_str, separator='')}_{start_date}_{start_time}_{end_date}_{end_time}.csv\"\n",
        "print(f'Saving to file: {filename_sentiment_tweets}')\n",
        "\n",
        "data_df.to_csv(filename_sentiment_tweets, index=False)\n",
        "\n",
        "files.download(filename_sentiment_tweets)"
      ],
      "metadata": {
        "id": "5X6y1wsG2HGQ"
      },
      "execution_count": null,
      "outputs": []
    },
    {
      "cell_type": "code",
      "source": [
        "# OPTIONAL Skip RoBERTa by filling with 0s\n",
        "\n",
        "\"\"\"\n",
        "data_df['roberta_twitter_noemoji'] = [0]*data_df.shape[0]\n",
        "data_df.head()\n",
        "\"\"\";                                                      "
      ],
      "metadata": {
        "id": "zIKT9tedq5Mi"
      },
      "execution_count": null,
      "outputs": []
    },
    {
      "cell_type": "markdown",
      "metadata": {
        "id": "UTLV5VsuEuyJ"
      },
      "source": [
        "# **Plot Sentiment**"
      ]
    },
    {
      "cell_type": "code",
      "execution_count": 67,
      "metadata": {
        "id": "BDCpo-toxIAH",
        "colab": {
          "base_uri": "https://localhost:8080/"
        },
        "outputId": "2dce6ff4-356e-48c2-d31e-89c70166dbb5"
      },
      "outputs": [
        {
          "output_type": "stream",
          "name": "stdout",
          "text": [
            "<class 'pandas.core.frame.DataFrame'>\n",
            "Int64Index: 20000 entries, 19999 to 0\n",
            "Data columns (total 11 columns):\n",
            " #   Column                   Non-Null Count  Dtype              \n",
            "---  ------                   --------------  -----              \n",
            " 0   datetime                 20000 non-null  datetime64[ns, UTC]\n",
            " 1   id                       20000 non-null  int64              \n",
            " 2   tweet                    20000 non-null  object             \n",
            " 3   username                 20000 non-null  object             \n",
            " 4   text_raw                 20000 non-null  object             \n",
            " 5   text_noemoji             20000 non-null  object             \n",
            " 6   text_clean               20000 non-null  object             \n",
            " 7   vader                    20000 non-null  float64            \n",
            " 8   textblob                 20000 non-null  float64            \n",
            " 9   distilbert               20000 non-null  float64            \n",
            " 10  roberta_twitter_noemoji  20000 non-null  int64              \n",
            "dtypes: datetime64[ns, UTC](1), float64(3), int64(2), object(5)\n",
            "memory usage: 1.8+ MB\n"
          ]
        }
      ],
      "source": [
        "data_df.info()"
      ]
    },
    {
      "cell_type": "code",
      "source": [
        "# Reset list of models\n",
        "model_ls = list(set(data_df.columns) - set(['datetime','id','tweet','username','text_raw','text_noemoji','text_clean','text_raw_type']))\n",
        "model_ls = [x for x in model_ls if 'sma' not in x]\n",
        "model_ls = [x for x in model_ls if 'stdscaler' not in x]\n",
        "model_ls"
      ],
      "metadata": {
        "colab": {
          "base_uri": "https://localhost:8080/"
        },
        "id": "_N2eQGbKIr9h",
        "outputId": "56c86cf1-666e-4957-c1a3-2240d441e9fd"
      },
      "execution_count": 68,
      "outputs": [
        {
          "output_type": "execute_result",
          "data": {
            "text/plain": [
              "['vader', 'distilbert', 'roberta_twitter_noemoji', 'textblob']"
            ]
          },
          "metadata": {},
          "execution_count": 68
        }
      ]
    },
    {
      "cell_type": "code",
      "execution_count": 90,
      "metadata": {
        "id": "UN-qN5C-47hY",
        "colab": {
          "base_uri": "https://localhost:8080/",
          "height": 553
        },
        "outputId": "b0356aec-694f-459d-847f-bb042eabbb7d"
      },
      "outputs": [
        {
          "output_type": "error",
          "ename": "DataError",
          "evalue": "ignored",
          "traceback": [
            "\u001b[0;31m---------------------------------------------------------------------------\u001b[0m",
            "\u001b[0;31mTypeError\u001b[0m                                 Traceback (most recent call last)",
            "\u001b[0;32m/usr/local/lib/python3.8/dist-packages/pandas/core/window/rolling.py\u001b[0m in \u001b[0;36m_prep_values\u001b[0;34m(self, values)\u001b[0m\n\u001b[1;32m    403\u001b[0m                 \u001b[0;32melse\u001b[0m\u001b[0;34m:\u001b[0m\u001b[0;34m\u001b[0m\u001b[0;34m\u001b[0m\u001b[0m\n\u001b[0;32m--> 404\u001b[0;31m                     \u001b[0mvalues\u001b[0m \u001b[0;34m=\u001b[0m \u001b[0mensure_float64\u001b[0m\u001b[0;34m(\u001b[0m\u001b[0mvalues\u001b[0m\u001b[0;34m)\u001b[0m\u001b[0;34m\u001b[0m\u001b[0;34m\u001b[0m\u001b[0m\n\u001b[0m\u001b[1;32m    405\u001b[0m             \u001b[0;32mexcept\u001b[0m \u001b[0;34m(\u001b[0m\u001b[0mValueError\u001b[0m\u001b[0;34m,\u001b[0m \u001b[0mTypeError\u001b[0m\u001b[0;34m)\u001b[0m \u001b[0;32mas\u001b[0m \u001b[0merr\u001b[0m\u001b[0;34m:\u001b[0m\u001b[0;34m\u001b[0m\u001b[0;34m\u001b[0m\u001b[0m\n",
            "\u001b[0;32mpandas/_libs/algos_common_helper.pxi\u001b[0m in \u001b[0;36mpandas._libs.algos.ensure_float64\u001b[0;34m()\u001b[0m\n",
            "\u001b[0;31mTypeError\u001b[0m: float() argument must be a string or a number, not 'Tweet'",
            "\nThe above exception was the direct cause of the following exception:\n",
            "\u001b[0;31mTypeError\u001b[0m                                 Traceback (most recent call last)",
            "\u001b[0;32m/usr/local/lib/python3.8/dist-packages/pandas/core/window/rolling.py\u001b[0m in \u001b[0;36m_apply_series\u001b[0;34m(self, homogeneous_func, name)\u001b[0m\n\u001b[1;32m    482\u001b[0m         \u001b[0;32mtry\u001b[0m\u001b[0;34m:\u001b[0m\u001b[0;34m\u001b[0m\u001b[0;34m\u001b[0m\u001b[0m\n\u001b[0;32m--> 483\u001b[0;31m             \u001b[0mvalues\u001b[0m \u001b[0;34m=\u001b[0m \u001b[0mself\u001b[0m\u001b[0;34m.\u001b[0m\u001b[0m_prep_values\u001b[0m\u001b[0;34m(\u001b[0m\u001b[0mobj\u001b[0m\u001b[0;34m.\u001b[0m\u001b[0m_values\u001b[0m\u001b[0;34m)\u001b[0m\u001b[0;34m\u001b[0m\u001b[0;34m\u001b[0m\u001b[0m\n\u001b[0m\u001b[1;32m    484\u001b[0m         \u001b[0;32mexcept\u001b[0m \u001b[0;34m(\u001b[0m\u001b[0mTypeError\u001b[0m\u001b[0;34m,\u001b[0m \u001b[0mNotImplementedError\u001b[0m\u001b[0;34m)\u001b[0m \u001b[0;32mas\u001b[0m \u001b[0merr\u001b[0m\u001b[0;34m:\u001b[0m\u001b[0;34m\u001b[0m\u001b[0;34m\u001b[0m\u001b[0m\n",
            "\u001b[0;32m/usr/local/lib/python3.8/dist-packages/pandas/core/window/rolling.py\u001b[0m in \u001b[0;36m_prep_values\u001b[0;34m(self, values)\u001b[0m\n\u001b[1;32m    405\u001b[0m             \u001b[0;32mexcept\u001b[0m \u001b[0;34m(\u001b[0m\u001b[0mValueError\u001b[0m\u001b[0;34m,\u001b[0m \u001b[0mTypeError\u001b[0m\u001b[0;34m)\u001b[0m \u001b[0;32mas\u001b[0m \u001b[0merr\u001b[0m\u001b[0;34m:\u001b[0m\u001b[0;34m\u001b[0m\u001b[0;34m\u001b[0m\u001b[0m\n\u001b[0;32m--> 406\u001b[0;31m                 \u001b[0;32mraise\u001b[0m \u001b[0mTypeError\u001b[0m\u001b[0;34m(\u001b[0m\u001b[0;34mf\"cannot handle this type -> {values.dtype}\"\u001b[0m\u001b[0;34m)\u001b[0m \u001b[0;32mfrom\u001b[0m \u001b[0merr\u001b[0m\u001b[0;34m\u001b[0m\u001b[0;34m\u001b[0m\u001b[0m\n\u001b[0m\u001b[1;32m    407\u001b[0m \u001b[0;34m\u001b[0m\u001b[0m\n",
            "\u001b[0;31mTypeError\u001b[0m: cannot handle this type -> object",
            "\nThe above exception was the direct cause of the following exception:\n",
            "\u001b[0;31mDataError\u001b[0m                                 Traceback (most recent call last)",
            "\u001b[0;32m<ipython-input-90-3b1227d4649f>\u001b[0m in \u001b[0;36m<module>\u001b[0;34m\u001b[0m\n\u001b[1;32m     19\u001b[0m   \u001b[0mmodel_col\u001b[0m \u001b[0;34m=\u001b[0m \u001b[0;34mf'{amodel}_sma{window_percent}'\u001b[0m\u001b[0;34m\u001b[0m\u001b[0;34m\u001b[0m\u001b[0m\n\u001b[1;32m     20\u001b[0m   \u001b[0mmodel_sma_ls\u001b[0m\u001b[0;34m.\u001b[0m\u001b[0mappend\u001b[0m\u001b[0;34m(\u001b[0m\u001b[0mmodel_col\u001b[0m\u001b[0;34m)\u001b[0m\u001b[0;34m\u001b[0m\u001b[0;34m\u001b[0m\u001b[0m\n\u001b[0;32m---> 21\u001b[0;31m   \u001b[0mdata_df\u001b[0m\u001b[0;34m[\u001b[0m\u001b[0mmodel_col\u001b[0m\u001b[0;34m]\u001b[0m \u001b[0;34m=\u001b[0m \u001b[0mdata_df\u001b[0m\u001b[0;34m[\u001b[0m\u001b[0mamodel\u001b[0m\u001b[0;34m]\u001b[0m\u001b[0;34m.\u001b[0m\u001b[0mrolling\u001b[0m\u001b[0;34m(\u001b[0m\u001b[0mwin_per\u001b[0m\u001b[0;34m,\u001b[0m \u001b[0mcenter\u001b[0m\u001b[0;34m=\u001b[0m\u001b[0;32mTrue\u001b[0m\u001b[0;34m,\u001b[0m \u001b[0mmin_periods\u001b[0m\u001b[0;34m=\u001b[0m\u001b[0;36m1\u001b[0m\u001b[0;34m)\u001b[0m\u001b[0;34m.\u001b[0m\u001b[0mmean\u001b[0m\u001b[0;34m(\u001b[0m\u001b[0;34m)\u001b[0m\u001b[0;34m\u001b[0m\u001b[0;34m\u001b[0m\u001b[0m\n\u001b[0m\u001b[1;32m     22\u001b[0m   \u001b[0msentiment_mean_dt\u001b[0m\u001b[0;34m[\u001b[0m\u001b[0mamodel\u001b[0m\u001b[0;34m]\u001b[0m \u001b[0;34m=\u001b[0m \u001b[0mdata_df\u001b[0m\u001b[0;34m[\u001b[0m\u001b[0mamodel\u001b[0m\u001b[0;34m]\u001b[0m\u001b[0;34m.\u001b[0m\u001b[0mmean\u001b[0m\u001b[0;34m(\u001b[0m\u001b[0;34m)\u001b[0m\u001b[0;34m\u001b[0m\u001b[0;34m\u001b[0m\u001b[0m\n\u001b[1;32m     23\u001b[0m \u001b[0;34m\u001b[0m\u001b[0m\n",
            "\u001b[0;32m/usr/local/lib/python3.8/dist-packages/pandas/core/window/rolling.py\u001b[0m in \u001b[0;36mmean\u001b[0;34m(self, numeric_only, engine, engine_kwargs, *args, **kwargs)\u001b[0m\n\u001b[1;32m   2221\u001b[0m         \u001b[0mmaybe_warn_args_and_kwargs\u001b[0m\u001b[0;34m(\u001b[0m\u001b[0mtype\u001b[0m\u001b[0;34m(\u001b[0m\u001b[0mself\u001b[0m\u001b[0;34m)\u001b[0m\u001b[0;34m,\u001b[0m \u001b[0;34m\"mean\"\u001b[0m\u001b[0;34m,\u001b[0m \u001b[0margs\u001b[0m\u001b[0;34m,\u001b[0m \u001b[0mkwargs\u001b[0m\u001b[0;34m)\u001b[0m\u001b[0;34m\u001b[0m\u001b[0;34m\u001b[0m\u001b[0m\n\u001b[1;32m   2222\u001b[0m         \u001b[0mnv\u001b[0m\u001b[0;34m.\u001b[0m\u001b[0mvalidate_rolling_func\u001b[0m\u001b[0;34m(\u001b[0m\u001b[0;34m\"mean\"\u001b[0m\u001b[0;34m,\u001b[0m \u001b[0margs\u001b[0m\u001b[0;34m,\u001b[0m \u001b[0mkwargs\u001b[0m\u001b[0;34m)\u001b[0m\u001b[0;34m\u001b[0m\u001b[0;34m\u001b[0m\u001b[0m\n\u001b[0;32m-> 2223\u001b[0;31m         return super().mean(\n\u001b[0m\u001b[1;32m   2224\u001b[0m             \u001b[0mnumeric_only\u001b[0m\u001b[0;34m=\u001b[0m\u001b[0mnumeric_only\u001b[0m\u001b[0;34m,\u001b[0m\u001b[0;34m\u001b[0m\u001b[0;34m\u001b[0m\u001b[0m\n\u001b[1;32m   2225\u001b[0m             \u001b[0mengine\u001b[0m\u001b[0;34m=\u001b[0m\u001b[0mengine\u001b[0m\u001b[0;34m,\u001b[0m\u001b[0;34m\u001b[0m\u001b[0;34m\u001b[0m\u001b[0m\n",
            "\u001b[0;32m/usr/local/lib/python3.8/dist-packages/pandas/core/window/rolling.py\u001b[0m in \u001b[0;36mmean\u001b[0;34m(self, numeric_only, engine, engine_kwargs, *args, **kwargs)\u001b[0m\n\u001b[1;32m   1549\u001b[0m                 \u001b[0;32mreturn\u001b[0m \u001b[0mself\u001b[0m\u001b[0;34m.\u001b[0m\u001b[0m_numba_apply\u001b[0m\u001b[0;34m(\u001b[0m\u001b[0msliding_mean\u001b[0m\u001b[0;34m,\u001b[0m \u001b[0mengine_kwargs\u001b[0m\u001b[0;34m)\u001b[0m\u001b[0;34m\u001b[0m\u001b[0;34m\u001b[0m\u001b[0m\n\u001b[1;32m   1550\u001b[0m         \u001b[0mwindow_func\u001b[0m \u001b[0;34m=\u001b[0m \u001b[0mwindow_aggregations\u001b[0m\u001b[0;34m.\u001b[0m\u001b[0mroll_mean\u001b[0m\u001b[0;34m\u001b[0m\u001b[0;34m\u001b[0m\u001b[0m\n\u001b[0;32m-> 1551\u001b[0;31m         return self._apply(\n\u001b[0m\u001b[1;32m   1552\u001b[0m             \u001b[0mwindow_func\u001b[0m\u001b[0;34m,\u001b[0m \u001b[0mname\u001b[0m\u001b[0;34m=\u001b[0m\u001b[0;34m\"mean\"\u001b[0m\u001b[0;34m,\u001b[0m \u001b[0mnumeric_only\u001b[0m\u001b[0;34m=\u001b[0m\u001b[0mnumeric_only\u001b[0m\u001b[0;34m,\u001b[0m \u001b[0;34m**\u001b[0m\u001b[0mkwargs\u001b[0m\u001b[0;34m\u001b[0m\u001b[0;34m\u001b[0m\u001b[0m\n\u001b[1;32m   1553\u001b[0m         )\n",
            "\u001b[0;32m/usr/local/lib/python3.8/dist-packages/pandas/core/window/rolling.py\u001b[0m in \u001b[0;36m_apply\u001b[0;34m(self, func, name, numeric_only, numba_args, **kwargs)\u001b[0m\n\u001b[1;32m    661\u001b[0m \u001b[0;34m\u001b[0m\u001b[0m\n\u001b[1;32m    662\u001b[0m         \u001b[0;32mif\u001b[0m \u001b[0mself\u001b[0m\u001b[0;34m.\u001b[0m\u001b[0mmethod\u001b[0m \u001b[0;34m==\u001b[0m \u001b[0;34m\"single\"\u001b[0m\u001b[0;34m:\u001b[0m\u001b[0;34m\u001b[0m\u001b[0;34m\u001b[0m\u001b[0m\n\u001b[0;32m--> 663\u001b[0;31m             \u001b[0;32mreturn\u001b[0m \u001b[0mself\u001b[0m\u001b[0;34m.\u001b[0m\u001b[0m_apply_blockwise\u001b[0m\u001b[0;34m(\u001b[0m\u001b[0mhomogeneous_func\u001b[0m\u001b[0;34m,\u001b[0m \u001b[0mname\u001b[0m\u001b[0;34m,\u001b[0m \u001b[0mnumeric_only\u001b[0m\u001b[0;34m)\u001b[0m\u001b[0;34m\u001b[0m\u001b[0;34m\u001b[0m\u001b[0m\n\u001b[0m\u001b[1;32m    664\u001b[0m         \u001b[0;32melse\u001b[0m\u001b[0;34m:\u001b[0m\u001b[0;34m\u001b[0m\u001b[0;34m\u001b[0m\u001b[0m\n\u001b[1;32m    665\u001b[0m             \u001b[0;32mreturn\u001b[0m \u001b[0mself\u001b[0m\u001b[0;34m.\u001b[0m\u001b[0m_apply_tablewise\u001b[0m\u001b[0;34m(\u001b[0m\u001b[0mhomogeneous_func\u001b[0m\u001b[0;34m,\u001b[0m \u001b[0mname\u001b[0m\u001b[0;34m,\u001b[0m \u001b[0mnumeric_only\u001b[0m\u001b[0;34m)\u001b[0m\u001b[0;34m\u001b[0m\u001b[0;34m\u001b[0m\u001b[0m\n",
            "\u001b[0;32m/usr/local/lib/python3.8/dist-packages/pandas/core/window/rolling.py\u001b[0m in \u001b[0;36m_apply_blockwise\u001b[0;34m(self, homogeneous_func, name, numeric_only)\u001b[0m\n\u001b[1;32m    501\u001b[0m         \u001b[0mself\u001b[0m\u001b[0;34m.\u001b[0m\u001b[0m_validate_numeric_only\u001b[0m\u001b[0;34m(\u001b[0m\u001b[0mname\u001b[0m\u001b[0;34m,\u001b[0m \u001b[0mnumeric_only\u001b[0m\u001b[0;34m)\u001b[0m\u001b[0;34m\u001b[0m\u001b[0;34m\u001b[0m\u001b[0m\n\u001b[1;32m    502\u001b[0m         \u001b[0;32mif\u001b[0m \u001b[0mself\u001b[0m\u001b[0;34m.\u001b[0m\u001b[0m_selected_obj\u001b[0m\u001b[0;34m.\u001b[0m\u001b[0mndim\u001b[0m \u001b[0;34m==\u001b[0m \u001b[0;36m1\u001b[0m\u001b[0;34m:\u001b[0m\u001b[0;34m\u001b[0m\u001b[0;34m\u001b[0m\u001b[0m\n\u001b[0;32m--> 503\u001b[0;31m             \u001b[0;32mreturn\u001b[0m \u001b[0mself\u001b[0m\u001b[0;34m.\u001b[0m\u001b[0m_apply_series\u001b[0m\u001b[0;34m(\u001b[0m\u001b[0mhomogeneous_func\u001b[0m\u001b[0;34m,\u001b[0m \u001b[0mname\u001b[0m\u001b[0;34m)\u001b[0m\u001b[0;34m\u001b[0m\u001b[0;34m\u001b[0m\u001b[0m\n\u001b[0m\u001b[1;32m    504\u001b[0m \u001b[0;34m\u001b[0m\u001b[0m\n\u001b[1;32m    505\u001b[0m         \u001b[0mobj\u001b[0m \u001b[0;34m=\u001b[0m \u001b[0mself\u001b[0m\u001b[0;34m.\u001b[0m\u001b[0m_create_data\u001b[0m\u001b[0;34m(\u001b[0m\u001b[0mself\u001b[0m\u001b[0;34m.\u001b[0m\u001b[0m_selected_obj\u001b[0m\u001b[0;34m,\u001b[0m \u001b[0mnumeric_only\u001b[0m\u001b[0;34m)\u001b[0m\u001b[0;34m\u001b[0m\u001b[0;34m\u001b[0m\u001b[0m\n",
            "\u001b[0;32m/usr/local/lib/python3.8/dist-packages/pandas/core/window/rolling.py\u001b[0m in \u001b[0;36m_apply_series\u001b[0;34m(self, homogeneous_func, name)\u001b[0m\n\u001b[1;32m    483\u001b[0m             \u001b[0mvalues\u001b[0m \u001b[0;34m=\u001b[0m \u001b[0mself\u001b[0m\u001b[0;34m.\u001b[0m\u001b[0m_prep_values\u001b[0m\u001b[0;34m(\u001b[0m\u001b[0mobj\u001b[0m\u001b[0;34m.\u001b[0m\u001b[0m_values\u001b[0m\u001b[0;34m)\u001b[0m\u001b[0;34m\u001b[0m\u001b[0;34m\u001b[0m\u001b[0m\n\u001b[1;32m    484\u001b[0m         \u001b[0;32mexcept\u001b[0m \u001b[0;34m(\u001b[0m\u001b[0mTypeError\u001b[0m\u001b[0;34m,\u001b[0m \u001b[0mNotImplementedError\u001b[0m\u001b[0;34m)\u001b[0m \u001b[0;32mas\u001b[0m \u001b[0merr\u001b[0m\u001b[0;34m:\u001b[0m\u001b[0;34m\u001b[0m\u001b[0;34m\u001b[0m\u001b[0m\n\u001b[0;32m--> 485\u001b[0;31m             \u001b[0;32mraise\u001b[0m \u001b[0mDataError\u001b[0m\u001b[0;34m(\u001b[0m\u001b[0;34m\"No numeric types to aggregate\"\u001b[0m\u001b[0;34m)\u001b[0m \u001b[0;32mfrom\u001b[0m \u001b[0merr\u001b[0m\u001b[0;34m\u001b[0m\u001b[0;34m\u001b[0m\u001b[0m\n\u001b[0m\u001b[1;32m    486\u001b[0m \u001b[0;34m\u001b[0m\u001b[0m\n\u001b[1;32m    487\u001b[0m         \u001b[0mresult\u001b[0m \u001b[0;34m=\u001b[0m \u001b[0mhomogeneous_func\u001b[0m\u001b[0;34m(\u001b[0m\u001b[0mvalues\u001b[0m\u001b[0;34m)\u001b[0m\u001b[0;34m\u001b[0m\u001b[0;34m\u001b[0m\u001b[0m\n",
            "\u001b[0;31mDataError\u001b[0m: No numeric types to aggregate"
          ]
        }
      ],
      "source": [
        "#@title Enter the Sliding Window width as Percent of Novel length (default 10%, larger=smoother)\n",
        "\n",
        "plt.rcParams['figure.figsize'] = [20, 10]\n",
        "\n",
        "# Dict of sentiment model means\n",
        "sentiment_mean_dt = {}\n",
        "\n",
        "window_percent = 10 #@param {type:\"slider\", min:1, max:20, step:1}\n",
        "\n",
        "win_per = int(window_percent/100 * data_df.shape[0])\n",
        "\n",
        "# Reset list of models\n",
        "model_ls = list(set(data_df.columns) - set(['datetime','id','tweet','username','text_raw','text_noemoji','text_clean','text_raw_type']))\n",
        "model_ls = [x for x in model_ls if 'sma' not in x]\n",
        "model_ls = [x for x in model_ls if 'stdscaler' not in x]\n",
        "\n",
        "model_sma_ls = []\n",
        "for amodel in model_ls:\n",
        "  model_col = f'{amodel}_sma{window_percent}'\n",
        "  model_sma_ls.append(model_col)\n",
        "  data_df[model_col] = data_df[amodel].rolling(win_per, center=True, min_periods=1).mean()\n",
        "  sentiment_mean_dt[amodel] = data_df[amodel].mean()\n",
        "\n",
        "# roberta_twitter_raw_col = f'roberta_twitter_raw_sma{window_percent}'\n",
        "# data_df[roberta_twitter_raw_col] = data_df['roberta_twitter_raw'].rolling(win_per, center=True, min_periods=1).mean()\n",
        "# sentiment_mean_dt['roberta_twitter_raw'] = data_df['roberta_twitter_raw'].mean()\n",
        "\n",
        "# Normalize Time Series to same y-range\n",
        "model_norm_ls = [f'{amodel}_stdscaler' for amodel in model_ls]\n",
        "# model_norm_ls\n",
        "\n",
        "data_df[model_norm_ls] = StandardScaler().fit_transform(data_df[model_sma_ls])\n",
        "\n",
        "# _ = data_df[model_norm_ls].plot(xticks=data_df.datetime, rot=90)\n",
        "_ = data_df[model_norm_ls].plot()\n",
        "\n",
        "_ = plt.title(f'Tweets Sentiment Analysis (SMA {window_percent}%)\\nSearch Term=[{search_str}]\\nFrom:{start_date} End:{end_date}')\n",
        "_ = plt.ylabel('Sentiment')\n",
        "# xtick_ls = [x.split(' ')[0] for x in data_df.datetime.to_list()]\n",
        "# _ = plt.xticks(xtick_ls, rot=90)\n",
        "_ = plt.xlabel('Datetime')\n",
        "_ = plt.grid(True, alpha=0.3)\n",
        "_ = plt.legend(loc='best')\n",
        "\n",
        "model_mean_str = 'Model Raw Means\\n\\n'\n",
        "for amodel, amean in sentiment_mean_dt.items():\n",
        "  model_mean_str += f'{amodel} = {amean:.2f}\\n'\n",
        "  _ = plt.axhline(y = amean, label='book', color='red', linestyle='--', alpha=0.4)\n",
        "\n",
        "filename_plot = f\"twitter_plot_ensemble_{search_str.replace(' ', '_')}_{start_date}_{start_time}_{end_date}_{end_time}.png\"\n",
        "_ = plt.savefig(filename_plot, dpi=300)\n",
        "_ = plt.show();\n",
        "\n",
        "print(f'{model_mean_str}')\n",
        "\n",
        "# Download Crux Point Plot file 'crux_plot.png' to your laptop\n",
        "files.download(filename_plot)"
      ]
    },
    {
      "cell_type": "markdown",
      "metadata": {
        "id": "Tsyyo-oIF2V5"
      },
      "source": [
        "# **Crux Detection**"
      ]
    },
    {
      "cell_type": "code",
      "execution_count": null,
      "metadata": {
        "id": "2qWYkdaw82U2"
      },
      "outputs": [],
      "source": [
        "#@title Which Lexicon?\n",
        "\n",
        "Sentiment_Model = \"TextBlob\" #@param [\"VADER\", \"TextBlob\", \"DistilBERT\",\"RoBERTa_Twitter_NoEmoji\"]"
      ]
    },
    {
      "cell_type": "code",
      "execution_count": null,
      "metadata": {
        "cellView": "form",
        "colab": {
          "base_uri": "https://localhost:8080/",
          "height": 905
        },
        "id": "lkX5inEzkHiS",
        "outputId": "61b802cb-5ae8-49c3-e6c3-d348ea9a02f9"
      },
      "outputs": [
        {
          "output_type": "execute_result",
          "data": {
            "text/plain": [
              "<matplotlib.axes._subplots.AxesSubplot at 0x7f6e7d0b2d90>"
            ]
          },
          "metadata": {},
          "execution_count": 122
        },
        {
          "output_type": "stream",
          "name": "stderr",
          "text": [
            "<ipython-input-122-8f1c88701ec0>:31: PeakPropertyWarning: some peaks have a width of 0\n",
            "  peaks3, _ = find_peaks(x, width=width_min)\n",
            "<ipython-input-122-8f1c88701ec0>:39: PeakPropertyWarning: some peaks have a width of 0\n",
            "  valleys3, _ = find_peaks(x_inv, width=width_min)\n"
          ]
        },
        {
          "output_type": "display_data",
          "data": {
            "text/plain": [
              "<Figure size 2160x1440 with 4 Axes>"
            ],
            "image/png": "[encoded data removed]"
          },
          "metadata": {
            "needs_background": "light"
          }
        }
      ],
      "source": [
        "#@title Tune the main Hyperparameter for each of the 4 Peak Detection Algorithms:\n",
        "\n",
        "Distance_Min = 350 #@param {type:\"slider\", min:50, max:1000, step:10}\n",
        "Prominence_Min = 0.031 #@param {type:\"slider\", min:0.001, max:0.05, step:0.001}\n",
        "Width_Min = 40 #@param {type:\"slider\", min:10, max:500, step:5}\n",
        "Threshold_Min = 0.007 #@param {type:\"slider\", min:0.001, max:0.01, step:0.001}\n",
        "\n",
        "plt.rcParams['figure.figsize'] = [30, 20]\n",
        "\n",
        "model_name = f'{Sentiment_Model.lower()}_sma{window_percent}'\n",
        "# print(f'Plotting: {model_name}\\n')\n",
        "\n",
        "x = data_df[model_name]\n",
        "data_df[model_name].plot()\n",
        "\n",
        "# Peak Algo #1 (by Distance)\n",
        "distance_min = Distance_Min # 750\n",
        "\n",
        "# Peak Algo #2 (by Prominence)\n",
        "prominence_min = Prominence_Min # 0.01\n",
        "\n",
        "# Peak Algo #3 (by Width)\n",
        "width_min = Width_Min # 175\n",
        "\n",
        "# Peak Algo #4 (by Threshold)\n",
        "threshold_min = Threshold_Min # 0.001\n",
        "\n",
        "\n",
        "peaks, _ = find_peaks(x, distance=distance_min)\n",
        "peaks2, _ = find_peaks(x, prominence=prominence_min)      # BEST!\n",
        "peaks3, _ = find_peaks(x, width=width_min)\n",
        "peaks4, _ = find_peaks(x, threshold=threshold_min)     # Required vertical distance to its direct neighbouring samples, pretty useless\n",
        "\n",
        "\n",
        "x_inv = pd.Series([-x for x in data_df[model_name].to_list()])\n",
        "\n",
        "valleys, _ = find_peaks(x_inv, distance=distance_min)\n",
        "valleys2, _ = find_peaks(x_inv, prominence=prominence_min)      # BEST!\n",
        "valleys3, _ = find_peaks(x_inv, width=width_min)\n",
        "valleys4, _ = find_peaks(x_inv, threshold=threshold_min)     # Required vertical distance to its direct neighbouring samples, pretty useless\n",
        "\n",
        "\n",
        "_ = plt.subplot(2, 2, 1)\n",
        "_ = plt.grid(True, alpha=0.3)\n",
        "_ = plt.plot(x)\n",
        "_ = plt.title(f'Distance Peak Detection ({len(peaks)+len(valleys)} Cruxes) \\n {len(peaks)} Peaks & {len(valleys)} Valleys')\n",
        "_ = plt.plot(peaks, x[peaks], \"^g\", markersize=7)\n",
        "_ = plt.plot(valleys, x[valleys], \"vr\", markersize=7)\n",
        "for x_val in peaks:\n",
        "  _ = plt.text(x_val, x[x_val], f'-----{x_val}', ha='center', va='bottom', rotation=90, size='large', color='black', weight='semibold')\n",
        "for x_val in valleys:\n",
        "  _ = plt.text(x_val, x[x_val], f'-----{x_val}', ha='center', va='top', rotation=270, size='large', color='black', weight='semibold')\n",
        "\n",
        "_ = plt.subplot(2, 2, 2)\n",
        "_ = plt.grid(True, alpha=0.3)\n",
        "_ = plt.plot(x)\n",
        "_ = plt.title(f'Prominence Peak Detection ({len(peaks2)+len(valleys2)} Cruxes) \\n {len(peaks2)} Peaks & {len(valleys2)} Valleys')\n",
        "_ = plt.plot(peaks2, x[peaks2], \"^g\", markersize=7)\n",
        "_ = plt.plot(valleys2, x[valleys2], \"vr\", markersize=7)\n",
        "for x_val in peaks2:\n",
        "  _ = plt.text(x_val, x[x_val], f'-----{x_val}', ha='center', va='bottom', rotation=90, size='large', color='black', weight='semibold')\n",
        "for x_val in valleys2:\n",
        "  _ = plt.text(x_val, x[x_val], f'-----{x_val}', ha='center', va='top', rotation=270, size='large', color='black', weight='semibold')\n",
        "\n",
        "\n",
        "_ = plt.subplot(2, 2, 3)\n",
        "_ = plt.grid(True, alpha=0.3)\n",
        "_ = plt.plot(x)\n",
        "_ = plt.title(f'Width Peak Detection ({len(peaks3)+len(valleys3)} Cruxes) \\n {len(peaks3)} Peaks & {len(valleys3)} Valleys')\n",
        "_ = plt.plot(valleys3, x[valleys3], \"vr\", markersize=7)\n",
        "_ = plt.plot(peaks3, x[peaks3], \"^g\", markersize=7)\n",
        "for x_val in peaks3:\n",
        "  _ = plt.text(x_val, x[x_val], f'-----{x_val}', ha='center', va='bottom', rotation=90, size='large', color='black', weight='semibold')\n",
        "for x_val in valleys3:\n",
        "  _ = plt.text(x_val, x[x_val], f'-----{x_val}', ha='center', va='top', rotation=270, size='large', color='black', weight='semibold')\n",
        "\n",
        "\n",
        "_ = plt.subplot(2, 2, 4)\n",
        "_ = plt.grid(True, alpha=0.3)\n",
        "_ = plt.plot(x)\n",
        "_ = plt.title(f'Threshold Peak Detection ({len(peaks4)+len(valleys4)} Cruxes) \\n {len(peaks4)} Peaks & {len(valleys4)} Valleys')\n",
        "_ = plt.plot(valleys4, x[valleys4], \"vr\", markersize=7)\n",
        "_ = plt.plot(valleys4, x[valleys4], \"^g\", markersize=7)\n",
        "for x_val in peaks4:\n",
        "  _ = plt.text(x_val, x[x_val], f'-----{x_val}', ha='center', va='bottom', rotation=90, size='large', color='black', weight='semibold')\n",
        "for x_val in valleys4:\n",
        "  _ = plt.text(x_val, x[x_val], f'-----{x_val}', ha='center', va='top', rotation=270, size='large', color='black', weight='semibold')\n",
        "\n",
        "_ = plt.suptitle(f'Peak Detection of Twitter Sentiment Analysis\\nModel: {Sentiment_Model}\\n(SMA {window_percent}%)', fontsize=20)\n",
        "_ = plt.grid(True, alpha=0.3)\n",
        "\n",
        "_ = plt.show()"
      ]
    },
    {
      "cell_type": "code",
      "execution_count": null,
      "metadata": {
        "colab": {
          "base_uri": "https://localhost:8080/",
          "height": 860
        },
        "id": "h-jc8YkYz154",
        "outputId": "3758d801-cfa0-408b-ead5-29a035fa5610"
      },
      "outputs": [
        {
          "output_type": "error",
          "ename": "NameError",
          "evalue": "ignored",
          "traceback": [
            "\u001b[0;31m---------------------------------------------------------------------------\u001b[0m",
            "\u001b[0;31mNameError\u001b[0m                                 Traceback (most recent call last)",
            "\u001b[0;32m<ipython-input-123-3c40fb7f5a83>\u001b[0m in \u001b[0;36m<module>\u001b[0;34m\u001b[0m\n\u001b[1;32m     41\u001b[0m \u001b[0m_\u001b[0m \u001b[0;34m=\u001b[0m \u001b[0mplt\u001b[0m\u001b[0;34m.\u001b[0m\u001b[0mgrid\u001b[0m\u001b[0;34m(\u001b[0m\u001b[0;32mTrue\u001b[0m\u001b[0;34m,\u001b[0m \u001b[0malpha\u001b[0m\u001b[0;34m=\u001b[0m\u001b[0;36m0.3\u001b[0m\u001b[0;34m)\u001b[0m\u001b[0;34m\u001b[0m\u001b[0;34m\u001b[0m\u001b[0m\n\u001b[1;32m     42\u001b[0m \u001b[0;34m\u001b[0m\u001b[0m\n\u001b[0;32m---> 43\u001b[0;31m \u001b[0mfilename_plot\u001b[0m \u001b[0;34m=\u001b[0m \u001b[0;34mf\"twitter_plot_cruxes_{Sentiment_Model.lower()}_{search_str.replace(' ', '_')}_{start_date}_{start_time}_{end_date}_{end_time}.png\"\u001b[0m\u001b[0;34m\u001b[0m\u001b[0;34m\u001b[0m\u001b[0m\n\u001b[0m\u001b[1;32m     44\u001b[0m \u001b[0m_\u001b[0m \u001b[0;34m=\u001b[0m \u001b[0mplt\u001b[0m\u001b[0;34m.\u001b[0m\u001b[0msavefig\u001b[0m\u001b[0;34m(\u001b[0m\u001b[0mfilename_plot\u001b[0m\u001b[0;34m,\u001b[0m \u001b[0mdpi\u001b[0m\u001b[0;34m=\u001b[0m\u001b[0;36m300\u001b[0m\u001b[0;34m)\u001b[0m\u001b[0;34m\u001b[0m\u001b[0;34m\u001b[0m\u001b[0m\n\u001b[1;32m     45\u001b[0m \u001b[0m_\u001b[0m \u001b[0;34m=\u001b[0m \u001b[0mplt\u001b[0m\u001b[0;34m.\u001b[0m\u001b[0mshow\u001b[0m\u001b[0;34m(\u001b[0m\u001b[0;34m)\u001b[0m\u001b[0;34m;\u001b[0m\u001b[0;34m\u001b[0m\u001b[0;34m\u001b[0m\u001b[0m\n",
            "\u001b[0;31mNameError\u001b[0m: name 'search_str' is not defined"
          ]
        },
        {
          "output_type": "display_data",
          "data": {
            "text/plain": [
              "<Figure size 1440x720 with 1 Axes>"
            ],
            "image/png": "[encoded data removed]"
          },
          "metadata": {
            "needs_background": "light"
          }
        }
      ],
      "source": [
        "#@title Select a Peak Detection Algorithms to View in Detail (usually Distance or Width is best):\n",
        "\n",
        "plt.rcParams['figure.figsize'] = [20, 10]\n",
        "\n",
        "Peak_Algorithm = \"Prominence\" #@param [\"Distance\", \"Prominence\", \"Width\", \"Threshold\"]\n",
        "\n",
        "if Peak_Algorithm == 'Distance':\n",
        "  peaks = peaks\n",
        "  valleys = valleys\n",
        "elif Peak_Algorithm == 'Prominence':\n",
        "  peaks = peaks2\n",
        "  valleys = valleys2  \n",
        "elif Peak_Algorithm == 'Width':\n",
        "  peaks = peaks3\n",
        "  valleys = valleys3\n",
        "else:\n",
        "  # Assume Peak_Algorithm == 'Threshold'\n",
        "  peaks = peaks4\n",
        "  valleys = valleys4\n",
        "\n",
        "# model_name = f'{Sentiment_Model.lower()}_sma10'\n",
        "\n",
        "# x = novel_clean_df[model_name]\n",
        "\n",
        "# peaks2, _ = find_peaks(x, prominence=peak_prominence)  \n",
        "\n",
        "# x_inv = pd.Series([-x for x in novel_clean_df[model_name].to_list()])\n",
        "# valleys2, _ = find_peaks(x_inv, prominence=peak_prominence)     \n",
        "\n",
        "_ = plt.plot(x)\n",
        "_ = plt.plot(peaks, x[peaks], \"^g\", markersize=15, label='peak sentence#')\n",
        "_ = plt.plot(valleys, x[valleys], \"vr\", markersize=15, label='valley sentence#')\n",
        "for x_val in peaks:\n",
        "  _ = plt.text(x_val, x[x_val], f'    {x_val}', horizontalalignment='left', size='medium', color='black', weight='semibold')\n",
        "for x_val in valleys:\n",
        "  _ = plt.text(x_val, x[x_val], f'    {x_val}', horizontalalignment='left', size='medium', color='black', weight='semibold')\n",
        "_ = plt.title(f'{Peak_Algorithm} Peak Detection of Twitter Sentiment Analysis\\nTwitter Sentiment Model: {Sentiment_Model}\\n(SMA {window_percent}%)', fontsize=16)\n",
        "_ = plt.ylabel('Sentiment')\n",
        "_ = plt.xlabel('Sentence No.')\n",
        "_ = plt.legend(loc='best')\n",
        "_ = plt.grid(True, alpha=0.3)\n",
        "\n",
        "filename_plot = f\"twitter_plot_cruxes_{Sentiment_Model.lower()}_{search_str.replace(' ', '_')}_{start_date}_{start_time}_{end_date}_{end_time}.png\"\n",
        "_ = plt.savefig(filename_plot, dpi=300)\n",
        "_ = plt.show();\n",
        "\n",
        "# Download Crux Point Plot file 'crux_plot.png' to your laptop\n",
        "files.download(filename_plot)\n",
        "\n",
        "print(f'\\n\\n     >>>>> SAVED PLOT TO FILE: [{filename_plot}] <<<<<')"
      ]
    },
    {
      "cell_type": "markdown",
      "metadata": {
        "id": "Z6bmv1yCw4UB"
      },
      "source": [
        "# **Get Context around Crux Points**"
      ]
    },
    {
      "cell_type": "code",
      "execution_count": null,
      "metadata": {
        "cellView": "form",
        "id": "AgIQYvcP4ko8"
      },
      "outputs": [],
      "source": [
        "#@title How many Sentences around Crux Point do you want to view for context?\n",
        "\n",
        "Crux_Sentence_Context_Count = 19 #@param {type:\"slider\", min:1, max:20, step:1}\n"
      ]
    },
    {
      "cell_type": "code",
      "execution_count": null,
      "metadata": {
        "colab": {
          "base_uri": "https://localhost:8080/",
          "height": 1000
        },
        "id": "Ad86Yzl-E_yu",
        "outputId": "b0f80c5c-16fa-47c8-d7b7-40531c8d0680"
      },
      "outputs": [
        {
          "output_type": "stream",
          "name": "stdout",
          "text": [
            "==================================================\n",
            "============     Peak Crux Points   ==============\n",
            "==================================================\n",
            "\n",
            "\n",
            "Processing Peak #0...\n",
            "Peak #0 at Sentence #3588:\n",
            "\n",
            "@Browns yall won't ever win shit because yall snaked @huejack10 enjoy karma because hue would've had yall in go by now 🤡s 🏌‍♂️🏌‍♂️🏌‍♂️✌🏿✌🏿✌🏿\n",
            "@Browns @Drug_Mart Shit product again\n",
            "@ESPNCleveland @TheRealTRizzo @HammerNation19 @TheOGPAW #miserablemonday @Browns\n",
            "#PMSIDontWantToOverreactBUT Kevin Stefanski and the @Browns fucking stink.. 4th and 3 and your bring 7 in to throw the ball, getthafuckotttaheeeerr\n",
            "@RichardMise66 @412Tickets @Browns @AcrisureStadium @crliss21 @Becca03839887 @becky2175 @A33Amy @ay_taybay @HollywoodLowman @hollywoood316 @pensgirl1023 @CelticKim1 @standinNsmilin @steelercam @sportsbunni @aliciadawnnnnn @Urunderarrest @DangEyler23 @mr_steelerz_man @TheMicDr Thanks Rich &amp; good luck.\n",
            "@412Tickets @Browns @AcrisureStadium @colt45765 @marydomec79 Already did 😊\n",
            "@412Tickets @Browns @AcrisureStadium Good morning, and thanks, @412Tickets.\n",
            "@ToobyK2 @AznVenom \n",
            "\n",
            "6th Day of #ChristmasGiveaway Extravaganza \n",
            "🦌🎄🎅☃️❄️\n",
            "\n",
            "Here We Go! Let's go Steelers! Steel that Victory! 🦾🦿\n",
            "@412Tickets @Browns @AcrisureStadium 228, thank you for the opportunity! @CandaceDyer1303\n",
            "@412Tickets @Browns @AcrisureStadium Good morning 412! @LuisDia56521670  @MrsOTeachesK #ChristmasGiveaway ? /Cash\n",
            "$HeatherB830  Have a good day!!\n",
            "@412TICKETS @BROWNS @ACRISURESTADIUM @MARTICIO14 🤞🤞\n",
            "@412Tickets @Browns @AcrisureStadium @AmyMBerrios4 @ramblingofdiane @Jaiko1975\n",
            "@412Tickets @Browns @AcrisureStadium @BevyBlagg 🤞🤞\n",
            "@carlymersky Could be worse… Try being a @browns fans.\n",
            "@Jamie44938730 @412Tickets @Browns @AcrisureStadium @DangEyler23 @crliss21 @standinNsmilin @Becca03839887 @becky2175 @pghchris36412 @steelercam @gemi6615 @KatieTalksPens @pensgirl1023 @Puanani322 @chanda_ozdemir @patti_wambold @Javelinas1355 @steelers4lifeFL @Steelersgirl217 @Steelcitygirl6 Good luck Jamie! Thanks!\n",
            "@412Tickets @Browns @AcrisureStadium Thank you so much for the chance! @amweeks00 @mrswolfsmith @Dellaco13261223 @LisaSchalow @lleaf8853 @Wendy92246043 @bakermama63 @Kirstielippxo\n",
            "@412Tickets @Browns @AcrisureStadium @Jmuilenburg6 Good morning!!!\n",
            "@412Tickets @Browns @AcrisureStadium Good morning all!! \n",
            "@MccurdyArlene\n",
            "@412Tickets @Browns @AcrisureStadium @nfplabrat @SylviaLarkin17 @KMoser222 Happy Monday!\n",
            "\n",
            "\n",
            "\n",
            "Processing Peak #1...\n",
            "Peak #1 at Sentence #9288:\n",
            "\n",
            "@Browns @Wino @BrownsGiveBack #Give10 let’s goooo\n",
            "Fmr @NFL players ask who's gonna discipline Pro Players!? @intha_dawgpound is @Browns podcast w/ fmr players @miketomczak18 @BigMouthLeroy @HanfordDixon29 @frank_stams @EricMetcalf21 Full EPs @Spotify @ApplePodcasts @IHeartRadio #raw #unfiltered #football https://t.co/Bdpb63IV3X\n",
            "@maherkevin0 @richeisen @Ravens @Browns @kurt13warner @nflnetwork https://t.co/5wosijBClF\n",
            "@Browns @Wino @BrownsGiveBack #give10\n",
            "@richeisen @Ravens @Browns @kurt13warner @nflnetwork I hope the Seahawks beat the 49ers\n",
            "@Browns @Wino @BrownsGiveBack #give10\n",
            "@richeisen @Ravens @Browns @kurt13warner @nflnetwork @BussinWTB now is your chance.\n",
            "@richeisen @markolwick @Ravens @Browns @kurt13warner @nflnetwork @RichEisenShow @Roku @TheRokuChannel I catch it on YouTube and enjoy being able to Cherry Pick segments as I don't have a lot of time for TV. One of my favorite and few channels I've subscribed to.\n",
            "Creative Converting Officially Licensed NFL Printed Plastic Cups, 8-Count, 20-Ounce, Cleveland Browns - MCFWRFZ\n",
            "\n",
            "https://t.co/mbYkbG6IPu https://t.co/eQB467zZHN\n",
            "@BROWNS @WINO @BROWNSGIVEBACK #GIVE10\n",
            "@Moto_Scott24 @Ravens @Browns @kurt13warner @nflnetwork Everything. I loved it. Loved meeting the people. Loved being in the area. Loved my co-workers. Loved covering the local scene and cutting my teeth. Loved all of it.\n",
            "@richeisen @Ravens @Browns @kurt13warner @nflnetwork What is the most fascinating thing you have seen from an airplane?\n",
            "The Ravens can eliminate the Cleveland Browns from playoff contention with a win + any of the following:\n",
            "1. Chargers win\n",
            "2. Jets win\n",
            "3. Patriots win\n",
            "@SchwinnJack @richeisen @Ravens @Browns @kurt13warner @nflnetwork Absolutely, This is the best D they've had since Mahomes has been there, they're still extremely average maybe even slightly under average but at least they're not one of the worst 3 units in the league like they have been every other year.\n",
            "@unlvkelly @Browns Donovan People Jones is really underrated\n",
            "@richeisen @Ravens @Browns @kurt13warner @nflnetwork Go Blue!\n",
            "@richeisen @Ravens @Browns @kurt13warner @nflnetwork Favorite professor at @UMich ? Also #GoBlue\n",
            "@Browns @Wino @BrownsGiveBack #Give10\n",
            "\n",
            "\n",
            "\n",
            "==================================================\n",
            "===========     Crux Valley Points    ============\n",
            "==================================================\n",
            "\n",
            "\n",
            "Processing Valley #0\n",
            "Valley #0 at Sentence #5826:\n",
            "\n",
            "@Poppawolf1 @Browns @deshaunwatson Well maybe you can follow brissett to his new team\n",
            "@Tjsr_Gf @Browns @Gbush91 @Kwen_C But I contribute most of that towards Joe Woods playcalling and him trying to use the athletic ability to make up for what Joe woods calling. I just feel a bust label is too soon. Now Jedrick and Grant, they right on the bust line\n",
            "@John_Sabol Probably the dumbest play caught in the history of Cleveland Brown’s football, and that’s saying a lot\n",
            "@BaldyNFL @Browns @Bengals Yeah, this is the one at the beginning of the game. What about all the one's where the receivers couldn't get open? A point was even made during the broadcast that the Browns receivers weren't getting open. Yet you pick the one time where they were open.\n",
            "Who will start at QB for the #Ravens when they visit Cleveland? \n",
            "\n",
            "We know Deshaun Watson will be under center for the #Browns. \n",
            "\n",
            "\"We want to give him a not-so-soft welcoming\" to the rivalry.\n",
            "\n",
            "https://t.co/6VVxHx3aZ0\n",
            "@grant_puskar_ Back in 2007ish we beat Cincinnati and my dad was working around there and the radio host lost it saying how Cleveland is scum and the Bengals should fire everyone bc they lost to those Dirty Browns. \n",
            "   That's why I hate them.\n",
            "@CBSSports FAKE NEWS. He did not start a game for the @Browns this season. He was traded to the @Panthers in July. The season wasn’t going on then when the trade was made. Fix your post. Mayfield started six games for the Panthers and will start for the Rams this weekend. https://t.co/6eIYmf0PB2\n",
            "Chief dove into the end zone for Deshaun's first touchdown with the #Browns \n",
            "\n",
            "📺: #BALvsCLE Sat. on NFLN https://t.co/ztbC4kgVzt\n",
            "@Browns more to come 🫣\n",
            "@BROWNS HTTPS://T.CO/WF5XI0ZAJV HTTPS://T.CO/7C7XKTNKB0\n",
            "@Browns Next year we should be ready to handle business\n",
            "@Browns Fire Stefanski and DePodesta!\n",
            "Why Browns’ injuries create uncertainty for this week, the stretch run and beyond #ClevelandBrowns #Browns #BrownsNation #GoBrowns https://t.co/pHlRWIBkd0\n",
            "@CapSportsReport @CBSSports @Browns @Panthers calendar year seu animal\n",
            "NFL Transactions: Tuesday 12/13 #ClevelandBrowns #Browns #BrownsNation #GoBrowns https://t.co/OZv7tLpfyM\n",
            "@Tjsr_Gf @Browns @Gbush91 @Kwen_C I just feel he’s overthinking it to be honest. I wanna see him under a good DC and see what he can do before I write him off\n",
            "@CapSportsReport @CBSSports @Browns @Panthers He played 1/3/21 against the Steelers\n",
            "#JackConklin, 2022 #Browns #EdBlock Award Winner, Wants To Stay In Cleveland https://t.co/QtkSrQWuQn\n",
            "Cincinnati Bengals FINALLY Beat the Cleveland Browns https://t.co/QA9DBxll4E via @YouTube\n",
            "\n",
            "#bengalsgeniusshow #bengals #cincinnati\n",
            "\n",
            "\n",
            "\n"
          ]
        },
        {
          "output_type": "error",
          "ename": "NameError",
          "evalue": "ignored",
          "traceback": [
            "\u001b[0;31m---------------------------------------------------------------------------\u001b[0m",
            "\u001b[0;31mNameError\u001b[0m                                 Traceback (most recent call last)",
            "\u001b[0;32m<ipython-input-125-2b6802620a99>\u001b[0m in \u001b[0;36m<module>\u001b[0;34m\u001b[0m\n\u001b[1;32m     59\u001b[0m   \u001b[0moutput_ls\u001b[0m\u001b[0;34m.\u001b[0m\u001b[0mappend\u001b[0m\u001b[0;34m(\u001b[0m\u001b[0;34mf\"Valley #{i} at Sentence #{avalley}:\\n\\n{nl.join(crux_sents_ls)}\\n\\n\\n\"\u001b[0m\u001b[0;34m)\u001b[0m\u001b[0;34m\u001b[0m\u001b[0;34m\u001b[0m\u001b[0m\n\u001b[1;32m     60\u001b[0m \u001b[0;34m\u001b[0m\u001b[0m\n\u001b[0;32m---> 61\u001b[0;31m \u001b[0mfilename_cruxes\u001b[0m \u001b[0;34m=\u001b[0m \u001b[0;34mf\"twitter_cruxes_context_{Sentiment_Model.lower()}_{search_str.replace(' ', '_')}_{start_date}_{start_time}_{end_date}_{end_time}.txt\"\u001b[0m\u001b[0;34m\u001b[0m\u001b[0;34m\u001b[0m\u001b[0m\n\u001b[0m\u001b[1;32m     62\u001b[0m \u001b[0;34m\u001b[0m\u001b[0m\n\u001b[1;32m     63\u001b[0m \u001b[0moutput_str\u001b[0m \u001b[0;34m=\u001b[0m \u001b[0;34m' '\u001b[0m\u001b[0;34m.\u001b[0m\u001b[0mjoin\u001b[0m\u001b[0;34m(\u001b[0m\u001b[0moutput_ls\u001b[0m\u001b[0;34m)\u001b[0m\u001b[0;34m\u001b[0m\u001b[0;34m\u001b[0m\u001b[0m\n",
            "\u001b[0;31mNameError\u001b[0m: name 'search_str' is not defined"
          ]
        }
      ],
      "source": [
        "# Print Context around each Sentiment Peak\n",
        "\n",
        "output_ls = []\n",
        "\n",
        "halfwin = int(Crux_Sentence_Context_Count/2)\n",
        "crux_sents_ls = []\n",
        "nl = '\\n'\n",
        "\n",
        "print('==================================================')\n",
        "print('============     Peak Crux Points   ==============')\n",
        "print('==================================================\\n\\n')\n",
        "\n",
        "output_ls.append('==================================================')\n",
        "output_ls.append('============     Peak Crux Points   ==============')\n",
        "output_ls.append('==================================================\\n\\n')\n",
        "\n",
        "# for i, apeak in enumerate(peaks2):\n",
        "for i, apeak in enumerate(peaks):\n",
        "  print(f'Processing Peak #{i}...')\n",
        "  crux_sents_ls = []\n",
        "  indx_start = apeak-halfwin\n",
        "  indx_start = max(indx_start, 0)\n",
        "  indx_end = apeak+halfwin\n",
        "  indx_end = min(indx_end, data_df.shape[0])\n",
        "  for sent_idx in range(indx_start, indx_end):\n",
        "    sent_cur = data_df.iloc[sent_idx].text_raw\n",
        "    if sent_idx == apeak:\n",
        "      sent_str = sent_cur.upper()\n",
        "    else:\n",
        "      sent_str = sent_cur\n",
        "    crux_sents_ls.append(sent_str)\n",
        "  \n",
        "  # context_ls = data_df.iloc[apeak-halfwin:apeak+halfwin].text_raw\n",
        "  print(f\"Peak #{i} at Sentence #{apeak}:\\n\\n{nl.join(crux_sents_ls)}\\n\\n\\n\")\n",
        "  output_ls.append(f\"Peak #{i} at Sentence #{apeak}:\\n\\n{nl.join(crux_sents_ls)}\\n\\n\\n\")\n",
        "\n",
        "print('==================================================')\n",
        "print('===========     Crux Valley Points    ============')\n",
        "print('==================================================\\n\\n')\n",
        "\n",
        "output_ls.append('==================================================')\n",
        "output_ls.append('===========     Crux Valley Points    ============')\n",
        "output_ls.append('==================================================\\n\\n')\n",
        "\n",
        "# for i, avalley in enumerate(valleys2):\n",
        "for i, avalley in enumerate(valleys):\n",
        "  print(f'Processing Valley #{i}')\n",
        "  crux_sents_ls = []\n",
        "  for sent_idx in range(avalley-halfwin,avalley+halfwin+1):\n",
        "    sent_cur = data_df.iloc[sent_idx].text_raw\n",
        "    if sent_idx == avalley:\n",
        "      sent_str = sent_cur.upper()\n",
        "    else:\n",
        "      sent_str = sent_cur\n",
        "    crux_sents_ls.append(sent_str)\n",
        "\n",
        "  # context_ls = novel_df.iloc[avalley-halfwin:avalley+halfwin].text_raw\n",
        "  print(f\"Valley #{i} at Sentence #{avalley}:\\n\\n{nl.join(crux_sents_ls)}\\n\\n\\n\")\n",
        "  output_ls.append(f\"Valley #{i} at Sentence #{avalley}:\\n\\n{nl.join(crux_sents_ls)}\\n\\n\\n\")\n",
        "\n",
        "filename_cruxes = f\"twitter_cruxes_context_{Sentiment_Model.lower()}_{search_str.replace(' ', '_')}_{start_date}_{start_time}_{end_date}_{end_time}.txt\" \n",
        "\n",
        "output_str = ' '.join(output_ls)\n",
        "\n",
        "with open(filename_cruxes, 'w') as f:\n",
        "    f.write(output_str)\n",
        "\n",
        "# Download Crux Point Report file 'cruxes.txt' to your laptop\n",
        "files.download(filename_cruxes)"
      ]
    },
    {
      "cell_type": "code",
      "execution_count": null,
      "metadata": {
        "colab": {
          "base_uri": "https://localhost:8080/"
        },
        "id": "VZ0k6pVjsaIX",
        "outputId": "6b30dd74-a5d6-4254-bf1c-2c4e4945a0f5"
      },
      "outputs": [
        {
          "output_type": "stream",
          "name": "stdout",
          "text": [
            "^C\n"
          ]
        }
      ],
      "source": [
        "!cat $filename_cruxes"
      ]
    },
    {
      "cell_type": "markdown",
      "metadata": {
        "id": "zIclXwPYXYm9"
      },
      "source": [
        "# **END OF NOTEBOOK**"
      ]
    }
  ],
  "metadata": {
    "colab": {
      "collapsed_sections": [
        "3Y24MEWZczqs",
        "2oygQf4PtN-5",
        "mujSX6yGnMzV",
        "B_DEOrrfnQKT",
        "UTLV5VsuEuyJ",
        "zIclXwPYXYm9"
      ],
      "provenance": [],
      "toc_visible": true,
      "machine_shape": "hm",
      "include_colab_link": true
    },
    "gpuClass": "standard",
    "kernelspec": {
      "display_name": "Python 3",
      "name": "python3"
    },
    "language_info": {
      "name": "python"
    }
  },
  "nbformat": 4,
  "nbformat_minor": 0
}